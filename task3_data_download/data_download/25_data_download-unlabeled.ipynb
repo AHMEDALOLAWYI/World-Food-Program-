{
 "cells": [
  {
   "cell_type": "code",
   "execution_count": 1,
   "metadata": {
    "ExecuteTime": {
     "end_time": "2019-07-30T09:04:31.556881Z",
     "start_time": "2019-07-30T09:04:29.970715Z"
    }
   },
   "outputs": [],
   "source": [
    "import pandas as pd\n",
    "import ee\n",
    "from collections import defaultdict\n",
    "import numpy as np\n",
    "import datetime\n",
    "ee.Initialize()\n",
    "import random"
   ]
  },
  {
   "cell_type": "markdown",
   "metadata": {},
   "source": [
    "# Parameters"
   ]
  },
  {
   "cell_type": "code",
   "execution_count": 2,
   "metadata": {
    "ExecuteTime": {
     "end_time": "2019-07-30T09:04:31.563931Z",
     "start_time": "2019-07-30T09:04:31.558405Z"
    }
   },
   "outputs": [],
   "source": [
    "# GOOGLE DRIVE FOLDER\n",
    "GDRIVE_FOLDER = 'wfp-allbands-unsup-1'\n",
    "\n",
    "# 13 bands or RGB?\n",
    "ALL_BANDS = True\n",
    "\n",
    "\n",
    "\n",
    "# NUMBER OF FILES TO DOWNLOAD\n",
    "DOWNLOAD_NB_FILES = 40\n",
    "\n",
    "# RADIUS AROUND COORD IN METERS\n",
    "# This is the number of meter around the point coordinate to include in the picture\n",
    "RADIUS_AROUND = 400\n",
    "\n",
    "\n",
    "# RANGES FOR BANDS\n",
    "# Values tested on different location in nepal\n",
    "# Hypothesis: Should be the same for all images\n",
    "RANGE_MIN = 0\n",
    "RANGE_MAX = 2000\n",
    "\n",
    "\n",
    "# RANGE FOR DATES\n",
    "# we need to take several pictures to select ones without clouds\n",
    "# We look for RANDE_DATE weeks around the date\n",
    "RANDE_DATE = 2\n",
    "\n",
    "# TIME OF INTEREST\n",
    "# A random date is selected between TOI_BEGIN and TOI_END\n",
    "TOI_BEGIN = '01/01/2016'\n",
    "TOI_END = '01/06/2019'\n",
    "\n",
    "# MAXIMUM % OF CLOUDS\n",
    "MAX_CLOUDS = 10\n",
    "\n",
    "# LAUNCH EXPORT\n",
    "LAUNCH_EXPORT = True\n",
    "\n",
    "# REGION TO TAKE PICTURE FROM\n",
    "NEPAL = ee.Geometry.Polygon([[84.46716739280828,29.108665503908366],\n",
    "[82.84929902963563,29.95080069391136],\n",
    "[81.9899776971655,30.413866129203402],\n",
    "[81.01575580840813,30.491203262843925],\n",
    "[79.96277286155828,28.849173773303857],\n",
    "[82.82709294386302,27.405490759555242],\n",
    "[83.79152604893773,27.280548634789366],\n",
    "[84.12517363514314,27.354698207754293],\n",
    "[84.61046405920763,27.23515863534531],\n",
    "[84.56770354968148,26.99802099337535],\n",
    "[86.30188418968328,26.48893917833053],\n",
    "[86.80725528343328,28.128845548855082],\n",
    "[85.631313693822,28.638952723497773],\n",
    "[84.46716739280828,29.108665503908366]])"
   ]
  },
  {
   "cell_type": "markdown",
   "metadata": {},
   "source": [
    "# Google Earth Engine download\n"
   ]
  },
  {
   "cell_type": "code",
   "execution_count": 3,
   "metadata": {
    "ExecuteTime": {
     "end_time": "2019-07-30T09:04:31.572735Z",
     "start_time": "2019-07-30T09:04:31.565339Z"
    }
   },
   "outputs": [],
   "source": [
    "# HELPER FUNCTIONS\n",
    "\n",
    "def stringify_date(date):\n",
    "    #return f'{date.day}/{date.month}/{date.year}'\n",
    "    \n",
    "    return date.strftime(\"%d/%m/%Y\")\n",
    "\n",
    "def get_name_im(x, y, date):\n",
    "    return f\"{str(x)[:9].replace('.', '-')}_{str(y)[:9].replace('.', '-')}_{date}\"\n",
    "\n",
    "def random_date(start, end):\n",
    "    \"\"\"Generate a random datetime between `start` and `end`\"\"\"\n",
    "    return start + datetime.timedelta(\n",
    "        # Get a random amount of seconds between `start` and `end`\n",
    "        seconds=random.randint(0, int((end - start).total_seconds())),\n",
    "    )\n",
    "def get_date(data_str):\n",
    "    d, m, y = data_str.split('/')\n",
    "    \n",
    "    return datetime.date(int(y), int(m), int(d))\n",
    "\n",
    "def get_random_coordinate(geometry):\n",
    "    rd_points = ee.FeatureCollection.randomPoints(geometry,1, random.randint(0, 1e10))\n",
    "    \n",
    "    return rd_points.getInfo()['features'][0]['geometry']['coordinates']\n",
    "\n",
    "# Generate a rectangle containing the circle (centered on the coordinate) with radius RADIUS_AROUND\n",
    "def get_geometry_radius(geometry_point):\n",
    "    coord = np.array(geometry_point.getInfo()['coordinates'][0])\n",
    "    return ee.Geometry.Rectangle([coord[:, 0].min(), coord[:, 1].min(), coord[:, 0].max(), coord[:, 1].max()])\n",
    "\n",
    "# Generate the dates around the observation date\n",
    "def date_range_to_collect(input_date, debug=False):\n",
    "    d, m, y = input_date.split('/')\n",
    "        \n",
    "    target_date = datetime.date(int(y), int(m), int(d))\n",
    "    delta = datetime.timedelta(weeks=RANDE_DATE)\n",
    "    return target_date-delta, target_date+delta"
   ]
  },
  {
   "cell_type": "code",
   "execution_count": null,
   "metadata": {
    "ExecuteTime": {
     "end_time": "2019-07-29T14:47:12.138381Z",
     "start_time": "2019-07-29T14:47:12.132897Z"
    }
   },
   "outputs": [],
   "source": []
  },
  {
   "cell_type": "code",
   "execution_count": null,
   "metadata": {
    "ExecuteTime": {
     "end_time": "2019-07-29T14:46:59.287306Z",
     "start_time": "2019-07-29T14:46:59.284870Z"
    }
   },
   "outputs": [],
   "source": []
  },
  {
   "cell_type": "code",
   "execution_count": 4,
   "metadata": {
    "ExecuteTime": {
     "end_time": "2019-07-30T09:04:31.580920Z",
     "start_time": "2019-07-30T09:04:31.574063Z"
    }
   },
   "outputs": [],
   "source": [
    "def generate_images_random(image_collection, debug=True):\n",
    "  \n",
    "\n",
    "        start = get_date(TOI_BEGIN)\n",
    "        end = get_date(TOI_END)\n",
    "        \n",
    "        date = random_date(start, end)\n",
    "        \n",
    "        x,y = get_random_coordinate(NEPAL)\n",
    "        \n",
    "        generate_image(image_collection, x, y, stringify_date(date), get_name_im(x,y,date), debug)\n",
    "\n",
    "\n",
    "def generate_image(image_collection, x, y, date, image_name, debug=True):\n",
    "    if debug: print(f'Working on {image_name}: ({x}, {y}) on {date}')\n",
    "    geo = ee.Geometry.Point(x, y);\n",
    "    radius = geo.buffer(RADIUS_AROUND);\n",
    "    geometry_radius= get_geometry_radius(radius)\n",
    "    \n",
    "    spatialFiltered = image_collection.filterBounds(geo)\n",
    "\n",
    "    date_range = date_range_to_collect(date, debug)\n",
    "    if debug: print('date range:' + str(date_range[0]) + str(date_range[1]))\n",
    "    temporalFiltered = spatialFiltered.filterDate(str(date_range[0]), str(date_range[1]))\n",
    "\n",
    "\n",
    "    least_clouds = temporalFiltered.sort('CLOUD_PIXEL_PERCENTAGE').first()\n",
    "\n",
    "\n",
    "\n",
    "    if ALL_BANDS:\n",
    "        testimg = least_clouds.select('B.+')\n",
    "    else:\n",
    "        testimg = least_clouds.visualize(bands=['B4', 'B3', 'B2'], min=RANGE_MIN, max=RANGE_MAX)\n",
    "        \n",
    "    if LAUNCH_EXPORT:\n",
    "        task = ee.batch.Export.image.toDrive(testimg, folder=GDRIVE_FOLDER, region=geometry_radius.getInfo()['coordinates'][0], description=image_name, scale=10)\n",
    "        task.start()\n"
   ]
  },
  {
   "cell_type": "code",
   "execution_count": 5,
   "metadata": {
    "ExecuteTime": {
     "end_time": "2019-07-30T09:04:44.490663Z",
     "start_time": "2019-07-30T09:04:31.582270Z"
    }
   },
   "outputs": [
    {
     "name": "stdout",
     "output_type": "stream",
     "text": [
      "\n",
      "Working on 85-005396_28-765121_2019-01-25: (85.0053969552374, 28.76512153096905) on 25/01/2019\n",
      "date range:2019-01-112019-02-08\n",
      "\n",
      "Working on 83-233625_29-490489_2017-04-12: (83.23362538137575, 29.4904897516145) on 12/04/2017\n",
      "date range:2017-03-292017-04-26\n",
      "\n",
      "Working on 81-320737_28-967687_2016-05-24: (81.3207372772009, 28.967687534927936) on 24/05/2016\n",
      "date range:2016-05-102016-06-07\n",
      "\n",
      "Working on 84-749490_27-052825_2017-07-03: (84.74949022482048, 27.052825819484337) on 03/07/2017\n",
      "date range:2017-06-192017-07-17\n",
      "\n",
      "Working on 83-946094_27-360119_2016-04-01: (83.94609451706732, 27.36011996738946) on 01/04/2016\n",
      "date range:2016-03-182016-04-15\n",
      "\n",
      "Working on 83-135956_27-539027_2018-06-17: (83.13595642965633, 27.539027657488933) on 17/06/2018\n",
      "date range:2018-06-032018-07-01\n",
      "\n",
      "Working on 82-786748_28-907205_2017-07-22: (82.78674899092245, 28.907205479802258) on 22/07/2017\n",
      "date range:2017-07-082017-08-05\n",
      "\n",
      "Working on 85-062190_28-490729_2016-10-17: (85.06219056410055, 28.49072905321274) on 17/10/2016\n",
      "date range:2016-10-032016-10-31\n",
      "\n",
      "Working on 81-836657_28-710353_2019-02-21: (81.83665756156677, 28.710353624352997) on 21/02/2019\n",
      "date range:2019-02-072019-03-07\n",
      "\n",
      "Working on 81-108727_29-938655_2019-04-17: (81.10872771425792, 29.93865515534671) on 17/04/2019\n",
      "date range:2019-04-032019-05-01\n"
     ]
    }
   ],
   "source": [
    "dataset = ee.ImageCollection('COPERNICUS/S2').filterMetadata('CLOUDY_PIXEL_PERCENTAGE', 'less_than',MAX_CLOUDS)\n",
    "\n",
    "for i, point in enumerate(range(DOWNLOAD_NB_FILES)):\n",
    "    generate_images_random(dataset)"
   ]
  }
 ],
 "metadata": {
  "kernelspec": {
   "display_name": "Python 3",
   "language": "python",
   "name": "python3"
  },
  "language_info": {
   "codemirror_mode": {
    "name": "ipython",
    "version": 3
   },
   "file_extension": ".py",
   "mimetype": "text/x-python",
   "name": "python",
   "nbconvert_exporter": "python",
   "pygments_lexer": "ipython3",
   "version": "3.7.3"
  }
 },
 "nbformat": 4,
 "nbformat_minor": 2
}
