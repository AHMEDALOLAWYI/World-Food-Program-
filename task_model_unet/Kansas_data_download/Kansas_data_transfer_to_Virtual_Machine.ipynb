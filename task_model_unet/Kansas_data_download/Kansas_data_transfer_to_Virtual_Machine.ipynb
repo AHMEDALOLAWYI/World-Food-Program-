{
 "cells": [
  {
   "cell_type": "markdown",
   "metadata": {},
   "source": [
    "# Transferring data from GDrive to GCP VM"
   ]
  },
  {
   "cell_type": "markdown",
   "metadata": {},
   "source": [
    "I'm working on GCP VM, so i need to transfer downloaded files from my GDrive into this, VM space. I can simply do it, by installing gdrive driver and excecuting the shell command"
   ]
  },
  {
   "cell_type": "markdown",
   "metadata": {},
   "source": [
    "Manual for gdrive driver: https://github.com/gdrive-org/gdrive"
   ]
  },
  {
   "cell_type": "code",
   "execution_count": null,
   "metadata": {},
   "outputs": [],
   "source": [
    "# # listing number of files in remote GDrive directory:\n",
    "# gdrive list --query \" '1ir5flCzNXJt4_0yg3k-rLSIfxRIinAIS' in parents\" -m 4000 | wc -l\n",
    "# with -m meaning max files number to list, default 30"
   ]
  },
  {
   "cell_type": "code",
   "execution_count": 1,
   "metadata": {},
   "outputs": [],
   "source": [
    "## 1. Install drivers for gdrive just once\n",
    "# !curl https://docs.google.com/uc?id=0B3X9GlR6EmbnWksyTEtCM0VfaFE&export=download\n",
    "# !chmod +x gdrive\n",
    "# !sudo install gdrive /usr/local/bin/gdrive"
   ]
  },
  {
   "cell_type": "code",
   "execution_count": null,
   "metadata": {},
   "outputs": [],
   "source": [
    "# # example of geting all files the folder on GDrive\n",
    "# gdrive download -r --path \"path_to_local_folder\" <googledrive folder id>\n",
    "## -r for recursive, because of allegedly threre happens to be same names...\n",
    "\n",
    "# !gdrive download -r --path /home/jupyter/data/ 1ir5flCzNXJt4_0yg3k-rLSIfxRIinAIS\n",
    "\n",
    "# unfortunately, there's no working flag to skip already downloaded files, so when downloading breaks, you need to start from scratch...\n",
    "# the issue is open so you might consider contributing to the repo here: https://github.com/gdrive-org/gdrive/issues/353"
   ]
  }
 ],
 "metadata": {
  "kernelspec": {
   "display_name": "Python 3",
   "language": "python",
   "name": "python3"
  },
  "language_info": {
   "codemirror_mode": {
    "name": "ipython",
    "version": 3
   },
   "file_extension": ".py",
   "mimetype": "text/x-python",
   "name": "python",
   "nbconvert_exporter": "python",
   "pygments_lexer": "ipython3",
   "version": "3.7.3"
  }
 },
 "nbformat": 4,
 "nbformat_minor": 2
}
