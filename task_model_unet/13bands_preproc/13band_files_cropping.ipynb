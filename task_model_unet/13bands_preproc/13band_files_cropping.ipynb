{
 "cells": [
  {
   "cell_type": "markdown",
   "metadata": {},
   "source": [
    "## Notebook can be used for cropping tiff images... works for 13 bands\n",
    "\n",
    "based on https://github.com/omdena/wfp/blob/master/task4_resnet/13bands/data_preprocessing-allbands.ipynb"
   ]
  },
  {
   "cell_type": "code",
   "execution_count": 6,
   "metadata": {},
   "outputs": [],
   "source": [
    "from PIL import Image\n",
    "from matplotlib.pyplot import imshow\n",
    "from pathlib import Path\n",
    "from tqdm import tqdm\n",
    "import numpy as np\n",
    "from os import scandir, walk, listdir\n",
    "from os.path import isfile, join\n",
    "from skimage import io\n",
    "import os\n",
    "import shutil"
   ]
  },
  {
   "cell_type": "code",
   "execution_count": 7,
   "metadata": {},
   "outputs": [],
   "source": [
    "LAUNCH = True"
   ]
  },
  {
   "cell_type": "code",
   "execution_count": 8,
   "metadata": {},
   "outputs": [],
   "source": [
    "def open_allbands(path):\n",
    "    return io.imread(str(path))\n",
    "\n",
    "def center_crop_allbands(img, new_width=64, new_height=None):        \n",
    "\n",
    "    \n",
    "    height = img.shape[0]\n",
    "    width = img.shape[1]\n",
    "\n",
    "    if new_height is None:\n",
    "        new_height = new_width\n",
    "\n",
    "    left = int(np.ceil((width - new_width) / 2))\n",
    "    right = width - int(np.floor((width - new_width) / 2))\n",
    "\n",
    "    top = int(np.ceil((height - new_height) / 2))\n",
    "    bottom = height - int(np.floor((height - new_height) / 2))\n",
    "    \n",
    "    #print(f'left {left}, right {right}, top {top}, bottom {bottom}')\n",
    "\n",
    "   \n",
    "    center_cropped_img = img[top:bottom,left:right,:]\n",
    "    \n",
    "    assert((center_cropped_img.shape[0] == new_height) and (center_cropped_img.shape[1] == new_width))\n",
    "\n",
    "    return center_cropped_img\n",
    "\n",
    "def crop_on_img_allbands(filename, path_target, size=64):\n",
    "    img = open_allbands(filename)\n",
    "    img = center_crop_allbands(img, size, size)\n",
    "    print(path_target+filename.stem+'.tif')\n",
    "    #img.save(path_target+filename.stem+'.tif')\n",
    "    np.save(path_target+filename.stem+'.npy', img)\n",
    "    return img"
   ]
  },
  {
   "cell_type": "code",
   "execution_count": 4,
   "metadata": {
    "scrolled": true
   },
   "outputs": [],
   "source": [
    "# crop_on_img_allbands(Path('/home/jupyter/data/WFP_Nepal_13Bands_Scale10/wheat_Oct16_85-80621341_27-5942076_20161030T044922_img_2.tif'), 'test_redim.npy')"
   ]
  },
  {
   "cell_type": "code",
   "execution_count": 2,
   "metadata": {
    "scrolled": false
   },
   "outputs": [],
   "source": [
    "%%time\n",
    "\n",
    "# path_source = '/home/jupyter/data/WFP_Nepal_13Bands_Scale10/'\n",
    "path_source = '/home/jupyter/data/kansas_13bands/'\n",
    "\n",
    "# 64, 256, 500\n",
    "size = 500\n",
    "\n",
    "path_target = path_source + 'cropped_{}/'.format(size)\n",
    "\n",
    "# get masks names in order to generate cropped files only for existing mask files.\n",
    "mask_files = [f for f in listdir(path_source) if isfile(join(path_source, f))]\n",
    "\n",
    "# recreate the dir for given cropped format\n",
    "if os.path.exists(path_target):\n",
    "    shutil.rmtree(path_target)\n",
    "os.makedirs(path_target)\n",
    "\n",
    "i = 0\n",
    "y = 0\n",
    "\n",
    "if LAUNCH:\n",
    "    for r, d, f in walk(path_source):\n",
    "        \n",
    "        if r != path_source:\n",
    "            break\n",
    "        print(f'In directory {r}: {len(f)} files')\n",
    "        for file in f:\n",
    "            y = y + 1\n",
    "            print(file)\n",
    "            \n",
    "            if file in mask_files:\n",
    "                print(f'{i} working on img {path_source+file}')\n",
    "                image = Path(path_source+file)    \n",
    "                print(crop_on_img_allbands(image, path_target, size).shape)\n",
    "\n",
    "                i = i + 1\n",
    "\n",
    "print('processed {}, generated {} files'.format(y, i))"
   ]
  }
 ],
 "metadata": {
  "kernelspec": {
   "display_name": "Python 3",
   "language": "python",
   "name": "python3"
  },
  "language_info": {
   "codemirror_mode": {
    "name": "ipython",
    "version": 3
   },
   "file_extension": ".py",
   "mimetype": "text/x-python",
   "name": "python",
   "nbconvert_exporter": "python",
   "pygments_lexer": "ipython3",
   "version": "3.7.3"
  }
 },
 "nbformat": 4,
 "nbformat_minor": 2
}
