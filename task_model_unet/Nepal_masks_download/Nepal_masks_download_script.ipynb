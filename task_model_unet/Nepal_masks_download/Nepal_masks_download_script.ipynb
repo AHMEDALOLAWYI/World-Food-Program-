{
 "cells": [
  {
   "cell_type": "code",
   "execution_count": 33,
   "metadata": {},
   "outputs": [],
   "source": [
    "# # get json file with masks links to download and description  \n",
    "# !gdrive download --path \"/home/jupyter/data/\" 1NyKLf3khaszjCUWKUnEnctg7v4YnGqae"
   ]
  },
  {
   "cell_type": "code",
   "execution_count": 22,
   "metadata": {},
   "outputs": [],
   "source": [
    "# -*- coding: utf-8 -*-\n",
    "\"\"\"\n",
    "Created on Fri Jul 26 18:01:51 2019\n",
    "\n",
    "@author: GANESHA\n",
    "\"\"\"\n",
    "import json\n",
    "import requests\n",
    "from PIL import Image \n",
    "import numpy as np\n",
    "import os\n",
    "from io import BytesIO\n",
    "import matplotlib.pyplot as plt\n",
    "from itertools import groupby"
   ]
  },
  {
   "cell_type": "code",
   "execution_count": 23,
   "metadata": {},
   "outputs": [],
   "source": [
    "# load the json file with labelbox files descriptors\n",
    "with open('/home/jupyter/data/labeled_image_data_mask-2019-07-19T14_32_47.510Z.json') as f:\n",
    "    data = json.load(f)"
   ]
  },
  {
   "cell_type": "markdown",
   "metadata": {},
   "source": [
    "## Json description file analysis"
   ]
  },
  {
   "cell_type": "code",
   "execution_count": 24,
   "metadata": {},
   "outputs": [],
   "source": [
    "## What are the possible Mask key combinations:\n",
    "masks_dicts = []\n",
    "for el in data:\n",
    "    if 'Masks' in el:\n",
    "        keys_list = []\n",
    "        for keys in el['Masks']:\n",
    "            keys_list.append(keys)\n",
    "        masks_dicts.append(keys_list)"
   ]
  },
  {
   "cell_type": "code",
   "execution_count": 25,
   "metadata": {},
   "outputs": [
    {
     "name": "stdout",
     "output_type": "stream",
     "text": [
      "Unique sets of masks:\n",
      "[['lc_cat1', 'Non-agricultural (O)', 'Cloud'], ['Non-agricultural (O)'], ['lc_cat1', 'Cloud'], ['lc_cat1', 'Non-agricultural (O)'], ['lc_cat1'], ['Non-agricultural (O)', 'Cloud'], ['lc_cat1', 'Harvested land'], ['lc_cat1', 'Non-agricultural (O)', 'Harvested land'], ['Harvested land'], ['Non-agricultural (O)', 'Harvested land'], ['lc_cat1', 'Non-agricultural (O)', 'Cloud', 'Harvested land'], ['Cloud'], ['Non-agricultural (O)', 'Cloud', 'Harvested land'], ['lc_cat1', 'Cloud', 'Harvested land']]\n"
     ]
    }
   ],
   "source": [
    "# out of above, what are the unique combinations:\n",
    "output = []\n",
    "for x in masks_dicts:\n",
    "    if x not in output:\n",
    "        output.append(x)\n",
    "print('Unique sets of masks:')        \n",
    "print(output)"
   ]
  },
  {
   "cell_type": "code",
   "execution_count": 26,
   "metadata": {
    "scrolled": true
   },
   "outputs": [
    {
     "name": "stdout",
     "output_type": "stream",
     "text": [
      "Unique Masks keys on the list: ['Harvested land', 'Cloud', 'lc_cat1', 'Non-agricultural (O)']\n"
     ]
    }
   ],
   "source": [
    "unique_elements = []\n",
    "for inner_l in masks_dicts:\n",
    "    for item in inner_l:\n",
    "        unique_elements.append(item)\n",
    "unique_elements = set(unique_elements)\n",
    "print('Unique Masks keys on the list: {}'.format(list(unique_elements)))"
   ]
  },
  {
   "cell_type": "markdown",
   "metadata": {},
   "source": [
    "## Download masks and original files from Labelbox\n",
    "\n",
    "Script by Sai with my minor changes. Credits to Sai."
   ]
  },
  {
   "cell_type": "code",
   "execution_count": 32,
   "metadata": {},
   "outputs": [
    {
     "name": "stdout",
     "output_type": "stream",
     "text": [
      "Number of IDs in json file: 513\n",
      "Valid files with masks 398\n",
      "Number of file types generated per category: {'other': 69, 'rice': 301, 'wheat': 28}\n",
      "CPU times: user 52.2 s, sys: 1.36 s, total: 53.6 s\n",
      "Wall time: 5min 44s\n"
     ]
    }
   ],
   "source": [
    "%%time\n",
    "\n",
    "output_dir = ('/home/jupyter/data/WFP_Nepal_Scale3.5_RGB_and_masks_PNG/')\n",
    " \n",
    "# selecting the unique IDs to have the unique pictures - gives 144 images at the end of this block\n",
    "ids = []\n",
    "ext_ids = []\n",
    "idnots = []\n",
    " \n",
    "for i in range(len(data)):\n",
    "    if data[i]['External ID'] in ext_ids:\n",
    "        idnots.append(data[i]['ID'])\n",
    "    else :\n",
    "        ext_ids.append(data[i]['External ID'])    \n",
    "        ids.append(data[i]['ID'])    \n",
    "        \n",
    "files_generated = []\n",
    "keys_used = []\n",
    "\n",
    "# Just adapted from previous code available at private repo\n",
    "# This section retrieves images and masks from Labelbox using JSON file\n",
    "# At first I disregarded the \"Unknown\" category - just considered the \"Trees\" categories\n",
    "for idx, d in enumerate(data):\n",
    "    if d['ID'] in ids:\n",
    "        if(d['Label']!='Skip'):\n",
    "            if('Masks' in d):\n",
    "\n",
    "                # print(\"Image: {}, ID: {}, filename: {}\".format(idx, d[\"ID\"], d[\"External ID\"]))\n",
    "                response_og = requests.get(d[\"Labeled Data\"])\n",
    "                img_og = Image.open(BytesIO(response_og.content))  \n",
    "\n",
    "                # img_og.save(os.path.join(output_dir, '{}_original.png'.format(idx)), format='png')\n",
    "\n",
    "                ## added LM to give same as original file names\n",
    "                # file_name_base = '{}_{}'.format(str(idx), d[\"External ID\"].rstrip('.png'))\n",
    "                file_name_base = d[\"External ID\"].rstrip('.png')\n",
    "                img_og.save(os.path.join(output_dir, '{}_original.png'.format(file_name_base)), format='png')              \n",
    "\n",
    "                # to check generated files.\n",
    "                files_generated.append(file_name_base)\n",
    "                \n",
    "                img_shape = np.array(img_og).shape \n",
    "                img_mask = np.zeros((img_shape[0], img_shape[1]))\n",
    "                img_p1, img_p2, img_p3, img_p4 = np.zeros(img_mask.shape), np.zeros(img_mask.shape), np.zeros(img_mask.shape), np.zeros(img_mask.shape)\n",
    "\n",
    "                threshold = 200\n",
    "                \n",
    "                # Iterating over keys of a Mask key: \n",
    "                for key in d[\"Masks\"]:\n",
    "                    response = requests.get(d[\"Masks\"][key])\n",
    "                    img = Image.open(BytesIO(response.content)) \n",
    "                    if key in ['lc_cat1']:\n",
    "                        keys_used.append('lc_cat1')\n",
    "                        img_p1 = np.where(np.array(img)[:, :, 3] > threshold, 255, 0)\n",
    "                    elif key in ['Non-agricultural (O)']:\n",
    "                        keys_used.append('Non-agricultural (O)')\n",
    "                        img_p2 = np.where(np.array(img)[:, :, 3] > threshold, 255, 0)\n",
    "                    elif key in ['Cloud']:\n",
    "                        keys_used.append('Cloud')\n",
    "                        img_p3 = np.where(np.array(img)[:, :, 3] > threshold, 255, 0)\n",
    "                    elif key in ['Harvested land']:\n",
    "                        img_p4 = np.where(np.array(img)[:, :, 3] > threshold, 255, 0)\n",
    "                        keys_used.append('Harvested land')\n",
    "\n",
    "                img_p = img_p1 + img_p2 + img_p3 + img_p4 - np.where(img_p1 + img_p2 + img_p3 + img_p4 > 255, 255, 0)\n",
    "                img_final = img_p\n",
    "                img = Image.fromarray(img_final.astype(np.uint8)).convert(mode='L', dither=Image.NONE)\n",
    "                img.save(os.path.join(output_dir, '{}_mask.png'.format(file_name_base)), format='png')\n",
    "\n",
    "## SUMMARY: \n",
    "# how many items per category:\n",
    "files_generated_prefixes = [i.split('_')[0] for i in files_generated]\n",
    "results = {value: len(list(freq)) for value, freq in groupby(sorted(files_generated_prefixes))}\n",
    "print('Number of IDs in json file: {}\\nValid files with masks {}\\nNumber of file types generated per category: {}'.format(len(data), len(files_generated), results))"
   ]
  },
  {
   "cell_type": "code",
   "execution_count": 14,
   "metadata": {},
   "outputs": [],
   "source": [
    "# display an exemplary ndarray:\n",
    "\n",
    "from matplotlib import pyplot as plt\n",
    "\n",
    "# load an image\n",
    "img = Image.open(BytesIO(response.content))\n",
    "#x = np.zeros(np.array(img).shape)+ \n",
    "x = np.array(img)[:, :, 3]\n",
    "\n",
    "# show image\n",
    "plt.imshow(x, interpolation='nearest')\n",
    "plt.show()"
   ]
  }
 ],
 "metadata": {
  "kernelspec": {
   "display_name": "Python 3",
   "language": "python",
   "name": "python3"
  },
  "language_info": {
   "codemirror_mode": {
    "name": "ipython",
    "version": 3
   },
   "file_extension": ".py",
   "mimetype": "text/x-python",
   "name": "python",
   "nbconvert_exporter": "python",
   "pygments_lexer": "ipython3",
   "version": "3.7.3"
  }
 },
 "nbformat": 4,
 "nbformat_minor": 2
}
