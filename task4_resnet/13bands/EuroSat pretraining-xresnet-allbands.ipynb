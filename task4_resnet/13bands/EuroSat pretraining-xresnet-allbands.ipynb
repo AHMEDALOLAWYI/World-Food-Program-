{
 "cells": [
  {
   "cell_type": "code",
   "execution_count": 1,
   "metadata": {
    "ExecuteTime": {
     "end_time": "2019-06-27T09:34:57.147097Z",
     "start_time": "2019-06-27T09:34:56.304153Z"
    }
   },
   "outputs": [],
   "source": [
    "from fastai.vision import *\n",
    "from PIL import Image\n",
    "from matplotlib.pyplot import imshow\n",
    "from pathlib import Path\n",
    "from tqdm import tqdm\n",
    "import tifffile"
   ]
  },
  {
   "cell_type": "code",
   "execution_count": 2,
   "metadata": {
    "ExecuteTime": {
     "end_time": "2019-06-27T09:34:58.198927Z",
     "start_time": "2019-06-27T09:34:58.195379Z"
    }
   },
   "outputs": [
    {
     "data": {
      "text/plain": [
       "([0.485, 0.456, 0.406], [0.229, 0.224, 0.225])"
      ]
     },
     "execution_count": 2,
     "metadata": {},
     "output_type": "execute_result"
    }
   ],
   "source": [
    "imagenet_stats"
   ]
  },
  {
   "cell_type": "code",
   "execution_count": 3,
   "metadata": {
    "ExecuteTime": {
     "end_time": "2019-06-27T09:34:59.187927Z",
     "start_time": "2019-06-27T09:34:59.186180Z"
    }
   },
   "outputs": [],
   "source": [
    "path = 'data/eurosat-allbands/'"
   ]
  },
  {
   "cell_type": "code",
   "execution_count": 12,
   "metadata": {
    "ExecuteTime": {
     "end_time": "2019-06-27T09:35:23.886093Z",
     "start_time": "2019-06-27T09:35:23.883676Z"
    }
   },
   "outputs": [],
   "source": [
    "class TiffList(ImageList):\n",
    "    def __init__(self, *args, **kwargs):\n",
    "        super().__init__(*args, **kwargs)\n",
    "        \n",
    "    def open(self, fn):\n",
    "        raw = tifffile.imread(str(fn))\n",
    "        x = pil2tensor(raw,np.float32)\n",
    "        return x"
   ]
  },
  {
   "cell_type": "code",
   "execution_count": null,
   "metadata": {},
   "outputs": [],
   "source": []
  },
  {
   "cell_type": "code",
   "execution_count": 13,
   "metadata": {
    "ExecuteTime": {
     "end_time": "2019-06-27T09:35:25.519709Z",
     "start_time": "2019-06-27T09:35:25.372307Z"
    }
   },
   "outputs": [],
   "source": [
    "data = TiffList.from_folder(path)"
   ]
  },
  {
   "cell_type": "code",
   "execution_count": 87,
   "metadata": {
    "ExecuteTime": {
     "end_time": "2019-06-27T09:34:04.618106Z",
     "start_time": "2019-06-27T09:34:04.615489Z"
    }
   },
   "outputs": [],
   "source": [
    "def calculate_stats_eurosat_allbands(data):\n",
    "    all_images = torch.zeros((27000, 13, 64, 64))\n",
    "    for i, im in enumerate(data):\n",
    "        all_images[i] = im\n",
    "    \n",
    "    stat_mean = all_images.mean(-1).mean(-1).mean(0)\n",
    "    stat_std = all_images.std(-1).std(-1).std(0)\n",
    "    \n",
    "    return (stat_mean.tolist(), stat_std.tolist())"
   ]
  },
  {
   "cell_type": "code",
   "execution_count": 6,
   "metadata": {
    "ExecuteTime": {
     "end_time": "2019-06-27T09:35:02.300919Z",
     "start_time": "2019-06-27T09:35:02.295663Z"
    }
   },
   "outputs": [],
   "source": [
    "stats_eurosat_allbands = ([1353.73046875,\n",
    "  1117.2020263671875,\n",
    "  1041.8876953125,\n",
    "  946.5513305664062,\n",
    "  1199.1883544921875,\n",
    "  2003.0101318359375,\n",
    "  2374.01171875,\n",
    "  2301.222412109375,\n",
    "  732.1828002929688,\n",
    "  12.099513053894043,\n",
    "  1820.6893310546875,\n",
    "  1118.1998291015625,\n",
    "  2599.784912109375],\n",
    " [30.343395233154297,\n",
    "  66.4549560546875,\n",
    "  71.52734375,\n",
    "  86.9700698852539,\n",
    "  70.47565460205078,\n",
    "  81.35286712646484,\n",
    "  97.88168334960938,\n",
    "  99.96805572509766,\n",
    "  27.891748428344727,\n",
    "  0.32882159948349,\n",
    "  92.60734558105469,\n",
    "  87.39993286132812,\n",
    "  106.57888793945312])"
   ]
  },
  {
   "cell_type": "code",
   "execution_count": 15,
   "metadata": {
    "ExecuteTime": {
     "end_time": "2019-06-27T09:35:35.877857Z",
     "start_time": "2019-06-27T09:35:35.869811Z"
    }
   },
   "outputs": [],
   "source": [
    "data = data.split_by_rand_pct()"
   ]
  },
  {
   "cell_type": "code",
   "execution_count": 16,
   "metadata": {
    "ExecuteTime": {
     "end_time": "2019-06-27T09:35:37.443367Z",
     "start_time": "2019-06-27T09:35:37.411644Z"
    }
   },
   "outputs": [],
   "source": [
    "data = data.label_from_folder()"
   ]
  },
  {
   "cell_type": "code",
   "execution_count": 6,
   "metadata": {
    "ExecuteTime": {
     "end_time": "2019-06-25T13:54:42.324198Z",
     "start_time": "2019-06-25T13:54:42.322432Z"
    }
   },
   "outputs": [],
   "source": [
    "tfms = get_transforms(flip_vert=True, max_lighting=0.1, max_zoom=1.05, max_warp=0.)"
   ]
  },
  {
   "cell_type": "code",
   "execution_count": 7,
   "metadata": {
    "ExecuteTime": {
     "end_time": "2019-06-25T13:54:42.340923Z",
     "start_time": "2019-06-25T13:54:42.325313Z"
    }
   },
   "outputs": [],
   "source": [
    "data = data.transform(tfms, size=64)"
   ]
  },
  {
   "cell_type": "code",
   "execution_count": 17,
   "metadata": {
    "ExecuteTime": {
     "end_time": "2019-06-27T09:35:38.636903Z",
     "start_time": "2019-06-27T09:35:38.563749Z"
    }
   },
   "outputs": [],
   "source": [
    "data = data.databunch()"
   ]
  },
  {
   "cell_type": "code",
   "execution_count": 21,
   "metadata": {
    "ExecuteTime": {
     "end_time": "2019-06-27T09:37:20.594858Z",
     "start_time": "2019-06-27T09:37:20.584733Z"
    }
   },
   "outputs": [
    {
     "ename": "Exception",
     "evalue": "Can not call normalize twice",
     "output_type": "error",
     "traceback": [
      "\u001b[0;31m---------------------------------------------------------------------------\u001b[0m",
      "\u001b[0;31mException\u001b[0m                                 Traceback (most recent call last)",
      "\u001b[0;32m<ipython-input-21-d9db8805e008>\u001b[0m in \u001b[0;36m<module>\u001b[0;34m()\u001b[0m\n\u001b[0;32m----> 1\u001b[0;31m \u001b[0mdata\u001b[0m \u001b[0;34m=\u001b[0m \u001b[0mdata\u001b[0m\u001b[0;34m.\u001b[0m\u001b[0mnormalize\u001b[0m\u001b[0;34m(\u001b[0m\u001b[0mstats_eurosat_allbands\u001b[0m\u001b[0;34m)\u001b[0m\u001b[0;34m\u001b[0m\u001b[0;34m\u001b[0m\u001b[0m\n\u001b[0m",
      "\u001b[0;32m~/AI/fastaiv1/fastai/fastai/vision/data.py\u001b[0m in \u001b[0;36mnormalize\u001b[0;34m(self, stats, do_x, do_y)\u001b[0m\n\u001b[1;32m    174\u001b[0m     \u001b[0;32mdef\u001b[0m \u001b[0mnormalize\u001b[0m\u001b[0;34m(\u001b[0m\u001b[0mself\u001b[0m\u001b[0;34m,\u001b[0m \u001b[0mstats\u001b[0m\u001b[0;34m:\u001b[0m\u001b[0mCollection\u001b[0m\u001b[0;34m[\u001b[0m\u001b[0mTensor\u001b[0m\u001b[0;34m]\u001b[0m\u001b[0;34m=\u001b[0m\u001b[0;32mNone\u001b[0m\u001b[0;34m,\u001b[0m \u001b[0mdo_x\u001b[0m\u001b[0;34m:\u001b[0m\u001b[0mbool\u001b[0m\u001b[0;34m=\u001b[0m\u001b[0;32mTrue\u001b[0m\u001b[0;34m,\u001b[0m \u001b[0mdo_y\u001b[0m\u001b[0;34m:\u001b[0m\u001b[0mbool\u001b[0m\u001b[0;34m=\u001b[0m\u001b[0;32mFalse\u001b[0m\u001b[0;34m)\u001b[0m\u001b[0;34m->\u001b[0m\u001b[0;32mNone\u001b[0m\u001b[0;34m:\u001b[0m\u001b[0;34m\u001b[0m\u001b[0;34m\u001b[0m\u001b[0m\n\u001b[1;32m    175\u001b[0m         \u001b[0;34m\"Add normalize transform using `stats` (defaults to `DataBunch.batch_stats`)\"\u001b[0m\u001b[0;34m\u001b[0m\u001b[0;34m\u001b[0m\u001b[0m\n\u001b[0;32m--> 176\u001b[0;31m         \u001b[0;32mif\u001b[0m \u001b[0mgetattr\u001b[0m\u001b[0;34m(\u001b[0m\u001b[0mself\u001b[0m\u001b[0;34m,\u001b[0m\u001b[0;34m'norm'\u001b[0m\u001b[0;34m,\u001b[0m\u001b[0;32mFalse\u001b[0m\u001b[0;34m)\u001b[0m\u001b[0;34m:\u001b[0m \u001b[0;32mraise\u001b[0m \u001b[0mException\u001b[0m\u001b[0;34m(\u001b[0m\u001b[0;34m'Can not call normalize twice'\u001b[0m\u001b[0;34m)\u001b[0m\u001b[0;34m\u001b[0m\u001b[0;34m\u001b[0m\u001b[0m\n\u001b[0m\u001b[1;32m    177\u001b[0m         \u001b[0;32mif\u001b[0m \u001b[0mstats\u001b[0m \u001b[0;32mis\u001b[0m \u001b[0;32mNone\u001b[0m\u001b[0;34m:\u001b[0m \u001b[0mself\u001b[0m\u001b[0;34m.\u001b[0m\u001b[0mstats\u001b[0m \u001b[0;34m=\u001b[0m \u001b[0mself\u001b[0m\u001b[0;34m.\u001b[0m\u001b[0mbatch_stats\u001b[0m\u001b[0;34m(\u001b[0m\u001b[0;34m)\u001b[0m\u001b[0;34m\u001b[0m\u001b[0;34m\u001b[0m\u001b[0m\n\u001b[1;32m    178\u001b[0m         \u001b[0;32melse\u001b[0m\u001b[0;34m:\u001b[0m             \u001b[0mself\u001b[0m\u001b[0;34m.\u001b[0m\u001b[0mstats\u001b[0m \u001b[0;34m=\u001b[0m \u001b[0mstats\u001b[0m\u001b[0;34m\u001b[0m\u001b[0;34m\u001b[0m\u001b[0m\n",
      "\u001b[0;31mException\u001b[0m: Can not call normalize twice"
     ]
    }
   ],
   "source": [
    "data = data.normalize(stats_eurosat_allbands)"
   ]
  },
  {
   "cell_type": "code",
   "execution_count": 43,
   "metadata": {
    "ExecuteTime": {
     "end_time": "2019-06-27T09:39:56.430316Z",
     "start_time": "2019-06-27T09:39:56.420150Z"
    }
   },
   "outputs": [],
   "source": [
    "class GeneralRelu(nn.Module):\n",
    "    def __init__(self, leak=0, sub=0, maxv=None):\n",
    "        super().__init__()\n",
    "        self.leak,self.sub,self.maxv = leak,sub,maxv\n",
    "\n",
    "    def forward(self, x):\n",
    "        x = F.leaky_relu(x,self.leak) if self.leak != 0 else F.relu(x)\n",
    "        if self.sub != 0: x.sub_(self.sub)\n",
    "        if self.maxv is not None: x.clamp_max_(self.maxv)\n",
    "        return x\n",
    "    \n",
    "class ConvLayer(nn.Module):\n",
    "    def __init__(self, ni, nf, ks=3, stride=1, zero_bn=False, act=True, bias=False, **kwargs):\n",
    "        super().__init__()\n",
    "        self.bn = nn.BatchNorm2d(nf)\n",
    "        nn.init.constant_(self.bn.weight, 0. if zero_bn else 1.)\n",
    "        self.conv = nn.Conv2d(ni, nf, kernel_size=ks, stride=stride, padding=ks//2, bias=bias)\n",
    "        if act: \n",
    "            self.relu = GeneralRelu(**kwargs)\n",
    "            \n",
    "        self.act = act\n",
    "    \n",
    "    def forward(self, x): \n",
    "        out = (self.bn(self.conv(x)))\n",
    "        if self.act: out = self.relu(out)\n",
    "        return out\n",
    "    \n",
    "    def has_relu(self):\n",
    "        return self.act\n",
    "    \n",
    "    @property\n",
    "    def bias(self):\n",
    "        return -self.relu.sub\n",
    "    @bias.setter\n",
    "    def bias(self,v): self.relu.sub = -v\n",
    "    @property\n",
    "    def weight(self): return self.conv.weight\n",
    "    \n",
    "def noop(x): return x\n",
    "\n",
    "class Flatten(nn.Module):\n",
    "    def forward(self, x): return x.view(x.size(0), -1)\n",
    "    \n",
    "def is_monitored_layer(l):\n",
    "    mon_layers = (nn.Linear, ConvLayer)\n",
    "    return isinstance(l, mon_layers)\n",
    "\n",
    "class ResBlock(nn.Module):\n",
    "    def __init__(self, expansion, ni, nh, stride=1, **kwargs):\n",
    "        super().__init__()\n",
    "        nf,ni = nh*expansion,ni*expansion\n",
    "        layers  = [ConvLayer(ni, nh, 3, stride=stride, **kwargs),\n",
    "                   ConvLayer(nh, nf, 3, zero_bn=True, act=False, **kwargs)\n",
    "        ] if expansion == 1 else [\n",
    "                   ConvLayer(ni, nh, 1, **kwargs),\n",
    "                   ConvLayer(nh, nh, 3, stride=stride, **kwargs),\n",
    "                   ConvLayer(nh, nf, 1, zero_bn=True, act=False, **kwargs)\n",
    "        ]\n",
    "        self.convs = nn.Sequential(*layers)\n",
    "        self.idconv = noop if ni==nf else ConvLayer(ni, nf, 1, act=False, **kwargs)\n",
    "        self.pool = noop if stride==1 else nn.AvgPool2d(2, ceil_mode=True)\n",
    "        self.act_fn = GeneralRelu(**kwargs)\n",
    "\n",
    "    def forward(self, x): \n",
    "\n",
    "        return self.act_fn(self.convs(x) + self.idconv(self.pool(x)))\n",
    "    \n",
    "\n",
    "class XResNet(nn.Sequential):\n",
    "    @classmethod\n",
    "    def create(cls, expansion, layers, c_in=3, c_out=10, **kwargs):\n",
    "        nfs = [c_in, (c_in+1)*8, 64, 64]\n",
    "        stem = [ConvLayer(nfs[i], nfs[i+1], stride=2 if i==0 else 1, **kwargs)\n",
    "            for i in range(3)]\n",
    "\n",
    "        nfs = [64//expansion,64,128,256,512]\n",
    "        res_layers = [cls._make_layer(expansion, nfs[i], nfs[i+1],\n",
    "                                      n_blocks=l, stride=1 if i==0 else 2, **kwargs)\n",
    "                  for i,l in enumerate(layers)]\n",
    "        res = cls(\n",
    "            *stem,\n",
    "            nn.MaxPool2d(kernel_size=3, stride=2, padding=1),\n",
    "            *res_layers,\n",
    "            nn.AdaptiveAvgPool2d(1), Flatten(),\n",
    "            nn.Linear(nfs[-1]*expansion, c_out),\n",
    "        )\n",
    "        #init_cnn(res)\n",
    "        return res\n",
    "\n",
    "    @staticmethod\n",
    "    def _make_layer(expansion, ni, nf, n_blocks, stride, **kwargs):\n",
    "        return nn.Sequential(\n",
    "            *[ResBlock(expansion, ni if i==0 else nf, nf, stride if i==0 else 1, **kwargs)\n",
    "              for i in range(n_blocks)])\n",
    "    \n",
    "def xresnet50 (**kwargs): return XResNet.create(4, [3, 4,  6, 3], **kwargs)"
   ]
  },
  {
   "cell_type": "code",
   "execution_count": 54,
   "metadata": {
    "ExecuteTime": {
     "end_time": "2019-06-27T09:48:47.253203Z",
     "start_time": "2019-06-27T09:48:47.104995Z"
    }
   },
   "outputs": [],
   "source": [
    "model = xresnet50(c_in=13, c_out=data.c)"
   ]
  },
  {
   "cell_type": "code",
   "execution_count": 55,
   "metadata": {
    "ExecuteTime": {
     "end_time": "2019-06-27T09:48:48.484578Z",
     "start_time": "2019-06-27T09:48:48.452921Z"
    }
   },
   "outputs": [],
   "source": [
    "\n",
    "learn = Learner(data, model, metrics=[accuracy])"
   ]
  },
  {
   "cell_type": "code",
   "execution_count": 56,
   "metadata": {
    "ExecuteTime": {
     "end_time": "2019-06-27T09:48:55.811119Z",
     "start_time": "2019-06-27T09:48:49.923375Z"
    }
   },
   "outputs": [
    {
     "data": {
      "text/html": [],
      "text/plain": [
       "<IPython.core.display.HTML object>"
      ]
     },
     "metadata": {},
     "output_type": "display_data"
    },
    {
     "name": "stdout",
     "output_type": "stream",
     "text": [
      "LR Finder is complete, type {learner_name}.recorder.plot() to see the graph.\n"
     ]
    },
    {
     "data": {
      "image/png": "[encoded data removed]",
      "text/plain": [
       "<Figure size 432x288 with 1 Axes>"
      ]
     },
     "metadata": {},
     "output_type": "display_data"
    }
   ],
   "source": [
    "learn.lr_find()\n",
    "learn.recorder.plot()"
   ]
  },
  {
   "cell_type": "code",
   "execution_count": 47,
   "metadata": {
    "ExecuteTime": {
     "end_time": "2019-06-27T09:45:43.512673Z",
     "start_time": "2019-06-27T09:40:24.633779Z"
    }
   },
   "outputs": [
    {
     "data": {
      "text/html": [
       "<table border=\"1\" class=\"dataframe\">\n",
       "  <thead>\n",
       "    <tr style=\"text-align: left;\">\n",
       "      <th>epoch</th>\n",
       "      <th>train_loss</th>\n",
       "      <th>valid_loss</th>\n",
       "      <th>accuracy</th>\n",
       "      <th>time</th>\n",
       "    </tr>\n",
       "  </thead>\n",
       "  <tbody>\n",
       "    <tr>\n",
       "      <td>0</td>\n",
       "      <td>0.768794</td>\n",
       "      <td>0.587075</td>\n",
       "      <td>0.820000</td>\n",
       "      <td>00:21</td>\n",
       "    </tr>\n",
       "    <tr>\n",
       "      <td>1</td>\n",
       "      <td>0.389098</td>\n",
       "      <td>0.284478</td>\n",
       "      <td>0.906111</td>\n",
       "      <td>00:21</td>\n",
       "    </tr>\n",
       "    <tr>\n",
       "      <td>2</td>\n",
       "      <td>0.268844</td>\n",
       "      <td>0.242878</td>\n",
       "      <td>0.913519</td>\n",
       "      <td>00:21</td>\n",
       "    </tr>\n",
       "    <tr>\n",
       "      <td>3</td>\n",
       "      <td>0.230108</td>\n",
       "      <td>0.177486</td>\n",
       "      <td>0.940000</td>\n",
       "      <td>00:21</td>\n",
       "    </tr>\n",
       "    <tr>\n",
       "      <td>4</td>\n",
       "      <td>0.176991</td>\n",
       "      <td>0.155455</td>\n",
       "      <td>0.947778</td>\n",
       "      <td>00:21</td>\n",
       "    </tr>\n",
       "    <tr>\n",
       "      <td>5</td>\n",
       "      <td>0.151586</td>\n",
       "      <td>0.128312</td>\n",
       "      <td>0.958704</td>\n",
       "      <td>00:21</td>\n",
       "    </tr>\n",
       "    <tr>\n",
       "      <td>6</td>\n",
       "      <td>0.128643</td>\n",
       "      <td>0.101526</td>\n",
       "      <td>0.967407</td>\n",
       "      <td>00:21</td>\n",
       "    </tr>\n",
       "    <tr>\n",
       "      <td>7</td>\n",
       "      <td>0.081511</td>\n",
       "      <td>0.097560</td>\n",
       "      <td>0.966667</td>\n",
       "      <td>00:21</td>\n",
       "    </tr>\n",
       "    <tr>\n",
       "      <td>8</td>\n",
       "      <td>0.071549</td>\n",
       "      <td>0.078774</td>\n",
       "      <td>0.974259</td>\n",
       "      <td>00:21</td>\n",
       "    </tr>\n",
       "    <tr>\n",
       "      <td>9</td>\n",
       "      <td>0.055394</td>\n",
       "      <td>0.065412</td>\n",
       "      <td>0.976852</td>\n",
       "      <td>00:21</td>\n",
       "    </tr>\n",
       "    <tr>\n",
       "      <td>10</td>\n",
       "      <td>0.040654</td>\n",
       "      <td>0.072482</td>\n",
       "      <td>0.978148</td>\n",
       "      <td>00:21</td>\n",
       "    </tr>\n",
       "    <tr>\n",
       "      <td>11</td>\n",
       "      <td>0.032573</td>\n",
       "      <td>0.056467</td>\n",
       "      <td>0.981667</td>\n",
       "      <td>00:21</td>\n",
       "    </tr>\n",
       "    <tr>\n",
       "      <td>12</td>\n",
       "      <td>0.021807</td>\n",
       "      <td>0.053082</td>\n",
       "      <td>0.985556</td>\n",
       "      <td>00:21</td>\n",
       "    </tr>\n",
       "    <tr>\n",
       "      <td>13</td>\n",
       "      <td>0.020028</td>\n",
       "      <td>0.047791</td>\n",
       "      <td>0.985556</td>\n",
       "      <td>00:21</td>\n",
       "    </tr>\n",
       "    <tr>\n",
       "      <td>14</td>\n",
       "      <td>0.013572</td>\n",
       "      <td>0.047594</td>\n",
       "      <td>0.985000</td>\n",
       "      <td>00:21</td>\n",
       "    </tr>\n",
       "  </tbody>\n",
       "</table>"
      ],
      "text/plain": [
       "<IPython.core.display.HTML object>"
      ]
     },
     "metadata": {},
     "output_type": "display_data"
    }
   ],
   "source": [
    "lr = 1e-4\n",
    "\n",
    "learn.fit_one_cycle(15, lr)"
   ]
  },
  {
   "cell_type": "code",
   "execution_count": 57,
   "metadata": {
    "ExecuteTime": {
     "end_time": "2019-06-27T09:54:20.397196Z",
     "start_time": "2019-06-27T09:49:03.155786Z"
    }
   },
   "outputs": [
    {
     "data": {
      "text/html": [
       "<table border=\"1\" class=\"dataframe\">\n",
       "  <thead>\n",
       "    <tr style=\"text-align: left;\">\n",
       "      <th>epoch</th>\n",
       "      <th>train_loss</th>\n",
       "      <th>valid_loss</th>\n",
       "      <th>accuracy</th>\n",
       "      <th>time</th>\n",
       "    </tr>\n",
       "  </thead>\n",
       "  <tbody>\n",
       "    <tr>\n",
       "      <td>0</td>\n",
       "      <td>0.408788</td>\n",
       "      <td>0.346639</td>\n",
       "      <td>0.875926</td>\n",
       "      <td>00:21</td>\n",
       "    </tr>\n",
       "    <tr>\n",
       "      <td>1</td>\n",
       "      <td>0.343693</td>\n",
       "      <td>0.273473</td>\n",
       "      <td>0.908148</td>\n",
       "      <td>00:21</td>\n",
       "    </tr>\n",
       "    <tr>\n",
       "      <td>2</td>\n",
       "      <td>0.338689</td>\n",
       "      <td>0.352981</td>\n",
       "      <td>0.881667</td>\n",
       "      <td>00:21</td>\n",
       "    </tr>\n",
       "    <tr>\n",
       "      <td>3</td>\n",
       "      <td>0.287734</td>\n",
       "      <td>0.198303</td>\n",
       "      <td>0.931481</td>\n",
       "      <td>00:21</td>\n",
       "    </tr>\n",
       "    <tr>\n",
       "      <td>4</td>\n",
       "      <td>0.238721</td>\n",
       "      <td>0.187830</td>\n",
       "      <td>0.936481</td>\n",
       "      <td>00:21</td>\n",
       "    </tr>\n",
       "    <tr>\n",
       "      <td>5</td>\n",
       "      <td>0.208355</td>\n",
       "      <td>0.177166</td>\n",
       "      <td>0.946852</td>\n",
       "      <td>00:21</td>\n",
       "    </tr>\n",
       "    <tr>\n",
       "      <td>6</td>\n",
       "      <td>0.152803</td>\n",
       "      <td>0.200622</td>\n",
       "      <td>0.935000</td>\n",
       "      <td>00:21</td>\n",
       "    </tr>\n",
       "    <tr>\n",
       "      <td>7</td>\n",
       "      <td>0.130123</td>\n",
       "      <td>0.115949</td>\n",
       "      <td>0.959630</td>\n",
       "      <td>00:21</td>\n",
       "    </tr>\n",
       "    <tr>\n",
       "      <td>8</td>\n",
       "      <td>0.093435</td>\n",
       "      <td>0.120453</td>\n",
       "      <td>0.964259</td>\n",
       "      <td>00:21</td>\n",
       "    </tr>\n",
       "    <tr>\n",
       "      <td>9</td>\n",
       "      <td>0.082802</td>\n",
       "      <td>0.072581</td>\n",
       "      <td>0.977222</td>\n",
       "      <td>00:21</td>\n",
       "    </tr>\n",
       "    <tr>\n",
       "      <td>10</td>\n",
       "      <td>0.057627</td>\n",
       "      <td>0.060956</td>\n",
       "      <td>0.980556</td>\n",
       "      <td>00:21</td>\n",
       "    </tr>\n",
       "    <tr>\n",
       "      <td>11</td>\n",
       "      <td>0.041934</td>\n",
       "      <td>0.046686</td>\n",
       "      <td>0.986667</td>\n",
       "      <td>00:21</td>\n",
       "    </tr>\n",
       "    <tr>\n",
       "      <td>12</td>\n",
       "      <td>0.026471</td>\n",
       "      <td>0.046532</td>\n",
       "      <td>0.986852</td>\n",
       "      <td>00:21</td>\n",
       "    </tr>\n",
       "    <tr>\n",
       "      <td>13</td>\n",
       "      <td>0.020452</td>\n",
       "      <td>0.041608</td>\n",
       "      <td>0.989074</td>\n",
       "      <td>00:21</td>\n",
       "    </tr>\n",
       "    <tr>\n",
       "      <td>14</td>\n",
       "      <td>0.016129</td>\n",
       "      <td>0.043335</td>\n",
       "      <td>0.988148</td>\n",
       "      <td>00:21</td>\n",
       "    </tr>\n",
       "  </tbody>\n",
       "</table>"
      ],
      "text/plain": [
       "<IPython.core.display.HTML object>"
      ]
     },
     "metadata": {},
     "output_type": "display_data"
    }
   ],
   "source": [
    "lr = 1e-3\n",
    "\n",
    "learn.fit_one_cycle(15, lr)\n",
    "\n"
   ]
  },
  {
   "cell_type": "code",
   "execution_count": 16,
   "metadata": {
    "ExecuteTime": {
     "end_time": "2019-06-25T13:59:58.528390Z",
     "start_time": "2019-06-25T13:59:58.400907Z"
    }
   },
   "outputs": [
    {
     "data": {
      "image/png": "[encoded data removed]",
      "text/plain": [
       "<Figure size 432x288 with 1 Axes>"
      ]
     },
     "metadata": {},
     "output_type": "display_data"
    }
   ],
   "source": [
    "learn.recorder.plot_losses()"
   ]
  },
  {
   "cell_type": "code",
   "execution_count": null,
   "metadata": {},
   "outputs": [],
   "source": []
  }
 ],
 "metadata": {
  "kernelspec": {
   "display_name": "Python 3",
   "language": "python",
   "name": "python3"
  },
  "language_info": {
   "codemirror_mode": {
    "name": "ipython",
    "version": 3
   },
   "file_extension": ".py",
   "mimetype": "text/x-python",
   "name": "python",
   "nbconvert_exporter": "python",
   "pygments_lexer": "ipython3",
   "version": "3.6.8"
  }
 },
 "nbformat": 4,
 "nbformat_minor": 2
}
