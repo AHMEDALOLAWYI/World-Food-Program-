{
 "cells": [
  {
   "cell_type": "code",
   "execution_count": 4,
   "metadata": {
    "ExecuteTime": {
     "end_time": "2019-06-28T13:46:45.909649Z",
     "start_time": "2019-06-28T13:46:45.797049Z"
    }
   },
   "outputs": [],
   "source": [
    "from PIL import Image\n",
    "from matplotlib.pyplot import imshow\n",
    "from pathlib import Path\n",
    "from tqdm import tqdm\n",
    "import numpy as np\n",
    "from os import scandir, walk\n",
    "from skimage import io"
   ]
  },
  {
   "cell_type": "code",
   "execution_count": 24,
   "metadata": {
    "ExecuteTime": {
     "end_time": "2019-06-28T14:01:57.383660Z",
     "start_time": "2019-06-28T14:01:57.377905Z"
    }
   },
   "outputs": [],
   "source": [
    "LAUNCH = True"
   ]
  },
  {
   "cell_type": "code",
   "execution_count": 33,
   "metadata": {
    "ExecuteTime": {
     "end_time": "2019-06-28T14:05:02.305441Z",
     "start_time": "2019-06-28T14:05:02.301505Z"
    }
   },
   "outputs": [],
   "source": [
    "def open_allbands(path):\n",
    "    return io.imread(str(path))\n",
    "\n",
    "def center_crop_allbands(img, new_width=64, new_height=None):        \n",
    "\n",
    "    \n",
    "    height = img.shape[0]\n",
    "    width = img.shape[1]\n",
    "\n",
    "    if new_height is None:\n",
    "        new_height = new_width\n",
    "\n",
    "    left = int(np.ceil((width - new_width) / 2))\n",
    "    right = width - int(np.floor((width - new_width) / 2))\n",
    "\n",
    "    top = int(np.ceil((height - new_height) / 2))\n",
    "    bottom = height - int(np.floor((height - new_height) / 2))\n",
    "    \n",
    "    #print(f'left {left}, right {right}, top {top}, bottom {bottom}')\n",
    "\n",
    "   \n",
    "    center_cropped_img = img[top:bottom,left:right,:]\n",
    "    \n",
    "    assert((center_cropped_img.shape[0] == new_height) and (center_cropped_img.shape[1] == new_width))\n",
    "\n",
    "    return center_cropped_img\n",
    "\n",
    "def crop_on_img_allbands(filename, path_target, size=64):\n",
    "    img = open_allbands(filename)\n",
    "    img = center_crop_allbands(img, size, size)\n",
    "    print(path_target+filename.stem+'.tif')\n",
    "    #img.save(path_target+filename.stem+'.tif')\n",
    "    np.save(path_target+filename.stem+'.npy', img)\n",
    "    return img"
   ]
  },
  {
   "cell_type": "code",
   "execution_count": null,
   "metadata": {
    "ExecuteTime": {
     "end_time": "2019-06-28T14:01:45.207593Z",
     "start_time": "2019-06-28T14:01:45.184731Z"
    }
   },
   "outputs": [],
   "source": [
    "crop_on_img_allbands(Path('data/S2-allbands/1-H01.tif'), 'test_redim.npy')"
   ]
  },
  {
   "cell_type": "code",
   "execution_count": null,
   "metadata": {
    "ExecuteTime": {
     "end_time": "2019-06-28T14:05:22.297143Z",
     "start_time": "2019-06-28T14:05:16.322963Z"
    }
   },
   "outputs": [],
   "source": [
    "path_source = 'data/S2-allbands/'\n",
    "path_target = path_source + 'crop/'\n",
    "\n",
    "\n",
    "if LAUNCH:\n",
    "    for r, d, f in walk(path_source):\n",
    "        if r != path_source:\n",
    "            break\n",
    "        print(f'In directory {r}: {len(f)} files')\n",
    "        for file in f:\n",
    "            print(f'working on img {path_source+file}')\n",
    "            image = Path(path_source+file)    \n",
    "            print(crop_on_img_allbands(image, path_target, 64).shape)"
   ]
  }
 ],
 "metadata": {
  "kernelspec": {
   "display_name": "Python 3",
   "language": "python",
   "name": "python3"
  },
  "language_info": {
   "codemirror_mode": {
    "name": "ipython",
    "version": 3
   },
   "file_extension": ".py",
   "mimetype": "text/x-python",
   "name": "python",
   "nbconvert_exporter": "python",
   "pygments_lexer": "ipython3",
   "version": "3.7.3"
  }
 },
 "nbformat": 4,
 "nbformat_minor": 2
}
