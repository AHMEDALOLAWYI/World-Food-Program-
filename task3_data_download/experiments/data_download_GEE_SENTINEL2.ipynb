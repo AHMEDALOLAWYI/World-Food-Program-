{
 "cells": [
  {
   "cell_type": "code",
   "execution_count": 1,
   "metadata": {
    "ExecuteTime": {
     "end_time": "2019-06-20T16:22:51.582410Z",
     "start_time": "2019-06-20T16:22:49.874404Z"
    }
   },
   "outputs": [],
   "source": [
    "import pandas as pd\n",
    "import ee\n",
    "from collections import defaultdict\n",
    "import numpy as np\n",
    "import datetime\n",
    "ee.Initialize()\n"
   ]
  },
  {
   "cell_type": "markdown",
   "metadata": {},
   "source": [
    "# Parameters"
   ]
  },
  {
   "cell_type": "code",
   "execution_count": 2,
   "metadata": {
    "ExecuteTime": {
     "end_time": "2019-06-20T16:22:51.586323Z",
     "start_time": "2019-06-20T16:22:51.583779Z"
    }
   },
   "outputs": [],
   "source": [
    "# LOCATION OF CSV FILE\n",
    "DATA = 'data/'\n",
    "\n",
    "# Download only pictures of rice and wheat\n",
    "DOWNLOAD_ONLY_POSITIVE_EXAMPLE = True\n",
    "\n",
    "# NUMBER OF FILES TO DOWNLOAD\n",
    "# set to None to download all files\n",
    "DOWNLOAD_NB_FILES = 500\n",
    "\n",
    "# RADIUS AROUND COORD IN METERS\n",
    "# This is the number of meter around the point coordinate to include in the picture\n",
    "RADIUS_AROUND = 200\n",
    "\n",
    "# RANGES FOR BANDS\n",
    "# Values tested on different location in nepal\n",
    "# Hypothesis: Should be the same for all images\n",
    "RANGE_MIN = 0\n",
    "RANGE_MAX = 2000\n",
    "\n",
    "# RANGE FOR DATES\n",
    "# CSV shows one date per observation.\n",
    "# However, we need to take several pictures to select ones without clouds\n",
    "# We look for RANDE_DATE weeks around the date\n",
    "RANDE_DATE = 4\n",
    "\n",
    "# GOOGLE DRIVE FOLDER\n",
    "GDRIVE_FOLDER = 'wfp'"
   ]
  },
  {
   "cell_type": "markdown",
   "metadata": {},
   "source": [
    "# Import CSV data a nd remove NaNs"
   ]
  },
  {
   "cell_type": "code",
   "execution_count": 3,
   "metadata": {
    "ExecuteTime": {
     "end_time": "2019-06-20T16:22:51.609021Z",
     "start_time": "2019-06-20T16:22:51.587595Z"
    }
   },
   "outputs": [
    {
     "name": "stdout",
     "output_type": "stream",
     "text": [
      "Len of input data: 1585\n"
     ]
    }
   ],
   "source": [
    "df = pd.read_csv(DATA+'point_survey_v1.csv')\n",
    "print(f'Len of input data: {len(df)}')"
   ]
  },
  {
   "cell_type": "code",
   "execution_count": 4,
   "metadata": {
    "ExecuteTime": {
     "end_time": "2019-06-20T16:22:51.613357Z",
     "start_time": "2019-06-20T16:22:51.610143Z"
    }
   },
   "outputs": [],
   "source": [
    "columns_suggestion = ['index', 'coord_obs_x', 'coord_obs_y', 'lc_code1', 'su_date']\n",
    "codes_monitored_crops = ['B101', 'B102', 'B103', 'B104']\n",
    "df = df.reset_index()"
   ]
  },
  {
   "cell_type": "code",
   "execution_count": 5,
   "metadata": {
    "ExecuteTime": {
     "end_time": "2019-06-20T16:22:51.619658Z",
     "start_time": "2019-06-20T16:22:51.614310Z"
    }
   },
   "outputs": [],
   "source": [
    "df = df[columns_suggestion]"
   ]
  },
  {
   "cell_type": "code",
   "execution_count": 6,
   "metadata": {
    "ExecuteTime": {
     "end_time": "2019-06-20T16:22:51.627054Z",
     "start_time": "2019-06-20T16:22:51.620826Z"
    }
   },
   "outputs": [
    {
     "name": "stdout",
     "output_type": "stream",
     "text": [
      "size df 1585\n",
      "Number of NaN for index: 0\n",
      "Number of NaN for coord_obs_x: 16\n",
      "Number of NaN for coord_obs_y: 16\n",
      "Number of NaN for lc_code1: 136\n",
      "Number of NaN for su_date: 0\n"
     ]
    }
   ],
   "source": [
    "print(f'size df {len(df)}')\n",
    "for col in columns_suggestion:\n",
    "    print(f'Number of NaN for {col}: {df[col].isna().sum()}')"
   ]
  },
  {
   "cell_type": "code",
   "execution_count": 7,
   "metadata": {
    "ExecuteTime": {
     "end_time": "2019-06-20T16:22:51.657000Z",
     "start_time": "2019-06-20T16:22:51.628037Z"
    }
   },
   "outputs": [],
   "source": [
    "df.dropna(inplace=True)"
   ]
  },
  {
   "cell_type": "code",
   "execution_count": 8,
   "metadata": {
    "ExecuteTime": {
     "end_time": "2019-06-20T16:22:51.662871Z",
     "start_time": "2019-06-20T16:22:51.658103Z"
    }
   },
   "outputs": [
    {
     "name": "stdout",
     "output_type": "stream",
     "text": [
      "size df 1433\n",
      "Number of NaN for index: 0\n",
      "Number of NaN for coord_obs_x: 0\n",
      "Number of NaN for coord_obs_y: 0\n",
      "Number of NaN for lc_code1: 0\n",
      "Number of NaN for su_date: 0\n"
     ]
    }
   ],
   "source": [
    "print(f'size df {len(df)}')\n",
    "for col in columns_suggestion:\n",
    "    print(f'Number of NaN for {col}: {df[col].isna().sum()}')"
   ]
  },
  {
   "cell_type": "code",
   "execution_count": 9,
   "metadata": {
    "ExecuteTime": {
     "end_time": "2019-06-20T16:22:51.668540Z",
     "start_time": "2019-06-20T16:22:51.663974Z"
    }
   },
   "outputs": [],
   "source": [
    "\n",
    "name_map = defaultdict(lambda: 'other')\n",
    "\n",
    "name_map['B104'] = 'wheat'\n",
    "name_map['B101'] = 'rice'\n",
    "name_map['B102'] = 'rice'\n",
    "\n",
    "df['type'] = df['lc_code1'].apply(lambda x: name_map[x])\n",
    "if DOWNLOAD_ONLY_POSITIVE_EXAMPLE:\n",
    "    df = df[df['type'] != 'other']"
   ]
  },
  {
   "cell_type": "code",
   "execution_count": 10,
   "metadata": {
    "ExecuteTime": {
     "end_time": "2019-06-20T16:22:51.673862Z",
     "start_time": "2019-06-20T16:22:51.669723Z"
    }
   },
   "outputs": [
    {
     "name": "stdout",
     "output_type": "stream",
     "text": [
      "Will download 407 pictures\n"
     ]
    }
   ],
   "source": [
    "print(f'Will download {len(df)} pictures')"
   ]
  },
  {
   "cell_type": "code",
   "execution_count": 11,
   "metadata": {
    "ExecuteTime": {
     "end_time": "2019-06-20T16:22:51.685476Z",
     "start_time": "2019-06-20T16:22:51.674892Z"
    }
   },
   "outputs": [
    {
     "data": {
      "text/plain": [
       "rice     389\n",
       "wheat     18\n",
       "Name: type, dtype: int64"
      ]
     },
     "execution_count": 11,
     "metadata": {},
     "output_type": "execute_result"
    }
   ],
   "source": [
    "df['type'].value_counts()"
   ]
  },
  {
   "cell_type": "markdown",
   "metadata": {},
   "source": [
    "# Google Earth Engine download\n"
   ]
  },
  {
   "cell_type": "code",
   "execution_count": 12,
   "metadata": {
    "ExecuteTime": {
     "end_time": "2019-06-20T16:22:51.690969Z",
     "start_time": "2019-06-20T16:22:51.686704Z"
    }
   },
   "outputs": [],
   "source": [
    "dataset = ee.ImageCollection('COPERNICUS/S2')\\\n",
    "    .filterDate('2016-10-01', '2016-11-30')\\\n",
    "    .select(['B4', 'B3', 'B2'])"
   ]
  },
  {
   "cell_type": "code",
   "execution_count": 13,
   "metadata": {
    "ExecuteTime": {
     "end_time": "2019-06-20T16:22:51.729904Z",
     "start_time": "2019-06-20T16:22:51.691984Z"
    }
   },
   "outputs": [],
   "source": [
    "# Create list with a tuple per point: File name - x - y - date\n",
    "coords = [(str(point[1][0])+'-'+str(point[1][3]), point[1][1], point[1][2], point[1][4]) for point in df.loc[:, ['index', 'coord_obs_x', 'coord_obs_y', 'lc_code1', 'su_date']].iterrows()]"
   ]
  },
  {
   "cell_type": "code",
   "execution_count": 14,
   "metadata": {
    "ExecuteTime": {
     "end_time": "2019-06-20T16:22:51.733793Z",
     "start_time": "2019-06-20T16:22:51.731123Z"
    }
   },
   "outputs": [
    {
     "data": {
      "text/plain": [
       "('2-B102', 84.28578211, 27.42716335, '10/11/2016')"
      ]
     },
     "execution_count": 14,
     "metadata": {},
     "output_type": "execute_result"
    }
   ],
   "source": [
    "# File name - x - y - date\n",
    "coords[0]"
   ]
  },
  {
   "cell_type": "code",
   "execution_count": 15,
   "metadata": {
    "ExecuteTime": {
     "end_time": "2019-06-20T16:22:51.739318Z",
     "start_time": "2019-06-20T16:22:51.734845Z"
    }
   },
   "outputs": [],
   "source": [
    "# Generate a rectangle containing the circle (centered on the coordinate) with radius RADIUS_AROUND\n",
    "def get_geometry_radius(geometry_point):\n",
    "    coord = np.array(geometry_point.getInfo()['coordinates'][0])\n",
    "    return ee.Geometry.Rectangle([coord[:, 0].min(), coord[:, 1].min(), coord[:, 0].max(), coord[:, 1].max()])\n",
    "\n",
    "# Generate the dates around the observation date\n",
    "def date_range_to_collect(input_date):\n",
    "  d, m, y = input_date.split('/')\n",
    "  observation_date = datetime.date(int(y), int(m), int(d))\n",
    "  delta = datetime.timedelta(weeks=RANDE_DATE)\n",
    "  return observation_date-delta, observation_date+delta\n",
    "\n",
    "def generate_image(image_collection, x, y, date, image_name, debug=True):\n",
    "    if debug: print(f'Working on {image_name}: ({x}, {y}) on {date}')\n",
    "    geo = ee.Geometry.Point(x, y);\n",
    "    radius = geo.buffer(RADIUS_AROUND);\n",
    "    geometry_radius= get_geometry_radius(radius)\n",
    "    \n",
    "    spatialFiltered = image_collection.filterBounds(geo)\n",
    "\n",
    "    date_range = date_range_to_collect(date)\n",
    "    if debug: print('date range:' + str(date_range[0]) + str(date_range[1]))\n",
    "    temporalFiltered = spatialFiltered.filterDate(str(date_range[0]), str(date_range[1]))\n",
    "\n",
    "    # The darker pixels have the least clouds\n",
    "    least_clouds = temporalFiltered.min()\n",
    "\n",
    "    testimg = least_clouds.visualize(bands=['B4', 'B3', 'B2'], min=RANGE_MIN, max=RANGE_MAX)\n",
    "\n",
    "    task = ee.batch.Export.image.toDrive(testimg, folder=GDRIVE_FOLDER, region=geometry_radius.getInfo()['coordinates'][0], description=image_name, scale=10)\n",
    "    task.start()\n"
   ]
  },
  {
   "cell_type": "code",
   "execution_count": null,
   "metadata": {
    "ExecuteTime": {
     "start_time": "2019-06-20T16:22:49.915Z"
    }
   },
   "outputs": [
    {
     "name": "stdout",
     "output_type": "stream",
     "text": [
      "Working on 2-B102: (84.28578211, 27.42716335) on 10/11/2016\n",
      "date range:2016-10-132016-12-08\n",
      "Working on 6-B102: (84.40694692, 27.42943646) on 10/11/2016\n",
      "date range:2016-10-132016-12-08\n",
      "Working on 7-B102: (84.40851276, 27.42944815) on 10/11/2016\n",
      "date range:2016-10-132016-12-08\n",
      "Working on 12-B102: (84.31585037, 27.43806162) on 09/11/2016\n",
      "date range:2016-10-122016-12-07\n",
      "Working on 13-B102: (84.31737319, 27.43811606) on 09/11/2016\n",
      "date range:2016-10-122016-12-07\n",
      "Working on 14-B102: (84.31589526, 27.43682279) on 09/11/2016\n",
      "date range:2016-10-122016-12-07\n",
      "Working on 17-B102: (84.33761965, 27.43853205) on 10/11/2016\n",
      "date range:2016-10-132016-12-08\n",
      "Working on 19-B102: (84.33767689, 27.43715581) on 10/11/2016\n",
      "date range:2016-10-132016-12-08\n",
      "Working on 20-B102: (84.3410999, 27.438616999999997) on 10/11/2016\n",
      "date range:2016-10-132016-12-08\n",
      "Working on 21-B102: (84.30068409999998, 27.477949900000002) on 10/11/2016\n",
      "date range:2016-10-132016-12-08\n",
      "Working on 23-B102: (84.29545423, 27.44221338) on 09/11/2016\n",
      "date range:2016-10-122016-12-07\n",
      "Working on 24-B102: (84.29708946, 27.44225885) on 09/11/2016\n",
      "date range:2016-10-122016-12-07\n",
      "Working on 25-B102: (84.29554467, 27.4408718) on 09/11/2016\n",
      "date range:2016-10-122016-12-07\n",
      "Working on 26-B102: (84.29718276, 27.44082738) on 09/11/2016\n",
      "date range:2016-10-122016-12-07\n",
      "Working on 27-B102: (84.35622121, 27.44333103) on 10/11/2016\n",
      "date range:2016-10-132016-12-08\n",
      "Working on 28-B102: (84.35766783, 27.44341668) on 10/11/2016\n",
      "date range:2016-10-132016-12-08\n",
      "Working on 29-B102: (84.3562009, 27.44202807) on 10/11/2016\n",
      "date range:2016-10-132016-12-08\n",
      "Working on 30-B102: (84.35774926, 27.44203561) on 10/11/2016\n",
      "date range:2016-10-132016-12-08\n",
      "Working on 35-B102: (84.34097645, 27.44764127) on 10/11/2016\n",
      "date range:2016-10-132016-12-08\n",
      "Working on 37-B102: (84.34093141, 27.44623324) on 10/11/2016\n",
      "date range:2016-10-132016-12-08\n",
      "Working on 39-B102: (84.31551686, 27.45162141) on 09/11/2016\n",
      "date range:2016-10-122016-12-07\n",
      "Working on 40-B102: (84.31703375, 27.45173049) on 09/11/2016\n",
      "date range:2016-10-122016-12-07\n",
      "Working on 41-B102: (84.3156172, 27.45028364) on 09/11/2016\n",
      "date range:2016-10-122016-12-07\n",
      "Working on 42-B102: (84.31706502, 27.45031538) on 09/11/2016\n",
      "date range:2016-10-122016-12-07\n",
      "Working on 44-B102: (84.34730796, 27.45671386) on 10/11/2016\n",
      "date range:2016-10-132016-12-08\n",
      "Working on 45-B102: (84.34570997, 27.45532946) on 10/11/2016\n",
      "date range:2016-10-132016-12-08\n",
      "Working on 46-B102: (84.34723169, 27.45539151) on 10/11/2016\n",
      "date range:2016-10-132016-12-08\n",
      "Working on 51-B102: (84.28487035, 27.46458356) on 08/11/2016\n",
      "date range:2016-10-112016-12-06\n",
      "Working on 52-B102: (84.32005500000001, 27.4552836) on 08/11/2016\n",
      "date range:2016-10-112016-12-06\n",
      "Working on 54-B102: (84.28641822, 27.46316641) on 08/11/2016\n",
      "date range:2016-10-112016-12-06\n",
      "Working on 58-B102: (84.28128846, 27.46764397) on 08/11/2016\n",
      "date range:2016-10-112016-12-06\n",
      "Working on 59-B102: (84.28458724, 27.47358709) on 08/11/2016\n",
      "date range:2016-10-112016-12-06\n",
      "Working on 62-B102: (84.28624996, 27.4722972) on 08/11/2016\n",
      "date range:2016-10-112016-12-06\n",
      "Working on 63-B102: (84.32507653, 27.47441438) on 09/11/2016\n",
      "date range:2016-10-122016-12-07\n",
      "Working on 65-B102: (84.32507319, 27.47299564) on 09/11/2016\n",
      "date range:2016-10-122016-12-07\n",
      "Working on 68-B102: (84.33675471, 27.47451242) on 09/11/2016\n",
      "date range:2016-10-122016-12-07\n",
      "Working on 69-B102: (84.33527894, 27.47312293) on 09/11/2016\n",
      "date range:2016-10-122016-12-07\n",
      "Working on 70-B102: (84.33682831, 27.47324694) on 09/11/2016\n",
      "date range:2016-10-122016-12-07\n",
      "Working on 71-B102: (84.27440126, 27.47767447) on 08/11/2016\n",
      "date range:2016-10-112016-12-06\n",
      "Working on 72-B102: (84.27592257, 27.47790128) on 08/11/2016\n",
      "date range:2016-10-112016-12-06\n",
      "Working on 73-B102: (84.27449605, 27.47663774) on 08/11/2016\n",
      "date range:2016-10-112016-12-06\n",
      "Working on 74-B102: (84.27607900000001, 27.47660431) on 08/11/2016\n",
      "date range:2016-10-112016-12-06\n",
      "Working on 75-B102: (84.3351363, 27.47906828) on 09/11/2016\n",
      "date range:2016-10-122016-12-07\n",
      "Working on 76-B102: (84.33657472, 27.47918336) on 09/11/2016\n",
      "date range:2016-10-122016-12-07\n",
      "Working on 77-B102: (84.33518249, 27.47773233) on 09/11/2016\n",
      "date range:2016-10-122016-12-07\n",
      "Working on 78-B102: (84.33664757, 27.47797384) on 09/11/2016\n",
      "date range:2016-10-122016-12-07\n",
      "Working on 79-B102: (84.31477863, 27.48322984) on 09/11/2016\n",
      "date range:2016-10-122016-12-07\n",
      "Working on 80-B102: (84.31631608, 27.48323079) on 09/11/2016\n",
      "date range:2016-10-122016-12-07\n",
      "Working on 83-B102: (84.26372415, 27.500232300000004) on 08/11/2016\n",
      "date range:2016-10-112016-12-06\n",
      "Working on 84-B102: (84.26490022, 27.500260600000004) on 08/11/2016\n",
      "date range:2016-10-112016-12-06\n",
      "Working on 85-B102: (84.26375619, 27.49891704) on 08/11/2016\n",
      "date range:2016-10-112016-12-06\n",
      "Working on 86-B102: (84.26530942, 27.49891375) on 08/11/2016\n",
      "date range:2016-10-112016-12-06\n",
      "Working on 107-B102: (84.53031937, 27.56838504) on 23/10/2016\n",
      "date range:2016-09-252016-11-20\n",
      "Working on 109-B102: (84.53037692, 27.56696313) on 23/10/2016\n",
      "date range:2016-09-252016-11-20\n",
      "Working on 111-B102: (84.5651217, 27.568078200000002) on 25/10/2016\n",
      "date range:2016-09-272016-11-22\n",
      "Working on 112-B102: (84.5651217, 27.568078200000002) on 25/10/2016\n",
      "date range:2016-09-272016-11-22\n",
      "Working on 114-B102: (84.5497385, 27.5634145) on 25/10/2016\n",
      "date range:2016-09-272016-11-22\n",
      "Working on 116-B102: (84.31922891, 27.56890485) on 24/10/2016\n",
      "date range:2016-09-262016-11-21\n",
      "Working on 117-B102: (84.31784038, 27.56769519) on 24/10/2016\n",
      "date range:2016-09-262016-11-21\n",
      "Working on 118-B101: (84.31925359, 27.56767121) on 24/10/2016\n",
      "date range:2016-09-262016-11-21\n",
      "Working on 121-B102: (84.32789613, 27.56782711) on 24/10/2016\n",
      "date range:2016-09-262016-11-21\n",
      "Working on 125-B102: (84.33304819, 27.56789224) on 24/10/2016\n",
      "date range:2016-09-262016-11-21\n",
      "Working on 127-B102: (84.69728268, 27.57579136) on 04/11/2016\n",
      "date range:2016-10-072016-12-02\n",
      "Working on 129-B101: (84.6348161, 27.572510600000005) on 04/11/2016\n",
      "date range:2016-10-072016-12-02\n",
      "Working on 130-B102: (84.69851419, 27.57440944) on 04/11/2016\n",
      "date range:2016-10-072016-12-02\n",
      "Working on 131-B102: (84.70238592, 27.57585311) on 04/11/2016\n",
      "date range:2016-10-072016-12-02\n",
      "Working on 132-B102: (84.70390129, 27.57593684) on 04/11/2016\n",
      "date range:2016-10-072016-12-02\n",
      "Working on 133-B102: (84.56804720000001, 27.561402899999997) on 04/11/2016\n",
      "date range:2016-10-072016-12-02\n",
      "Working on 135-B102: (84.71752044, 27.57605471) on 04/11/2016\n",
      "date range:2016-10-072016-12-02\n",
      "Working on 137-B102: (84.6020093, 27.566738800000003) on 04/11/2016\n",
      "date range:2016-10-072016-12-02\n",
      "Working on 139-B102: (84.18111474, 27.57070705) on 07/11/2016\n",
      "date range:2016-10-102016-12-05\n",
      "Working on 140-B102: (84.18254817, 27.57075997) on 07/11/2016\n",
      "date range:2016-10-102016-12-05\n",
      "Working on 141-B102: (84.18110633, 27.56946231) on 07/11/2016\n",
      "date range:2016-10-102016-12-05\n",
      "Working on 143-B102: (84.2365023, 27.57199061) on 04/11/2016\n",
      "date range:2016-10-072016-12-02\n",
      "Working on 144-B102: (84.2381112, 27.571882399999996) on 04/11/2016\n",
      "date range:2016-10-072016-12-02\n",
      "Working on 146-B102: (84.23794357, 27.57085589) on 04/11/2016\n",
      "date range:2016-10-072016-12-02\n",
      "Working on 152-B102: (84.32792037, 27.57243281) on 24/10/2016\n",
      "date range:2016-09-262016-11-21\n",
      "Working on 153-B102: (84.32792037, 27.57243281) on 24/10/2016\n",
      "date range:2016-09-262016-11-21\n",
      "Working on 155-B102: (84.34292066, 27.57389133) on 24/10/2016\n",
      "date range:2016-09-262016-11-21\n",
      "Working on 156-B102: (84.34309395, 27.57395255) on 24/10/2016\n",
      "date range:2016-09-262016-11-21\n",
      "Working on 157-B102: (84.34278494, 27.57267016) on 24/10/2016\n",
      "date range:2016-09-262016-11-21\n",
      "Working on 158-B102: (84.34503155, 27.57216539) on 24/10/2016\n",
      "date range:2016-09-262016-11-21\n",
      "Working on 159-B102: (84.5402536, 27.57761173) on 24/10/2016\n",
      "date range:2016-09-262016-11-21\n",
      "Working on 160-B102: (84.54181284, 27.57767682) on 23/10/2016\n",
      "date range:2016-09-252016-11-20\n",
      "Working on 161-B102: (84.54029157, 27.57612254) on 23/10/2016\n",
      "date range:2016-09-252016-11-20\n",
      "Working on 162-B102: (84.54190791, 27.57634372) on 24/10/2016\n",
      "date range:2016-09-262016-11-21\n",
      "Working on 164-B102: (84.60281668, 27.58572852) on 25/10/2016\n",
      "date range:2016-09-272016-11-22\n"
     ]
    },
    {
     "name": "stdout",
     "output_type": "stream",
     "text": [
      "Working on 166-B102: (84.60272086, 27.58576474) on 25/10/2016\n",
      "date range:2016-09-272016-11-22\n",
      "Working on 167-B102: (84.19606246, 27.57552676) on 07/11/2016\n",
      "date range:2016-10-102016-12-05\n",
      "Working on 169-B102: (84.19597545, 27.57411887) on 07/11/2016\n",
      "date range:2016-10-102016-12-05\n",
      "Working on 170-B102: (84.19760133, 27.574301199999997) on 07/11/2016\n",
      "date range:2016-10-102016-12-05\n",
      "Working on 172-B102: (84.31399314, 27.57784339) on 26/10/2016\n",
      "date range:2016-09-282016-11-23\n",
      "Working on 175-B102: (84.52494612, 27.58182176) on 26/10/2016\n",
      "date range:2016-09-282016-11-23\n",
      "Working on 176-B102: (84.52644639, 27.58177596) on 26/10/2016\n",
      "date range:2016-09-282016-11-23\n",
      "Working on 183-B102: (84.55030588, 27.58222768) on 24/10/2016\n",
      "date range:2016-09-262016-11-21\n",
      "Working on 185-B102: (84.5503201, 27.58088982) on 24/10/2016\n",
      "date range:2016-09-262016-11-21\n",
      "Working on 186-B102: (84.5518823, 27.58103768) on 24/10/2016\n",
      "date range:2016-09-262016-11-21\n",
      "Working on 187-B102: (84.603021, 27.5858375) on 25/10/2016\n",
      "date range:2016-09-272016-11-22\n",
      "Working on 188-B102: (84.59727668, 27.58313196) on 25/10/2016\n",
      "date range:2016-09-272016-11-22\n",
      "Working on 189-B102: (84.60266552, 27.58578099) on 25/10/2016\n",
      "date range:2016-09-272016-11-22\n",
      "Working on 191-B102: (84.5591903, 27.5647344) on 04/11/2016\n",
      "date range:2016-10-072016-12-02\n",
      "Working on 192-B102: (84.65810716, 27.58414978) on 04/11/2016\n",
      "date range:2016-10-072016-12-02\n",
      "Working on 193-B102: (84.6553365, 27.5795903) on 04/11/2016\n",
      "date range:2016-10-072016-12-02\n",
      "Working on 194-B102: (84.6580073, 27.582729399999998) on 04/11/2016\n",
      "date range:2016-10-072016-12-02\n",
      "Working on 195-B102: (84.22118735, 27.58062951) on 04/11/2016\n",
      "date range:2016-10-072016-12-02\n",
      "Working on 196-B102: (84.22278566, 27.58065666) on 04/11/2016\n",
      "date range:2016-10-072016-12-02\n",
      "Working on 197-B102: (84.2213645, 27.57942012) on 04/11/2016\n",
      "date range:2016-10-072016-12-02\n",
      "Working on 198-B102: (84.22278165, 27.57926212) on 04/11/2016\n",
      "date range:2016-10-072016-12-02\n",
      "Working on 201-B101: (84.28190802, 27.58033663) on 26/10/2016\n"
     ]
    }
   ],
   "source": [
    "dataset_collection = ee.ImageCollection('COPERNICUS/S2')\n",
    "\n",
    "\n",
    "for i, point in enumerate(coords):\n",
    "    if DOWNLOAD_NB_FILES is not None and i > DOWNLOAD_NB_FILES:\n",
    "        break\n",
    "    generate_image(dataset_collection, point[1], point[2], point[3], point[0])"
   ]
  }
 ],
 "metadata": {
  "kernelspec": {
   "display_name": "Python 3",
   "language": "python",
   "name": "python3"
  },
  "language_info": {
   "codemirror_mode": {
    "name": "ipython",
    "version": 3
   },
   "file_extension": ".py",
   "mimetype": "text/x-python",
   "name": "python",
   "nbconvert_exporter": "python",
   "pygments_lexer": "ipython3",
   "version": "3.6.8"
  }
 },
 "nbformat": 4,
 "nbformat_minor": 2
}
