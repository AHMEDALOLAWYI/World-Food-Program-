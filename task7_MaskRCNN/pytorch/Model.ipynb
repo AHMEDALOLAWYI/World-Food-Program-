{
 "cells": [
  {
   "cell_type": "markdown",
   "metadata": {},
   "source": [
    "# Masked RCNN\n",
    "Adapting the model from here https://github.com/multimodallearning/pytorch-mask-rcnn/blob/master/model.py"
   ]
  },
  {
   "cell_type": "code",
   "execution_count": 1,
   "metadata": {},
   "outputs": [],
   "source": [
    "from fastai.vision import *\n",
    "from fastai.vision.models.unet import _get_sfs_idxs, model_sizes, hook_outputs"
   ]
  },
  {
   "cell_type": "markdown",
   "metadata": {},
   "source": [
    "![FPN](https://cdn-images-1.medium.com/max/1600/1*D_EAjMnlR9v4LqHhEYZJLg.png)"
   ]
  },
  {
   "cell_type": "markdown",
   "metadata": {},
   "source": [
    "Subsequent usage of the words <b>downsampling</b> and <b>upsampling</b> paths refer to the bottom-up and top-down pathway respectively from the above diagram."
   ]
  },
  {
   "cell_type": "code",
   "execution_count": null,
   "metadata": {},
   "outputs": [],
   "source": []
  },
  {
   "cell_type": "code",
   "execution_count": 2,
   "metadata": {},
   "outputs": [],
   "source": [
    "class LateralUpsampleMerge(nn.Module):\n",
    "    \"Merge the features coming from the downsample path (in `hook`) with the upsample path.\"\n",
    "    def __init__(self, ch, ch_lat, hook):\n",
    "        super().__init__()\n",
    "        self.hook = hook\n",
    "        self.Px_conv1 = conv2d(ch_lat, ch, ks=1, bias=True)\n",
    "#         self.Px_conv2 = conv2d(ch, cs, ks=3, padding=0, bias=True)\n",
    "            \n",
    "    def forward(self, x):\n",
    "        #Run a 1x1conv on the features from the downsampling path, upsample the output from P(x-1)\n",
    "        res = self.Px_conv1(self.hook.stored) + nn.functional.interpolate(x, scale_factor=2)\n",
    "        return res"
   ]
  },
  {
   "cell_type": "markdown",
   "metadata": {},
   "source": [
    "##### Note to self\n",
    "Intend to explore whether or not stride 2 conv is better than maxpooling (P5 - P6)."
   ]
  },
  {
   "cell_type": "code",
   "execution_count": 3,
   "metadata": {},
   "outputs": [],
   "source": [
    "class FPN(nn.Module):\n",
    "    \"\"\"\n",
    "    Creates upsampling path by hooking activations from the downsampling path. Tested on ResNet50.\n",
    "    \n",
    "    INPUT:\n",
    "        encoder: Default ResNet50\n",
    "        chs: Number of intermediate channels to use between convolutions\n",
    "    \n",
    "    RETURNS:\n",
    "        [p2,p3,p4,p5,p6]: [Tensor]\n",
    "    \"\"\"\n",
    "    def __init__(self, encoder:nn.Module, chs:int) -> [Tensor]:\n",
    "    \n",
    "        super().__init__()\n",
    "        \n",
    "        #This runs dummy data through the encoder to get the right channel numbers after each layer C1 through C5\n",
    "        imsize = (256,256)\n",
    "        sfs_szs = model_sizes(encoder, size=imsize)\n",
    "        sfs_idxs = list(reversed(_get_sfs_idxs(sfs_szs)))\n",
    "        \n",
    "        #Attaching hooks to the relevant layers C2 to C5 so we can get their activations during the\n",
    "        #upsampling path\n",
    "        self.encoder = encoder\n",
    "        \n",
    "        #The link between C5 and P5\n",
    "        #TODO: will a stride 2 conv be better?\n",
    "        self.c5_p5 = nn.Sequential(\n",
    "            conv2d(sfs_szs[-1][1], chs, ks=1, bias=True),\n",
    "        )\n",
    "        \n",
    "        \n",
    "#         self.p5_conv2 = nn.Sequential(\n",
    "#             nn.ZeroPad2d(1),\n",
    "#             conv2d(chs,chs,ks=3,padding=0,bias=True)\n",
    "#         )\n",
    "        self.p5_conv2 = conv2d(chs,chs,ks=3,bias=True)\n",
    "        \n",
    "        #Link between P5 and P6\n",
    "        self.p5_p6 = nn.MaxPool2d(kernel_size=1, stride=2)\n",
    "        \n",
    "        #These are the idxs of C4, C3, and C2 respectively\n",
    "        idx  = list(reversed(sfs_idxs[-2:-5:-1]))\n",
    "        self.sfs = hook_outputs([encoder[i] for i in idx])\n",
    "        \n",
    "        #This handles the mapping from P5 -> P4 -> P3 -> P2\n",
    "        self.merges = nn.ModuleList([LateralUpsampleMerge(chs, sfs_szs[idx][1], hook) \n",
    "                                     for idx,hook in zip(idx, self.sfs)])\n",
    "        \n",
    "        #One final conv to smoothen things out after the merge\n",
    "        self.final_convs = [conv2d(chs, chs, ks=3, stride=1, bias=True) for _ in idx+[1]]\n",
    "           \n",
    "    def forward(self, x):\n",
    "        c5 = self.encoder(x)\n",
    "        p_states = [self.c5_p5(c5.clone())]\n",
    "        #Mapping P5 through P2 one by one\n",
    "        for merge in self.merges: p_states = [merge(p_states[0])] + p_states\n",
    "         \n",
    "        #Extra convs after the lateral upsampling\n",
    "        for i, conv in enumerate(self.final_convs):\n",
    "            p_states[i] = conv(p_states[i])\n",
    "            \n",
    "        #Doing P6 at the end\n",
    "        p6 = self.p5_p6(p_states[-1])\n",
    "        p_states += [p6]\n",
    "        return p_states\n",
    "    \n",
    "    def __del__(self):\n",
    "        if hasattr(self, \"sfs\"): self.sfs.remove()"
   ]
  },
  {
   "cell_type": "code",
   "execution_count": 4,
   "metadata": {},
   "outputs": [],
   "source": [
    "x = torch.randn(10,3,448,448)"
   ]
  },
  {
   "cell_type": "code",
   "execution_count": 5,
   "metadata": {},
   "outputs": [],
   "source": [
    "fpn = FPN(create_body(models.resnet50,pretrained=False),256)"
   ]
  },
  {
   "cell_type": "code",
   "execution_count": 6,
   "metadata": {},
   "outputs": [],
   "source": [
    "fpnres = fpn(x)"
   ]
  },
  {
   "cell_type": "code",
   "execution_count": 7,
   "metadata": {
    "scrolled": true
   },
   "outputs": [
    {
     "data": {
      "text/plain": [
       "[(112, 112), (56, 56), (28, 28), (14, 14), (7, 7)]"
      ]
     },
     "execution_count": 7,
     "metadata": {},
     "output_type": "execute_result"
    }
   ],
   "source": [
    "shapes = [fpnres[0].shape,fpnres[1].shape,fpnres[2].shape,fpnres[3].shape,fpnres[4].shape]\n",
    "shapes = [(s[-2],s[-1]) for s in shapes]\n",
    "shapes"
   ]
  },
  {
   "cell_type": "code",
   "execution_count": 8,
   "metadata": {},
   "outputs": [],
   "source": [
    "#Find stride of model at each stage\n",
    "dims = [s[-1] for s in shapes]\n",
    "stride = [int(x.shape[-1]/d) for d in dims]"
   ]
  },
  {
   "cell_type": "code",
   "execution_count": 9,
   "metadata": {},
   "outputs": [
    {
     "data": {
      "text/plain": [
       "[4, 8, 16, 32, 64]"
      ]
     },
     "execution_count": 9,
     "metadata": {},
     "output_type": "execute_result"
    }
   ],
   "source": [
    "stride"
   ]
  },
  {
   "cell_type": "code",
   "execution_count": 10,
   "metadata": {},
   "outputs": [
    {
     "data": {
      "text/plain": [
       "37632"
      ]
     },
     "execution_count": 10,
     "metadata": {},
     "output_type": "execute_result"
    }
   ],
   "source": [
    "3*112*112"
   ]
  },
  {
   "cell_type": "markdown",
   "metadata": {},
   "source": [
    "# Anchor Generation"
   ]
  },
  {
   "cell_type": "markdown",
   "metadata": {},
   "source": [
    "Some hyperparameters."
   ]
  },
  {
   "cell_type": "code",
   "execution_count": 11,
   "metadata": {},
   "outputs": [],
   "source": [
    "# Length of square anchor side in pixels, we might need to play with this\n",
    "RPN_ANCHOR_SCALES = (32, 64, 128, 256,350)\n",
    "\n",
    "# Ratios of anchors at each cell (width/height)\n",
    "# A value of 1 represents a square anchor, and 0.5 is a wide anchor\n",
    "RPN_ANCHOR_RATIOS = [0.5, 1, 2]\n",
    "\n",
    "# Anchor Stride\n",
    "# Set to 1 so that anchor is given to every grid on the feature map\n",
    "RPN_ANCHOR_STRIDE = 1\n",
    "\n",
    "# The strides of each layer of the FPN Pyramid as calculated above.\n",
    "BACKBONE_STRIDES = [4, 8, 16, 32, 64]\n",
    "\n",
    "#Shape of each feature map as calculated above\n",
    "BACKBONE_SHAPES = shapes\n",
    "\n",
    "#To test things out\n",
    "scales = RPN_ANCHOR_SCALES[0]\n",
    "feature_stride = BACKBONE_STRIDES[0]\n",
    "anchor_stride = RPN_ANCHOR_STRIDE\n",
    "shape =BACKBONE_SHAPES[0]"
   ]
  },
  {
   "cell_type": "code",
   "execution_count": 12,
   "metadata": {},
   "outputs": [],
   "source": [
    "# Get all combinations of scales and ratios\n",
    "scales, ratios = np.meshgrid(np.array(scales), np.array(RPN_ANCHOR_RATIOS))\n",
    "scales = scales.flatten()\n",
    "ratios = ratios.flatten()"
   ]
  },
  {
   "cell_type": "code",
   "execution_count": 13,
   "metadata": {},
   "outputs": [
    {
     "data": {
      "text/plain": [
       "array([32, 32, 32])"
      ]
     },
     "execution_count": 13,
     "metadata": {},
     "output_type": "execute_result"
    }
   ],
   "source": [
    "scales"
   ]
  },
  {
   "cell_type": "code",
   "execution_count": 14,
   "metadata": {},
   "outputs": [
    {
     "data": {
      "text/plain": [
       "array([0.5, 1. , 2. ])"
      ]
     },
     "execution_count": 14,
     "metadata": {},
     "output_type": "execute_result"
    }
   ],
   "source": [
    "ratios"
   ]
  },
  {
   "cell_type": "code",
   "execution_count": 15,
   "metadata": {},
   "outputs": [],
   "source": [
    "heights = scales / np.sqrt(ratios)\n",
    "widths = scales * np.sqrt(ratios)"
   ]
  },
  {
   "cell_type": "markdown",
   "metadata": {},
   "source": [
    "This seems to cover the entire area."
   ]
  },
  {
   "cell_type": "code",
   "execution_count": 16,
   "metadata": {},
   "outputs": [
    {
     "data": {
      "text/plain": [
       "<matplotlib.collections.PathCollection at 0x1a2ab44cc0>"
      ]
     },
     "execution_count": 16,
     "metadata": {},
     "output_type": "execute_result"
    },
    {
     "data": {
      "image/png": "[encoded data removed]",
      "text/plain": [
       "<Figure size 432x288 with 1 Axes>"
      ]
     },
     "metadata": {
      "needs_background": "light"
     },
     "output_type": "display_data"
    }
   ],
   "source": [
    "shifts_y = np.arange(0, shape[0], anchor_stride) * feature_stride\n",
    "shifts_x = np.arange(0, shape[1], anchor_stride) * feature_stride\n",
    "shifts_x, shifts_y = np.meshgrid(shifts_x, shifts_y)\n",
    "#We have covered every single possible point on a 256*256 IMG\n",
    "plt.scatter(shifts_x,shifts_y)"
   ]
  },
  {
   "cell_type": "code",
   "execution_count": 17,
   "metadata": {},
   "outputs": [],
   "source": [
    "def generate_anchors(scales, ratios, shape, feature_stride, anchor_stride):\n",
    "    \"\"\"\n",
    "    scales: 1D array of anchor sizes in pixels. Example: [32, 64, 128]\n",
    "    ratios: 1D array of anchor ratios of width/height. Example: [0.5, 1, 2]\n",
    "    shape: [height, width] spatial shape of the feature map over which\n",
    "            to generate anchors.\n",
    "    feature_stride: Stride of the feature map relative to the image in pixels.\n",
    "    anchor_stride: Stride of anchors on the feature map. For example, if the\n",
    "        value is 2 then generate anchors for every other feature map pixel.\n",
    "    \"\"\"\n",
    "    # Get all combinations of scales and ratios\n",
    "    scales, ratios = np.meshgrid(np.array(scales), np.array(ratios))\n",
    "    scales = scales.flatten()\n",
    "    ratios = ratios.flatten()\n",
    "\n",
    "    # Enumerate heights and widths from scales and ratios\n",
    "    heights = scales / np.sqrt(ratios)\n",
    "    widths = scales * np.sqrt(ratios)\n",
    "\n",
    "    # Enumerate shifts in feature space\n",
    "    shifts_y = np.arange(0, shape[0], anchor_stride) * feature_stride\n",
    "    shifts_x = np.arange(0, shape[1], anchor_stride) * feature_stride\n",
    "    shifts_x, shifts_y = np.meshgrid(shifts_x, shifts_y)\n",
    "\n",
    "    # Enumerate combinations of shifts, widths, and heights\n",
    "    box_widths, box_centers_x = np.meshgrid(widths, shifts_x)\n",
    "    box_heights, box_centers_y = np.meshgrid(heights, shifts_y)\n",
    "\n",
    "    # Reshape to get a list of (y, x) and a list of (h, w)\n",
    "    box_centers = np.stack(\n",
    "        [box_centers_y, box_centers_x], axis=2).reshape([-1, 2])\n",
    "    box_sizes = np.stack([box_heights, box_widths], axis=2).reshape([-1, 2])\n",
    "\n",
    "    # Convert to corner coordinates (y1, x1, y2, x2)\n",
    "    boxes = np.concatenate([box_centers - 0.5 * box_sizes,\n",
    "                            box_centers + 0.5 * box_sizes], axis=1)\n",
    "    return boxes\n",
    "\n",
    "def generate_pyramid_anchors(scales, ratios, feature_shapes, feature_strides,\n",
    "                             anchor_stride):\n",
    "    \"\"\"Generate anchors at different levels of a feature pyramid. Each scale\n",
    "    is associated with a level of the pyramid, but each ratio is used in\n",
    "    all levels of the pyramid.\n",
    "\n",
    "    Returns:\n",
    "    anchors: (Num anchors, 4). All generated anchors in one array. Sorted\n",
    "        with the same order of the given scales. So, anchors of scale[0] come\n",
    "        first, then anchors of scale[1], and so on.\n",
    "    \"\"\"\n",
    "    # Anchors\n",
    "    # [anchor_count, (y1, x1, y2, x2)]\n",
    "    anchors = []\n",
    "    for i in range(len(scales)):\n",
    "        anchors.append(generate_anchors(scales[i], ratios, feature_shapes[i],\n",
    "                                        feature_strides[i], anchor_stride))\n",
    "    return np.concatenate(anchors, axis=0)"
   ]
  },
  {
   "cell_type": "code",
   "execution_count": 474,
   "metadata": {},
   "outputs": [],
   "source": [
    "anchors = generate_pyramid_anchors(RPN_ANCHOR_SCALES,RPN_ANCHOR_RATIOS,BACKBONE_SHAPES,BACKBONE_STRIDES,RPN_ANCHOR_STRIDE)"
   ]
  },
  {
   "cell_type": "code",
   "execution_count": 475,
   "metadata": {},
   "outputs": [
    {
     "data": {
      "text/plain": [
       "(50127, 4)"
      ]
     },
     "execution_count": 475,
     "metadata": {},
     "output_type": "execute_result"
    }
   ],
   "source": [
    "anchors.shape"
   ]
  },
  {
   "cell_type": "markdown",
   "metadata": {},
   "source": [
    "## Ignoring Anchors That Are Out of Bounds\n",
    "Might want to implement that since the Faster-RCNN paper suggests the following:\n",
    "\n",
    "The anchor boxes that cross image boundaries need to be handled with care. During training, we ignore all cross-boundary anchors so they do not contribute to the loss. For a typical 1000 x 600 image, there will be roughly 20000 (60 x 40 x 9) anchors in total. With the cross-boundary anchors ignored, there are about 6000 anchors per image for training. If the boundary-crossing outliers are not ignored in training, they introduce large, difficult to correct error terms in the objective, and training does not converge. During testing, however, we still apply the fully convolutional RPN to the entire image. This may generate cross- boundary proposal boxes, which we clip to the image boundary."
   ]
  },
  {
   "cell_type": "code",
   "execution_count": 20,
   "metadata": {},
   "outputs": [
    {
     "data": {
      "image/png": "[encoded data removed]",
      "text/plain": [
       "<Figure size 432x288 with 1 Axes>"
      ]
     },
     "metadata": {
      "needs_background": "light"
     },
     "output_type": "display_data"
    }
   ],
   "source": [
    "from random import shuffle\n",
    "idx = np.random.randint(0,len(anchors),50)\n",
    "sample_boxes = anchors[49750:49850]\n",
    "\n",
    "# sample_boxes  = sample_boxes.clip(min=0,max=448)\n",
    "\n",
    "fig = plt.figure()\n",
    "ax = fig.add_subplot(111, aspect='equal')\n",
    "for b in sample_boxes:\n",
    "    #Since matplotlib expects something to be between 0 and 1\n",
    "    y1, x1, y2, x2 = b/448\n",
    "    if y1 < 0 or x1 <0 : continue\n",
    "    if y2 > 1 or x2 > 1: continue\n",
    "    x = x2-x1;\n",
    "    y=y2-y1\n",
    "    ax.add_patch(\n",
    "         patches.Rectangle(\n",
    "            (x1,y1),x,y,\n",
    "            fill=False      # remove background\n",
    "         ) )     "
   ]
  },
  {
   "cell_type": "markdown",
   "metadata": {},
   "source": [
    "### Region Proposal Network\n",
    "\n",
    "#### Lack of dropout\n",
    "Just noticed the lack of dropout in this model. Might be worth checking into."
   ]
  },
  {
   "cell_type": "code",
   "execution_count": 21,
   "metadata": {},
   "outputs": [],
   "source": [
    "class RPN(nn.Module):\n",
    "    \"\"\"Builds the model of Region Proposal Network.\n",
    "    \n",
    "    Inputs:\n",
    "        anchors_per_location: number of anchors per pixel in the feature map\n",
    "        anchor_stride: Controls the density of anchors. Typically 1 (anchors for\n",
    "                       every pixel in the feature map), or 2 (every other pixel).\n",
    "\n",
    "    Returns:\n",
    "        rpn_logits: [batch, H, W, 2] Anchor classifier logits (before softmax)\n",
    "        rpn_probs: [batch, W, W, 2] Anchor classifier probabilities.\n",
    "        rpn_bbox: [batch, H, W, (dy, dx, log(dh), log(dw))] Deltas to be\n",
    "                  applied to anchors.\n",
    "    \"\"\"\n",
    "\n",
    "    def __init__(self, ratios_per_anchor=3, anchor_stride=1, ch_in=256):\n",
    "        super(RPN, self).__init__()\n",
    "        self.ratios_per_anchor = ratios_per_anchor\n",
    "        self.anchor_stride = anchor_stride\n",
    "        self.ch_in = ch_in\n",
    "        #This conv has a 'same' padding so that grid size does not change\n",
    "        self.conv_shared = conv2d(ch_in,512,ks=3,stride=anchor_stride,bias=True)\n",
    "        self.relu = nn.ReLU(inplace=True)\n",
    "        \n",
    "        #Since we will have anchors of various ratios at each position on the featuregrid, \n",
    "        #we need that many predictions\n",
    "        #Class predicts whether or not an anchor has a match\n",
    "        #BBox predicts the corresponding coordinates\n",
    "        self.conv_class = conv2d(512,2 * ratios_per_anchor,ks=1,stride=anchor_stride,bias=True)\n",
    "        self.softmax = nn.Softmax(dim=2)\n",
    "        self.conv_bbox = nn.Conv2d(512, 4 * ratios_per_anchor, kernel_size=1, stride=1)\n",
    "        \n",
    "    def forward(self, x):\n",
    "#         import pdb; pdb.set_trace()\n",
    "        x = self.relu(self.conv_shared(x))\n",
    "        \n",
    "        ###Classification - Absence/Presence of Match\n",
    "        # (bs,2*numratios,h,w)\n",
    "        class_logits = self.conv_class(x)\n",
    "        \n",
    "        # bs, h, w, 2*ratios\n",
    "        class_logits = class_logits.permute(0,2,3,1)\n",
    "        class_logits = class_logits.contiguous()\n",
    "        # (bs, num anchors, 2)\n",
    "        class_logits = class_logits.view(x.size()[0], -1, 2)\n",
    "        \n",
    "        ###Bounding Box Regressor\n",
    "        bbox = self.conv_bbox(x)\n",
    "        # (bs, h, w, 4*ratios)\n",
    "        bbox = bbox.permute(0,2,3,1)\n",
    "        bbox = bbox.contiguous()\n",
    "        # (bs, num anchors, 4)\n",
    "        bbox = bbox.view(x.size()[0], -1, 4)\n",
    "                \n",
    "        return [class_logits, bbox]\n"
   ]
  },
  {
   "cell_type": "markdown",
   "metadata": {},
   "source": [
    "Identifying regions of interest"
   ]
  },
  {
   "cell_type": "code",
   "execution_count": 22,
   "metadata": {},
   "outputs": [],
   "source": [
    "rpn = RPN()"
   ]
  },
  {
   "cell_type": "code",
   "execution_count": 23,
   "metadata": {},
   "outputs": [],
   "source": [
    "# Loop through pyramid layers\n",
    "layer_outputs = []  # list of lists\n",
    "for p in fpnres:\n",
    "    layer_outputs.append(rpn(p))\n",
    "\n",
    "outputs = list(zip(*layer_outputs))\n",
    "outputs = [torch.cat(list(o), dim=1) for o in outputs]\n",
    "rpn_class_logits, rpn_bbox = outputs"
   ]
  },
  {
   "cell_type": "markdown",
   "metadata": {},
   "source": [
    "# Near Maximum Suppression (NMS)\n",
    "This removes bounding boxes that have high overlap with each other (prioritises boxes that the model is more confident in)."
   ]
  },
  {
   "cell_type": "code",
   "execution_count": 24,
   "metadata": {},
   "outputs": [],
   "source": [
    "def hard_nms(bboxes, scores, topn=2000, iou_thresh=0.7):\n",
    "    # Perhaps top 2000 for training and 1000 for inference\n",
    "    indices = scores.argsort()\n",
    "    bboxes = bboxes[indices]\n",
    "    final_results = []\n",
    "\n",
    "    res = bboxes\n",
    "\n",
    "    while len(res)!=0:\n",
    "        box = res[-1]\n",
    "        final_results.append(box)\n",
    "        if len(final_results) == topn:\n",
    "            return torch.stack(final_results,0)\n",
    "        res = res[:-1]\n",
    "\n",
    "        start_max = np.maximum(res[:, 0:2], box[0:2])\n",
    "        end_min = np.minimum(res[:, 2:4], box[2:4])\n",
    "        lengths = end_min - start_max\n",
    "        intersec_map = lengths[:, 0] * lengths[:, 1]\n",
    "        intersec_map[np.logical_or(lengths[:, 0] < 0, lengths[:, 1] < 0)] = 0\n",
    "        iou_map_cur = intersec_map / ((res[:, 2] - res[:, 0]) * (res[:, 3] - res[:, 1]) + (box[2] - box[0]) * (\n",
    "            box[3] - box[1]) - intersec_map +1e-16)\n",
    "        res = res[iou_map_cur < iou_thresh]\n",
    "\n",
    "    return np.array(cdd_results)"
   ]
  },
  {
   "cell_type": "markdown",
   "metadata": {},
   "source": [
    "Some helper functions to calculate IoU."
   ]
  },
  {
   "cell_type": "code",
   "execution_count": 25,
   "metadata": {},
   "outputs": [],
   "source": [
    "def intersection(inputs, targets):\n",
    "    \"\"\"    \n",
    "    Compute the sizes of the intersections of `inputs` with `targets`.\n",
    "    Inputs:\n",
    "        inputs,targets in (y1,x1,y2,x2) form\n",
    "    \"\"\"\n",
    "    i, t = inputs.size(0), targets.size(0)\n",
    "    inputs, targets = inputs.unsqueeze(1).expand(i,t,4), targets.unsqueeze(0).expand(i,t,4)\n",
    "    bottom_left = torch.max(inputs[...,:2], targets[...,:2])\n",
    "    top_right = torch.min(inputs[...,2:], targets[...,2:])\n",
    "    sizes = torch.clamp(top_right - bottom_left, min=0) \n",
    "    return sizes[...,0] * sizes[...,1]"
   ]
  },
  {
   "cell_type": "code",
   "execution_count": 26,
   "metadata": {},
   "outputs": [],
   "source": [
    "def IoU_values(inputs, targets):\n",
    "    \"Compute the IoU values of `inputs` with `targets`.\"\n",
    "    inter = intersection(inputs, targets)\n",
    "    input_sz = (inputs[:,2] - inputs[:,0]) * (inputs[:,3] - inputs[:,1])\n",
    "    target_sz = (targets[:,2] - targets[:,0]) * (targets[:,3] - targets[:,1])\n",
    "    union = input_sz.unsqueeze(1) + target_sz.unsqueeze(0) - inter\n",
    "    iou = inter/(union+1e-8)\n",
    "    #This way we filter out boxes that have zero areas\n",
    "#     iou[input_sz == 0] = 1.\n",
    "    return iou"
   ]
  },
  {
   "cell_type": "code",
   "execution_count": 27,
   "metadata": {
    "scrolled": true
   },
   "outputs": [],
   "source": [
    "#this is faster than above\n",
    "def nms(b, s, topn=2000, thresh=0.75):\n",
    "    \"\"\"\n",
    "    Inputs:\n",
    "        b: tensor of boxes (numbox,4)\n",
    "        s: tensor of scores (numbox,)\n",
    "        thres: threshold of NMS\n",
    "    \"\"\"\n",
    "    idx_sort = s.argsort(descending=True)\n",
    "    boxes, scores = b[idx_sort], s[idx_sort]\n",
    "    to_keep, indexes = [], torch.LongTensor(range_of(scores))\n",
    "    while len(scores) > 0 :\n",
    "        to_keep.append(idx_sort[indexes[0]])\n",
    "        cdd = boxes[0]\n",
    "        boxes, scores, indexes  = boxes[1:],scores[1:], indexes[1:]\n",
    "        if len(boxes)==0:\n",
    "            break\n",
    "        iou_vals = IoU_values(boxes, cdd.unsqueeze(0)).squeeze()\n",
    "        mask_keep = iou_vals < thresh\n",
    "        if mask_keep.nonzero().shape[0] == 0: break\n",
    "        boxes, scores, indexes = boxes[mask_keep], scores[mask_keep], indexes[mask_keep]\n",
    "    return to_keep[:topn]\n"
   ]
  },
  {
   "cell_type": "markdown",
   "metadata": {},
   "source": [
    "Made this more legible."
   ]
  },
  {
   "cell_type": "code",
   "execution_count": 32,
   "metadata": {},
   "outputs": [],
   "source": [
    "# def preds2bbox(deltas,boxes):\n",
    "#     \"\"\"Applies the given deltas to the given boxes.\n",
    "#     boxes: [N, 4] where each row is y1, x1, y2, x2\n",
    "#     deltas: [N, 4] where each row is [dy, dx, log(dh), log(dw)]\n",
    "#     \"\"\"\n",
    "# #     import pdb; pdb.set_trace()\n",
    "#     # Convert to y, x, h, w\n",
    "#     height = tensor(boxes[:, 2] - boxes[:, 0]).float()\n",
    "#     width = tensor(boxes[:, 3] - boxes[:, 1]).float()\n",
    "#     center_y = tensor(boxes[:, 0]).float() + 0.5 * height\n",
    "#     center_x = tensor(boxes[:, 1]).float() + 0.5 * width\n",
    "#     # Apply deltas\n",
    "#     center_y += deltas[:, 0] * height\n",
    "#     center_x += deltas[:, 1] * width\n",
    "#     height *= torch.exp(deltas[:, 2])\n",
    "#     width *= torch.exp(deltas[:, 3])\n",
    "#     # Convert back to y1, x1, y2, x2\n",
    "#     y1 = center_y - 0.5 * height\n",
    "#     x1 = center_x - 0.5 * width\n",
    "#     y2 = y1 + height\n",
    "#     x2 = x1 + width\n",
    "#     result = torch.stack([y1, x1, y2, x2], dim=1)\n",
    "#     return result\n",
    "\n",
    "def preds2bbox(deltas,boxes):\n",
    "    \"\"\"Applies the given deltas to the given boxes.\n",
    "    boxes: [N, 4] where each row is y1, x1, y2, x2\n",
    "    deltas: [N, 4] where each row is [dy, dx, log(dh), log(dw)]\n",
    "    \"\"\"\n",
    "    hw = boxes[...,2:]-boxes[...,:2]\n",
    "    center_yx = (boxes[...,2:]+boxes[...,:2])*0.5\n",
    "    hw_ = hw.clone() * deltas[...,:2]\n",
    "    center_yx += hw_\n",
    "    hw *= torch.exp(deltas[...,2:])\n",
    "    y1x1 = center_yx - 0.5 * hw\n",
    "    y2x2 = center_yx + 0.5 * hw\n",
    "    result = torch.cat([y1x1,y2x2],-1)\n",
    "\n",
    "    return result"
   ]
  },
  {
   "cell_type": "markdown",
   "metadata": {},
   "source": [
    "# Needs work!\n",
    "We can't parallelise this, so we process each item in the batch one-by-one."
   ]
  },
  {
   "cell_type": "code",
   "execution_count": 29,
   "metadata": {},
   "outputs": [],
   "source": [
    "def process_1_proposal(inputs, anchors, imgsize=(448,448),nms_threshold=0.7, max_proposals=2000):\n",
    "    \"\"\"\n",
    "    Handles one proposal only.\n",
    "    Receives anchor offets and confidence scores and selects candidates to move on to the next stage. \n",
    "    Filtering is done based on anchor scores and\n",
    "    non-max suppression to remove overlaps. \n",
    "\n",
    "    Inputs:\n",
    "        rpn_probs: [batch, anchors, (bg prob, fg prob)]\n",
    "        rpn_bbox: [batch, anchors, (dy, dx, log(dh), log(dw))]\n",
    "\n",
    "    Returns:\n",
    "        Proposals in normalized coordinates [batch, rois, (y1, x1, y2, x2)]\n",
    "    \"\"\"\n",
    "    # Remove batch dimension\n",
    "    inputs[0] = inputs[0].squeeze(0)\n",
    "    inputs[1] = inputs[1].squeeze(0)\n",
    "\n",
    "    # Box Scores. Use the foreground class confidence. [Batch, num_rois, 1]\n",
    "    scores = F.softmax(inputs[0],-1)[:, 1]\n",
    "\n",
    "    # Box Offsets [num_anchors, 4]\n",
    "    offsets = inputs[1]\n",
    "    RPN_BBOX_STD_DEV = np.array([0.1, 0.1, 0.2, 0.2])\n",
    "    std_dev = tensor(RPN_BBOX_STD_DEV)[None,:]\n",
    "    if torch.cuda.is_available():\n",
    "        std_dev = std_dev.cuda()\n",
    "    offsets = offsets * std_dev.float()\n",
    "\n",
    "    # Improve performance by trimming to top anchors by score\n",
    "    # and doing the rest on the smaller subset.\n",
    "    pre_nms_limit = min(6000, anchors.shape[0])\n",
    "    scores, order = scores.sort(descending=True)\n",
    "    order = order[:pre_nms_limit]\n",
    "    scores = scores[:pre_nms_limit]\n",
    "    offsets = offsets[order.data, :] \n",
    "    anchors = tensor(anchors[order.data, :]).float()\n",
    "    \n",
    "    # Apply deltas to anchors to get refined anchors.\n",
    "    # [num anchors, (y1, x1, y2, x2)]\n",
    "    boxes = preds2bbox(offsets,anchors)\n",
    "\n",
    "    # Clip to image boundaries. [num anchors, (y1, x1, y2, x2)]\n",
    "    height, width = imgsize\n",
    "    # ok we make the assumption that the images are square\n",
    "    boxes = boxes.clamp(min=0,max=height)\n",
    "    #\n",
    "    keep_idx = nms(boxes, scores, topn=max_proposals, thresh=nms_threshold)\n",
    "\n",
    "    return normalize_boxes(boxes[keep_idx], imgsize)"
   ]
  },
  {
   "cell_type": "markdown",
   "metadata": {},
   "source": [
    "### We have to loop through to convert activations to BB coords and run NMS.\n",
    "This step is a little slow, needs improvement."
   ]
  },
  {
   "cell_type": "code",
   "execution_count": 30,
   "metadata": {},
   "outputs": [],
   "source": [
    "bs = 10"
   ]
  },
  {
   "cell_type": "raw",
   "metadata": {},
   "source": [
    "# boxes = []\n",
    "# %time for i in range(bs): boxes += [process_1_proposal([rpn_class_logits[i],rpn_bbox[i]],anchors,448)]\n",
    "# boxes = torch.stack(boxes)"
   ]
  },
  {
   "cell_type": "markdown",
   "metadata": {},
   "source": [
    "Normalise the boxes so that they are between 0 and 1."
   ]
  },
  {
   "cell_type": "code",
   "execution_count": 33,
   "metadata": {},
   "outputs": [],
   "source": [
    "height,width = 448,448"
   ]
  },
  {
   "cell_type": "code",
   "execution_count": 34,
   "metadata": {},
   "outputs": [],
   "source": [
    "def normalize_boxes(boxes, img_sz=(448,448)):\n",
    "    height,width = img_sz\n",
    "    norm = tensor([height, width, height, width]).float()\n",
    "    res = boxes / norm\n",
    "    return res"
   ]
  },
  {
   "cell_type": "code",
   "execution_count": 35,
   "metadata": {
    "scrolled": false
   },
   "outputs": [],
   "source": [
    "# %time normalize_boxes(boxes).shape"
   ]
  },
  {
   "cell_type": "markdown",
   "metadata": {},
   "source": [
    "### Creating Training Targets\n",
    "We get 2000 proposals after applying NMS on RPN proposals, we need to match them to ground truth targets.\n",
    "\n",
    "The paper recommends only training on a certain amount of ROIs only, i.e. those that pass the threshold. It also recommends to have a pos:neg ratio of 1:3."
   ]
  },
  {
   "cell_type": "code",
   "execution_count": 36,
   "metadata": {},
   "outputs": [],
   "source": [
    "TRAIN_ROIS_PER_IMAGE = 200\n",
    "ROI_POSITIVE_RATIO = 0.33\n",
    "#We will perturb the targets slightly for regularisation purposes\n",
    "BBOX_STD_DEV = np.array([0.1, 0.1, 0.2, 0.2])"
   ]
  },
  {
   "cell_type": "code",
   "execution_count": 39,
   "metadata": {},
   "outputs": [],
   "source": [
    "b2 = tensor([[2,180,200,300],[300,25,350,50]]).float()"
   ]
  },
  {
   "cell_type": "markdown",
   "metadata": {},
   "source": [
    "### This works for batchsize one only."
   ]
  },
  {
   "cell_type": "code",
   "execution_count": 66,
   "metadata": {},
   "outputs": [],
   "source": [
    "def create_training_targets(proposals, gt_class_ids, gt_boxes):\n",
    "    \"\"\"\n",
    "    Matches proposed ROIs with Ground Truth BBoxes and Labels based on IoU.\n",
    "    \"\"\"\n",
    "    # Currently only supports batchsize 1\n",
    "    proposals = proposals.squeeze(0)\n",
    "    gt_class_ids = gt_class_ids.squeeze(0).int()\n",
    "    gt_boxes = gt_boxes.squeeze(0)\n",
    "    \n",
    "    #Find IoU values between proposed boxes and target boxes\n",
    "    overlaps = IoU_values(proposals,gt_boxes)\n",
    "    #Find out which target box matches each proposed box best.\n",
    "    roi_iou_max = torch.max(overlaps, dim=1)[0]\n",
    "    \n",
    "    # 1. Positive ROIs are those with >= 0.5 IoU with a targ box\n",
    "    positive_roi_bool = roi_iou_max >= 0.5\n",
    "\n",
    "    if positive_roi_bool.sum()>0:\n",
    "        positive_indices = torch.nonzero(positive_roi_bool)[:, 0]\n",
    "\n",
    "        positive_count = int(TRAIN_ROIS_PER_IMAGE *\n",
    "                             ROI_POSITIVE_RATIO)\n",
    "        rand_idx = torch.randperm(positive_indices.size()[0])\n",
    "        rand_idx = rand_idx[:positive_count]\n",
    "        if torch.cuda.is_available():\n",
    "            rand_idx = rand_idx.cuda()\n",
    "\n",
    "        positive_indices = positive_indices[rand_idx]\n",
    "        positive_count = positive_indices.size()[0]\n",
    "        positive_rois = proposals[positive_indices.data,:]\n",
    "\n",
    "        positive_overlaps = overlaps[positive_indices.data,:]\n",
    "        roi_gt_box_assignment = torch.max(positive_overlaps, dim=1)[1]\n",
    "        roi_gt_boxes = gt_boxes[roi_gt_box_assignment.data,:]\n",
    "        roi_gt_class_ids = gt_class_ids[roi_gt_box_assignment.data]\n",
    "\n",
    "        offsets = find_offsets(positive_rois.data, roi_gt_boxes.data)\n",
    "        std_dev = torch.from_numpy(BBOX_STD_DEV).float()\n",
    "        if torch.cuda.is_available():\n",
    "            std_dev = std_dev.cuda()\n",
    "        offsets /= std_dev\n",
    "    else:\n",
    "        # if we don't find any matches\n",
    "        positive_count = 0\n",
    "        \n",
    "    # 2. Negative ROIs are those with < 0.5 with every GT box. Skip crowds.\n",
    "    negative_roi_bool = roi_iou_max < 0.5\n",
    "    if negative_roi_bool.sum()>0 and positive_count>0:\n",
    "        #Sample negative examples in a fixed ratio\n",
    "        negative_indices = torch.nonzero(negative_roi_bool)[:, 0]\n",
    "        r = 1.0 / ROI_POSITIVE_RATIO\n",
    "        negative_count = int(r * positive_count - positive_count)\n",
    "        rand_idx = torch.randperm(negative_indices.size()[0])\n",
    "        rand_idx = rand_idx[:negative_count]\n",
    "        if torch.cuda.is_available():\n",
    "            rand_idx = rand_idx.cuda()\n",
    "        negative_indices = negative_indices[rand_idx]\n",
    "        negative_count = negative_indices.size()[0]\n",
    "        negative_rois = proposals[negative_indices.data, :]\n",
    "    else:\n",
    "        negative_count = 0\n",
    "            \n",
    "    #PADDING\n",
    "    # Append negative ROIs and pad box offsets with zeroes since they are disregarded during training.\n",
    "    if positive_count > 0 and negative_count > 0:\n",
    "        rois = torch.cat((positive_rois, negative_rois), dim=0)\n",
    "        zeros = torch.zeros(negative_count).int()\n",
    "        if torch.cuda.is_available():\n",
    "            zeros= zeros.cuda()\n",
    "        roi_gt_class_ids = torch.cat([roi_gt_class_ids, zeros], dim=0)\n",
    "        zeros = torch.zeros(negative_count,4)\n",
    "        if torch.cuda.is_available():\n",
    "            zeros= zeros.cuda()\n",
    "        offsets = torch.cat([offsets, zeros], dim=0)\n",
    "\n",
    "    elif positive_count > 0:\n",
    "        rois = positive_rois\n",
    "    elif negative_count > 0:\n",
    "        rois = negative_rois\n",
    "        zeros = torch.zeros(negative_count).int()\n",
    "        if torch.cuda.is_available():\n",
    "            zeros= zeros.cuda()\n",
    "        roi_gt_class_ids = zeros\n",
    "        zeros = torch.zeros(negative_count,4)\n",
    "        if torch.cuda.is_available():\n",
    "            zeros= zeros.cuda()\n",
    "        offsets = zeros\n",
    "    else:\n",
    "        rois =torch.FloatTensor()\n",
    "        roi_gt_class_ids = torch.IntTensor()\n",
    "        offsets = torch.FloatTensor()\n",
    "        if torch.cuda.is_available():\n",
    "            rois = rois.cuda()\n",
    "            roi_gt_class_ids = roi_gt_class_ids.cuda()\n",
    "            offsets = deltas.cuda()\n",
    "    return rois, roi_gt_class_ids, offsets"
   ]
  },
  {
   "cell_type": "code",
   "execution_count": 417,
   "metadata": {},
   "outputs": [],
   "source": [
    "def find_offsets(box, gt_box):\n",
    "    \"\"\"Calculate offsets needed to transform proposed ROI to Ground Truth Bounding Box.\n",
    "    box and gt_box are [N, (y1, x1, y2, x2)]\n",
    "    \n",
    "    Returns:\n",
    "     (nbox,4)\n",
    "    \"\"\"\n",
    "\n",
    "    height = box[:, 2] - box[:, 0]\n",
    "    width = box[:, 3] - box[:, 1]\n",
    "    center_y = (box[:, 0] + 0.5 * height).float()\n",
    "    center_x = (box[:, 1] + 0.5 * width).float()\n",
    "\n",
    "    gt_height = gt_box[:, 2] - gt_box[:, 0]\n",
    "    gt_width = gt_box[:, 3] - gt_box[:, 1]\n",
    "    gt_center_y = gt_box[:, 0] + 0.5 * gt_height\n",
    "    gt_center_x = gt_box[:, 1] + 0.5 * gt_width\n",
    "\n",
    "    dy = (gt_center_y - center_y) / height.float()\n",
    "    dx = (gt_center_x - center_x) / width.float()\n",
    "    dh = torch.log(gt_height / height.float())\n",
    "    dw = torch.log(gt_width / width.float())\n",
    "\n",
    "    result = torch.stack([dy, dx, dh, dw], dim=1)\n",
    "    return result"
   ]
  },
  {
   "cell_type": "code",
   "execution_count": 42,
   "metadata": {
    "scrolled": false
   },
   "outputs": [],
   "source": [
    "rois, target_class_ids, target_deltas = create_training_targets(tensor(anchors).float(),tensor([[1,2]]),b2)"
   ]
  },
  {
   "cell_type": "code",
   "execution_count": 43,
   "metadata": {},
   "outputs": [],
   "source": [
    "mrcnn_feature_maps = fpnres[:-1]"
   ]
  },
  {
   "cell_type": "code",
   "execution_count": 44,
   "metadata": {},
   "outputs": [],
   "source": [
    "POOL_SIZE = 7"
   ]
  },
  {
   "cell_type": "code",
   "execution_count": 45,
   "metadata": {},
   "outputs": [],
   "source": [
    "inputs = [rois/448] + [m[0,:] for m in mrcnn_feature_maps]"
   ]
  },
  {
   "cell_type": "code",
   "execution_count": 46,
   "metadata": {},
   "outputs": [],
   "source": [
    "def log2(x):\n",
    "    \"\"\"Implementatin of Log2. Pytorch doesn't have a native implemenation.\"\"\"\n",
    "    ln2 = torch.log(torch.FloatTensor([2.0]))\n",
    "    if x.is_cuda:\n",
    "        ln2 = ln2.cuda()\n",
    "    return torch.log(x) / ln2"
   ]
  },
  {
   "cell_type": "code",
   "execution_count": 146,
   "metadata": {},
   "outputs": [],
   "source": [
    "from roi_align.crop_and_resize import CropAndResize\n",
    "\n"
   ]
  },
  {
   "cell_type": "code",
   "execution_count": 47,
   "metadata": {},
   "outputs": [],
   "source": [
    "from roi_align.crop_and_resize import CropAndResizeFunction\n",
    "#Install from https://github.com/longcw/RoIAlign.pytorch"
   ]
  },
  {
   "cell_type": "code",
   "execution_count": 48,
   "metadata": {},
   "outputs": [],
   "source": [
    "pool_size = 7"
   ]
  },
  {
   "cell_type": "markdown",
   "metadata": {},
   "source": [
    "We've mentioned before (or did we) that each layer of the feature pyramid is responsible for detecting images of different sizes. Now that we have our RoIs, we can map them to the layer of the pyramid that they are supposed to be responsible for."
   ]
  },
  {
   "cell_type": "markdown",
   "metadata": {},
   "source": [
    "Formally, we assign an RoI of width w and height h (on the input image to the network) to the level P_k of our feature pyramid by:\n",
    "\n",
    "Section 4.2, Equation 1 from https://arxiv.org/pdf/1612.03144.pdf\n",
    "\n",
    "Analogous to the ResNet-based Faster R-CNN system that uses C4 as the single-scale feature map, we set k0 to 4"
   ]
  },
  {
   "attachments": {
    "image.png": {
     "image/png": "[encoded data removed]"
    }
   },
   "cell_type": "markdown",
   "metadata": {},
   "source": [
    "![image.png](attachment:image.png)"
   ]
  },
  {
   "cell_type": "code",
   "execution_count": 147,
   "metadata": {},
   "outputs": [],
   "source": [
    "def pyramid_roi_align(inputs, image_shape:tuple,pool_size:int=7):\n",
    "    \"\"\"Implements ROI Pooling on multiple levels of the feature pyramid.\n",
    "\n",
    "    Params:\n",
    "    - pool_size: [height, width] of the output pooled regions. Usually [7, 7]\n",
    "    - image_shape: [height, width, channels]. Shape of input image in pixels\n",
    "\n",
    "    Inputs:\n",
    "    - boxes: [batch, num_boxes, (y1, x1, y2, x2)] in normalized\n",
    "             coordinates.\n",
    "    - Feature maps: List of feature maps from different levels of the pyramid.\n",
    "                    Each is [batch, channels, height, width]\n",
    "\n",
    "    Output:\n",
    "    Pooled regions in the shape: [num_boxes, height, width, channels].\n",
    "    The width and height are those specific in the pool_shape in the layer\n",
    "    constructor.\n",
    "    \"\"\"\n",
    "\n",
    "    # Currently only supports batchsize 1\n",
    "    for i in range(len(inputs)):\n",
    "        inputs[i] = inputs[i].squeeze(0)\n",
    "\n",
    "    # Crop boxes [batch, num_boxes, (y1, x1, y2, x2)] in normalized coords\n",
    "    boxes = inputs[0]\n",
    "\n",
    "    # Feature Maps. List of feature maps from different level of the\n",
    "    # feature pyramid. Each is [batch, height, width, channels]\n",
    "    feature_maps = inputs[1:]\n",
    "\n",
    "    # Assign each ROI to a level in the pyramid based on the ROI area.\n",
    "    y1, x1, y2, x2 = boxes.chunk(4, dim=1)\n",
    "    h = y2 - y1\n",
    "    w = x2 - x1\n",
    "\n",
    "    # Equation 1 in the Feature Pyramid Networks paper. Account for\n",
    "    # the fact that our coordinates are normalized here.\n",
    "    # e.g. a 224x224 ROI (in pixels) maps to P4\n",
    "    image_area = torch.FloatTensor([float(image_shape[0]*image_shape[1])])\n",
    "    if boxes.is_cuda:\n",
    "        image_area = image_area.cuda()\n",
    "    roi_level = 4 + log2(torch.sqrt(h*w)/(224.0/torch.sqrt(image_area)))\n",
    "    roi_level = roi_level.round().int()\n",
    "    roi_level = roi_level.clamp(2,5)\n",
    "\n",
    "    cropandresize = CropAndResize(7,7)\n",
    "    # Loop through levels and apply ROI pooling to each. P2 to P5.  \n",
    "    pooled = []\n",
    "    box_to_level = []\n",
    "    for i, level in enumerate(range(2, 6)):\n",
    "        ix  = roi_level==level\n",
    "        if not ix.any():\n",
    "            continue\n",
    "        ix = torch.nonzero(ix)[:,0]\n",
    "        level_boxes = boxes[ix.data, :]\n",
    "\n",
    "        # Keep track of which box is mapped to which level\n",
    "        box_to_level.append(ix.data)\n",
    "\n",
    "        # Stop gradient propogation to ROI proposals, this step will \n",
    "        level_boxes = level_boxes.detach()\n",
    "\n",
    "        # Crop and Resize\n",
    "        # We crop each feature map output from each level in the pyramid based on the RoIs that are assigned to them\n",
    "        ind = torch.zeros(level_boxes.size()[0]).int()\n",
    "        if level_boxes.is_cuda:\n",
    "            ind = ind.cuda()\n",
    "        feature_maps[i] = feature_maps[i].unsqueeze(0)  #CropAndResizeFunction needs batch dimension\n",
    "        pooled_features = cropandresize(feature_maps[i], level_boxes, ind)\n",
    "        pooled.append(pooled_features)\n",
    "\n",
    "    # Pack pooled features into one tensor\n",
    "    pooled = torch.cat(pooled, dim=0)\n",
    "\n",
    "    # Pack box_to_level mapping into one array and add another\n",
    "    # column representing the order of pooled boxes\n",
    "    box_to_level = torch.cat(box_to_level, dim=0)\n",
    "\n",
    "    # Rearrange pooled features to match the order of the original boxes\n",
    "    _, box_to_level = torch.sort(box_to_level)\n",
    "    pooled = pooled[box_to_level, :, :]\n",
    "\n",
    "    return pooled"
   ]
  },
  {
   "cell_type": "code",
   "execution_count": 148,
   "metadata": {},
   "outputs": [],
   "source": [
    "r = pyramid_roi_align(inputs,(448,448))"
   ]
  },
  {
   "cell_type": "code",
   "execution_count": 149,
   "metadata": {},
   "outputs": [
    {
     "data": {
      "text/plain": [
       "torch.Size([178, 256, 7, 7])"
      ]
     },
     "execution_count": 149,
     "metadata": {},
     "output_type": "execute_result"
    }
   ],
   "source": [
    "r.shape"
   ]
  },
  {
   "cell_type": "markdown",
   "metadata": {},
   "source": [
    "We define the layer that handles classification and regression of each box."
   ]
  },
  {
   "cell_type": "code",
   "execution_count": 56,
   "metadata": {},
   "outputs": [],
   "source": [
    "def conv_bn_relu(ni, nf, ks):\n",
    "    return nn.Sequential(conv2d(ni, nf, ks=ks, stride=1,padding=0,bias=True),\n",
    "                         nn.BatchNorm2d(nf,eps=0.001, momentum=0.01), nn.ReLU(inplace=True))"
   ]
  },
  {
   "cell_type": "code",
   "execution_count": 236,
   "metadata": {},
   "outputs": [],
   "source": [
    "class BBoxClassifierRegressor(nn.Module):\n",
    "    def __init__(self, depth=256, pool_size:int=7, image_shape=(448,448), num_classes=12):\n",
    "        super().__init__()\n",
    "        self.depth = depth\n",
    "        self.pool_size = pool_size\n",
    "        self.image_shape = image_shape if isinstance(image_shape,tuple) else (image_shape,image_shape)\n",
    "        self.num_classes = num_classes\n",
    "        \n",
    "        self.convs = nn.Sequential(conv_bn_relu(self.depth,1024,ks=self.pool_size),conv_bn_relu(1024,1024,ks=1))\n",
    "        self.bbox_clas = nn.Linear(1024, num_classes)\n",
    "        #HMM, can't we just do 4 instead of 4*classes\n",
    "        self.bbox_reg = nn.Linear(1024, num_classes * 4)\n",
    "    def forward(self, mrcnn_feature_maps , rois):\n",
    "        x = pyramid_roi_align([rois]+mrcnn_feature_maps,self.image_shape, self.pool_size )\n",
    "        x = self.convs(x)\n",
    "        x = x.view(-1,1024)\n",
    "        \n",
    "        mrcnn_class_logits = self.bbox_clas(x)\n",
    "\n",
    "        mrcnn_bbox = self.bbox_reg(x)\n",
    "        mrcnn_bbox = mrcnn_bbox.view(mrcnn_bbox.size()[0], -1, 4)\n",
    "        return [mrcnn_class_logits, mrcnn_bbox]"
   ]
  },
  {
   "cell_type": "code",
   "execution_count": 58,
   "metadata": {},
   "outputs": [],
   "source": [
    "bbc = BBoxClassifierRegressor()"
   ]
  },
  {
   "cell_type": "code",
   "execution_count": 59,
   "metadata": {},
   "outputs": [],
   "source": [
    "res = bbc([m[0,:] for m in mrcnn_feature_maps],rois/448)"
   ]
  },
  {
   "cell_type": "code",
   "execution_count": 60,
   "metadata": {},
   "outputs": [
    {
     "data": {
      "text/plain": [
       "torch.Size([178, 12])"
      ]
     },
     "execution_count": 60,
     "metadata": {},
     "output_type": "execute_result"
    }
   ],
   "source": [
    "res[0].shape"
   ]
  },
  {
   "cell_type": "code",
   "execution_count": 61,
   "metadata": {},
   "outputs": [
    {
     "data": {
      "text/plain": [
       "torch.Size([178, 12, 4])"
      ]
     },
     "execution_count": 61,
     "metadata": {},
     "output_type": "execute_result"
    }
   ],
   "source": [
    "res[1].shape"
   ]
  },
  {
   "cell_type": "code",
   "execution_count": 237,
   "metadata": {},
   "outputs": [],
   "source": [
    "class MaskRCNN(nn.Module):\n",
    "    \"\"\"\n",
    "    encoder : Tested on Resnet50 head. \n",
    "    pretrained : If we use a model from 'models', we can opt for a pretrained model\n",
    "    chs: Number of intermediate dimensions\n",
    "    num_classes: Number of output classes\n",
    "    img_sz: Input image dimensions\n",
    "    \"\"\"\n",
    "    def __init__(self, encoder=None, pretrained=True, chs=256, num_classes=20, img_sz = (448,448)):\n",
    "        super().__init__()\n",
    "        if not encoder:\n",
    "            encoder = create_body(models.resnet50,pretrained=pretrained)\n",
    "        \n",
    "        self.img_sz = img_sz\n",
    "            \n",
    "        #Feature Pyramid Network\n",
    "        self.fpn = FPN(encoder,chs)  \n",
    "        \n",
    "        #Create Anchor Boxes\n",
    "        self.anchors = generate_pyramid_anchors(RPN_ANCHOR_SCALES,RPN_ANCHOR_RATIOS,BACKBONE_SHAPES,BACKBONE_STRIDES,RPN_ANCHOR_STRIDE)\n",
    "#TODO: Turn this into PyTorch Tensors to use the GPU\n",
    "#         if torch.cuda.is_available():\n",
    "#             self.anchors = self.anchors.cuda()\n",
    "\n",
    "        #Region Proposal Network\n",
    "        self.rpn = RPN(ratios_per_anchor=len(RPN_ANCHOR_RATIOS),ch_in=chs)\n",
    "        \n",
    "        # BBox Classifier and Regressor\n",
    "        self.bbox_clas_reg = BBoxClassifierRegressor(depth=chs, num_classes=num_classes)\n",
    "        \n",
    "    def forward(self,inp, targ=None):\n",
    "        \"\"\"\n",
    "        A forward pass through the model should output the all predicted bounding boxes with their respective predicted classes.\n",
    "        \n",
    "        Target BBox should be normalised between 0 and 1\n",
    "        \"\"\"\n",
    "        bs = inp.shape[0]\n",
    "        if targ:\n",
    "            gt_class_ids, gt_boxes = targ\n",
    "        #Feed input through FPN\n",
    "        #Returns : [p2_out, p3_out, p4_out, p5_out, p6_out]\n",
    "        feature_maps = self.fpn(inp)\n",
    "        #P6 not used in MRCNN layers\n",
    "        mrcnn_feature_maps = feature_maps[:-1]\n",
    "        \n",
    "        #Loop through each feature map and feed it through the RPN\n",
    "        layer_outputs = []  # list of lists\n",
    "        for p in feature_maps:\n",
    "            layer_outputs.append(self.rpn(p))\n",
    "        \n",
    "        # Concatenate layer outputs\n",
    "        # e.g. [[logits1, bbox1], [logits2, bbox2]] => [[logits1,logits2], [bbox1, bbox2]]\n",
    "        outputs = list(zip(*layer_outputs))\n",
    "        outputs = [torch.cat(list(o), dim=1) for o in outputs]\n",
    "        # We get logits that suggest whether or not an object is present, and the offsets to get the proposed region from the anchors\n",
    "        rpn_class_logits, rpn_bbox = outputs\n",
    "        \n",
    "        \n",
    "        #Proposal processing can't be done in a batch\n",
    "        boxes = []\n",
    "        for i in range(bs): boxes += [process_1_proposal([rpn_class_logits[i], rpn_bbox[i]], self.anchors, self.img_sz,nms_threshold=0.7, max_proposals=2000)]\n",
    "        boxes = torch.stack(boxes) \n",
    "\n",
    "        if self.training:\n",
    "            print('in training mode')\n",
    "            #To save computation time, since we only sample some boxes to contribute to the loss, we do it here before running\n",
    "            #subsequent computations.\n",
    "            rois, target_class_ids,target_offsets = create_training_targets(boxes, gt_class_ids, gt_boxes)\n",
    "\n",
    "            #If we get relevant detections\n",
    "            if len(rois) > 0:\n",
    "                mrcnn_class_logits, mrcnn_bbox = self.bbox_clas_reg(mrcnn_feature_maps,rois)\n",
    "            else:\n",
    "                mrcnn_class_logits = torch.FloatTensor()\n",
    "                mrcnn_class = torch.IntTensor()\n",
    "                mrcnn_bbox = torch.FloatTensor()\n",
    "        \n",
    "            return [rpn_class_logits, rpn_bbox, target_class_ids, mrcnn_class_logits, target_offsets, mrcnn_bbox]\n"
   ]
  },
  {
   "cell_type": "code",
   "execution_count": 238,
   "metadata": {},
   "outputs": [],
   "source": [
    "x = torch.randn(1,3,448,448)"
   ]
  },
  {
   "cell_type": "code",
   "execution_count": 239,
   "metadata": {},
   "outputs": [],
   "source": [
    "mrcnn = MaskRCNN()"
   ]
  },
  {
   "cell_type": "code",
   "execution_count": 240,
   "metadata": {
    "scrolled": true
   },
   "outputs": [
    {
     "name": "stdout",
     "output_type": "stream",
     "text": [
      "in training mode\n"
     ]
    }
   ],
   "source": [
    "res = mrcnn(x,(tensor([[1,2]]),b2/448))"
   ]
  },
  {
   "cell_type": "markdown",
   "metadata": {},
   "source": [
    "## Loss Functions\n",
    "Now that we have a model that can make predictions. We need to define the loss functions (and a few targets). \n",
    "First, let's deal with the region proposals from the RPN. We predict a ton of anchors, but we only want a subset of them to be responsible for giving us a reasonable prediction.\n",
    "\n",
    "More specifically, we assign the following:\n",
    "1. If an anchor overlaps a GT box with IoU >= 0.7 then it's positive.\n",
    "2. If an anchor overlaps a GT box with IoU < 0.3 then it's negative.\n",
    "3. If an anchor is neither of the above, it is neutral and we ignore it.\n",
    "\n",
    "Aside from that, we also want all GT boxes to be matched with something (even if it doesn't fulfill the IoU ratio). So at the end if there remains any GT box that hasn't been assigned to any anchor, we assign it to the closest anchor box."
   ]
  },
  {
   "cell_type": "code",
   "execution_count": 248,
   "metadata": {},
   "outputs": [],
   "source": [
    "gt_class_ids, gt_boxes = tensor([[1,2]]),b2/448"
   ]
  },
  {
   "cell_type": "code",
   "execution_count": 499,
   "metadata": {},
   "outputs": [],
   "source": [
    "anchs = tensor(mrcnn.anchors/448).float()"
   ]
  },
  {
   "cell_type": "code",
   "execution_count": 426,
   "metadata": {},
   "outputs": [],
   "source": [
    "#Hyperparameter that controls how many non-neutral boxes we have (neutral boxes get disregarded in the loss)\n",
    "RPN_TRAIN_ANCHORS_PER_IMAGE = 256"
   ]
  },
  {
   "cell_type": "code",
   "execution_count": 516,
   "metadata": {},
   "outputs": [],
   "source": [
    "def build_rpn_targets(anchors, gt_class_ids, gt_boxes):\n",
    "    iou  = IoU_values(anchors,gt_boxes)\n",
    "    rpn_match = torch.zeros(anchors.shape[0],dtype=torch.int32)\n",
    "\n",
    "    #if the best IoU with all GT boxes are less than .3, its a negative\n",
    "    values1, idx1  = iou.max(1)\n",
    "    msk = torch.nonzero(values1<0.3)\n",
    "    rpn_match[msk] = -1\n",
    "    #if the best IoU is greater than .7, its a positive\n",
    "    msk = torch.nonzero(values1>0.7)\n",
    "    rpn_match[msk] = 1      \n",
    "    #For each GT box, the anchor that has the highest overlap with it will be a positive no matter what\n",
    "    values2, idx2  = iou.max(0)\n",
    "    rpn_match[idx2] = 1\n",
    "    \n",
    "    #We don't want an imbalanced training regime\n",
    "    #Check if positive exceeds the preset hyperparameter\n",
    "    pos_ids = np.where(rpn_match == 1)[0]\n",
    "    extra = len(pos_ids) - (RPN_TRAIN_ANCHORS_PER_IMAGE // 2)\n",
    "    \n",
    "    if extra > 0:\n",
    "        # Reset the extra ones to neutral so they don't count\n",
    "        ids = np.random.choice(ids, extra, replace=False)\n",
    "        rpn_match[ids] = 0\n",
    "        \n",
    "    #Repeat for negatives\n",
    "    neg_ids = np.where(rpn_match == -1)[0]\n",
    "    extra = len(neg_ids) - (RPN_TRAIN_ANCHORS_PER_IMAGE -\n",
    "                        torch.sum(rpn_match == 1).item())\n",
    "    if extra > 0:\n",
    "        # Rest the extra ones to neutral\n",
    "        ids = np.random.choice(neg_ids, extra, replace=False)\n",
    "        rpn_match[ids] = 0\n",
    "    #Check again since we might have removed some positive examples    \n",
    "    updated_pos_ids = np.where(rpn_match == 1)[0]\n",
    "    \n",
    "    #Negatives and neutrals with have zeroes as their bb targets\n",
    "    rpn_bbox = torch.zeros((RPN_TRAIN_ANCHORS_PER_IMAGE, 4)).float()\n",
    "    ix = 0 \n",
    "    anchs,gts=[],[]\n",
    "    for i, a in zip(updated_pos_ids, anchors[updated_pos_ids]):\n",
    "        # idx1 contains the index of the GT box that fits that the ith anchor best\n",
    "        gt = gt_boxes[idx1[i]]\n",
    "        # Requires the batch dimension\n",
    "        gt = gt.unsqueeze(0)\n",
    "        # Find the offsets required to transform anchor to ground truth bb\n",
    "        rpn_bbox[ix] = find_offsets(tensor(a).unsqueeze(0),gt)\n",
    "    #     rpn_bbox[ix] /= RPN_BBOX_STD_DEV\n",
    "        ix += 1\n",
    "    return rpn_match, rpn_bbox"
   ]
  }
 ],
 "metadata": {
  "kernelspec": {
   "display_name": "Python 3",
   "language": "python",
   "name": "python3"
  },
  "language_info": {
   "codemirror_mode": {
    "name": "ipython",
    "version": 3
   },
   "file_extension": ".py",
   "mimetype": "text/x-python",
   "name": "python",
   "nbconvert_exporter": "python",
   "pygments_lexer": "ipython3",
   "version": "3.6.7"
  }
 },
 "nbformat": 4,
 "nbformat_minor": 2
}
