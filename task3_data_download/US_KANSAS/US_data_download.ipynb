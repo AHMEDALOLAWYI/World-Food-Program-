{
 "cells": [
  {
   "cell_type": "code",
   "execution_count": 31,
   "metadata": {
    "ExecuteTime": {
     "end_time": "2019-07-15T15:10:12.444331Z",
     "start_time": "2019-07-15T15:10:10.792216Z"
    }
   },
   "outputs": [],
   "source": [
    "import pandas as pd\n",
    "import ee\n",
    "from collections import defaultdict\n",
    "import numpy as np\n",
    "import datetime\n",
    "ee.Initialize()\n"
   ]
  },
  {
   "cell_type": "markdown",
   "metadata": {},
   "source": [
    "# Parameters"
   ]
  },
  {
   "cell_type": "code",
   "execution_count": 42,
   "metadata": {
    "ExecuteTime": {
     "end_time": "2019-07-15T15:32:50.139645Z",
     "start_time": "2019-07-15T15:32:50.136934Z"
    }
   },
   "outputs": [],
   "source": [
    "# LOCATION OF CSV FILE\n",
    "DATA = 'data/kansas_wheat_square.csv'\n",
    "\n",
    "# Download only pictures of rice and wheat\n",
    "DOWNLOAD_ONLY_POSITIVE_EXAMPLE = False\n",
    "DOWNLOAD_ONLY_NEGATIVE_EXAMPLE = False\n",
    "\n",
    "# NUMBER OF FILES TO DOWNLOAD\n",
    "# set to None to download all files\n",
    "DOWNLOAD_NB_FILES = 10\n",
    "\n",
    "# RADIUS AROUND COORD IN METERS\n",
    "# This is the number of meter around the point coordinate to include in the picture\n",
    "RADIUS_AROUND = 400\n",
    "\n",
    "# For all 13 bands ALL_BANDS=True, only RGB=False\n",
    "ALL_BANDS = True\n",
    "\n",
    "# RANGES FOR BANDS\n",
    "# Values tested on different location in nepal\n",
    "# Hypothesis: Should be the same for all images\n",
    "RANGE_MIN = 0\n",
    "RANGE_MAX = 2000\n",
    "\n",
    "# RANGE FOR DATES\n",
    "# CSV shows one date per observation.\n",
    "# However, we need to take several pictures to select ones without clouds\n",
    "# We look for RANDE_DATE weeks around the date\n",
    "RANDE_DATE = 2\n",
    "BEGIN_TOI = '10/02/2016'\n",
    "END_TOI = '17/02/2016'\n",
    "\n",
    "# GOOGLE DRIVE FOLDER\n",
    "GDRIVE_FOLDER = 'us-wheat-range_13_bands'"
   ]
  },
  {
   "cell_type": "markdown",
   "metadata": {},
   "source": [
    "# Import CSV data a nd remove NaNs"
   ]
  },
  {
   "cell_type": "code",
   "execution_count": 43,
   "metadata": {
    "ExecuteTime": {
     "end_time": "2019-07-15T15:15:25.033383Z",
     "start_time": "2019-07-15T15:15:25.024885Z"
    }
   },
   "outputs": [
    {
     "name": "stdout",
     "output_type": "stream",
     "text": [
      "Len of input data: 2920\n"
     ]
    }
   ],
   "source": [
    "df = pd.read_csv(DATA)\n",
    "print(f'Len of input data: {len(df)}')"
   ]
  },
  {
   "cell_type": "code",
   "execution_count": null,
   "metadata": {},
   "outputs": [],
   "source": [
    "df"
   ]
  },
  {
   "cell_type": "markdown",
   "metadata": {},
   "source": [
    "# Google Earth Engine download\n"
   ]
  },
  {
   "cell_type": "code",
   "execution_count": 45,
   "metadata": {
    "ExecuteTime": {
     "end_time": "2019-07-15T15:15:35.948807Z",
     "start_time": "2019-07-15T15:15:35.943845Z"
    }
   },
   "outputs": [],
   "source": [
    "dataset = ee.ImageCollection('COPERNICUS/S2').select(['B4', 'B3', 'B2'])"
   ]
  },
  {
   "cell_type": "code",
   "execution_count": 37,
   "metadata": {
    "ExecuteTime": {
     "end_time": "2019-07-15T15:16:43.515679Z",
     "start_time": "2019-07-15T15:16:43.510603Z"
    }
   },
   "outputs": [
    {
     "data": {
      "text/plain": [
       "Index(['Unnamed: 0', 'names', 'long_min', 'lat_min', 'long_max', 'lat_max'], dtype='object')"
      ]
     },
     "execution_count": 37,
     "metadata": {},
     "output_type": "execute_result"
    }
   ],
   "source": [
    "df.columns"
   ]
  },
  {
   "cell_type": "code",
   "execution_count": 38,
   "metadata": {
    "ExecuteTime": {
     "end_time": "2019-07-15T15:18:55.634934Z",
     "start_time": "2019-07-15T15:18:55.371234Z"
    }
   },
   "outputs": [],
   "source": [
    "# Create list with a tuple per point: File name - x - y - date\n",
    "coords = [(point[1][0], point[1][1], point[1][2], point[1][3], point[1][4]) for point in df.loc[:, ['names', 'long_min', 'lat_min', 'long_max', 'lat_max']].iterrows()]"
   ]
  },
  {
   "cell_type": "code",
   "execution_count": 48,
   "metadata": {
    "ExecuteTime": {
     "end_time": "2019-07-15T15:18:58.948391Z",
     "start_time": "2019-07-15T15:18:58.943227Z"
    }
   },
   "outputs": [],
   "source": [
    "# File name - x - y - date - type\n",
    "coords[0]"
   ]
  },
  {
   "cell_type": "code",
   "execution_count": 40,
   "metadata": {
    "ExecuteTime": {
     "end_time": "2019-07-15T15:32:52.502632Z",
     "start_time": "2019-07-15T15:32:52.483093Z"
    }
   },
   "outputs": [],
   "source": [
    "# Generate a rectangle containing the circle (centered on the coordinate) with radius RADIUS_AROUND\n",
    "def get_geometry_radius(geometry_point):\n",
    "    return ee.Geometry.Rectangle([coord[:, 0].min(), coord[:, 1].min(), coord[:, 0].max(), coord[:, 1].max()])\n",
    "\n",
    "# Generate the dates around the observation date\n",
    "def date_range_to_collect():\n",
    "  \n",
    "    d, m, y = BEGIN_TOI.split('/')\n",
    "        \n",
    "    target_date = datetime.date(int(y), int(m), int(d))\n",
    "    delta = datetime.timedelta(weeks=RANDE_DATE)\n",
    "    return target_date-delta, target_date+delta\n",
    "\n",
    "def generate_image(image_collection, image_name, long_min, lat_min, long_max, lat_max, debug=True):\n",
    "    if debug: print(f'Working on {image_name}')\n",
    "\n",
    "    geometry_radius= ee.Geometry.Rectangle([long_min, lat_min, long_max, lat_max])\n",
    "    \n",
    "    spatialFiltered = image_collection.filterBounds(geometry_radius)\n",
    "\n",
    "    date_range = date_range_to_collect()\n",
    "    if debug: print('date range:' + str(date_range[0]) + str(date_range[1]))\n",
    "    temporalFiltered = spatialFiltered.filterDate(str(date_range[0]), str(date_range[1]))\n",
    "\n",
    "    # The darker pixels have the least clouds\n",
    "    least_clouds = temporalFiltered.min()\n",
    "    #least_clouds = temporalFiltered.sort('CLOUD_COVER').first()\n",
    "\n",
    "    #ar scene = ee.Image(sorted.first())\n",
    "\n",
    "    if ALL_BANDS:\n",
    "        testimg = least_clouds.select('B.+')\n",
    "    else:\n",
    "        testimg = least_clouds.visualize(bands=['B4', 'B3', 'B2'], min=RANGE_MIN, max=RANGE_MAX)\n",
    "\n",
    "    #testimg = least_clouds.select('B.+')\n",
    "    #testimg = testimg.resample('bicubic')\n",
    "    task = ee.batch.Export.image.toDrive(testimg, folder=GDRIVE_FOLDER, region=geometry_radius.getInfo()['coordinates'][0], description=image_name.split('.')[0], scale=10)\n",
    "    task.start()\n"
   ]
  },
  {
   "cell_type": "code",
   "execution_count": 41,
   "metadata": {
    "ExecuteTime": {
     "end_time": "2019-06-28T11:43:08.533360Z",
     "start_time": "2019-06-28T11:43:08.525567Z"
    },
    "scrolled": true
   },
   "outputs": [],
   "source": [
    "df['names'].value_counts()"
   ]
  },
  {
   "cell_type": "code",
   "execution_count": 49,
   "metadata": {
    "ExecuteTime": {
     "end_time": "2019-07-15T15:33:21.924466Z",
     "start_time": "2019-07-15T15:32:55.198883Z"
    }
   },
   "outputs": [],
   "source": [
    "dataset_collection = ee.ImageCollection('COPERNICUS/S2')\n",
    "\n",
    "\n",
    "for i, point in enumerate(coords):\n",
    "    if DOWNLOAD_NB_FILES is not None and i >= DOWNLOAD_NB_FILES:\n",
    "        break\n",
    "    generate_image(dataset_collection, point[0], point[1], point[2], point[3], point[4])"
   ]
  },
  {
   "cell_type": "code",
   "execution_count": null,
   "metadata": {},
   "outputs": [],
   "source": []
  }
 ],
 "metadata": {
  "kernelspec": {
   "display_name": "Python 3",
   "language": "python",
   "name": "python3"
  },
  "language_info": {
   "codemirror_mode": {
    "name": "ipython",
    "version": 3
   },
   "file_extension": ".py",
   "mimetype": "text/x-python",
   "name": "python",
   "nbconvert_exporter": "python",
   "pygments_lexer": "ipython3",
   "version": "3.7.3"
  }
 },
 "nbformat": 4,
 "nbformat_minor": 2
}
