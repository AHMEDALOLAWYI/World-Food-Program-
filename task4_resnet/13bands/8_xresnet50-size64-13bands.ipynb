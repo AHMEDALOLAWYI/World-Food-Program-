{
 "cells": [
  {
   "cell_type": "code",
   "execution_count": 6,
   "metadata": {
    "ExecuteTime": {
     "end_time": "2019-07-02T15:28:18.685534Z",
     "start_time": "2019-07-02T15:28:18.665285Z"
    }
   },
   "outputs": [
    {
     "name": "stdout",
     "output_type": "stream",
     "text": [
      "The autoreload extension is already loaded. To reload it, use:\n",
      "  %reload_ext autoreload\n"
     ]
    }
   ],
   "source": [
    "%load_ext autoreload\n",
    "%autoreload 2\n",
    "\n",
    "from fastai.vision import *\n",
    "from PIL import Image\n",
    "from matplotlib.pyplot import imshow\n",
    "from pathlib import Path\n",
    "from tqdm import tqdm\n",
    "import utils as utils\n",
    "from skimage import io\n",
    "import utils as utils\n",
    "from fastai.vision.models.xresnet import *\n"
   ]
  },
  {
   "cell_type": "code",
   "execution_count": 2,
   "metadata": {
    "ExecuteTime": {
     "end_time": "2019-07-02T15:27:56.795723Z",
     "start_time": "2019-07-02T15:27:56.781370Z"
    }
   },
   "outputs": [],
   "source": [
    "path = 'data/S2-allbands/crop/'"
   ]
  },
  {
   "cell_type": "code",
   "execution_count": 3,
   "metadata": {
    "ExecuteTime": {
     "end_time": "2019-07-02T15:27:58.783583Z",
     "start_time": "2019-07-02T15:27:58.763953Z"
    }
   },
   "outputs": [],
   "source": [
    "def label_for_rice(name):\n",
    "    crops = (name.stem.split('-')[-1])\n",
    "    \n",
    "    return crops in ['B101', 'B102', 'B103']\n",
    "class NPList(ImageList):\n",
    "    def __init__(self, *args, **kwargs):\n",
    "        super().__init__(*args, **kwargs)\n",
    "        \n",
    "    def open(self, fn):\n",
    "        raw = np.load(str(fn))\n",
    "        x = np.swapaxes(raw, 0, 2).astype(np.float32)\n",
    "        return x"
   ]
  },
  {
   "cell_type": "code",
   "execution_count": 4,
   "metadata": {
    "ExecuteTime": {
     "end_time": "2019-07-02T15:28:00.312220Z",
     "start_time": "2019-07-02T15:28:00.296203Z"
    }
   },
   "outputs": [],
   "source": [
    "stats_eurosat_allbands = ([1353.73046875,\n",
    "  1117.2020263671875,\n",
    "  1041.8876953125,\n",
    "  946.5513305664062,\n",
    "  1199.1883544921875,\n",
    "  2003.0101318359375,\n",
    "  2374.01171875,\n",
    "  2301.222412109375,\n",
    "  732.1828002929688,\n",
    "  12.099513053894043,\n",
    "  1820.6893310546875,\n",
    "  1118.1998291015625,\n",
    "  2599.784912109375],\n",
    " [30.343395233154297,\n",
    "  66.4549560546875,\n",
    "  71.52734375,\n",
    "  86.9700698852539,\n",
    "  70.47565460205078,\n",
    "  81.35286712646484,\n",
    "  97.88168334960938,\n",
    "  99.96805572509766,\n",
    "  27.891748428344727,\n",
    "  0.32882159948349,\n",
    "  92.60734558105469,\n",
    "  87.39993286132812,\n",
    "  106.57888793945312])"
   ]
  },
  {
   "cell_type": "code",
   "execution_count": null,
   "metadata": {
    "ExecuteTime": {
     "end_time": "2019-07-01T17:39:26.368786Z",
     "start_time": "2019-07-01T17:39:26.348650Z"
    }
   },
   "outputs": [],
   "source": []
  },
  {
   "cell_type": "code",
   "execution_count": 5,
   "metadata": {
    "ExecuteTime": {
     "end_time": "2019-07-02T15:28:02.236796Z",
     "start_time": "2019-07-02T15:28:02.141523Z"
    }
   },
   "outputs": [],
   "source": [
    "data = NPList.from_folder(path, extensions=['.npy'])\n",
    "data = data.split_by_rand_pct()\n",
    "data = data.label_from_func(label_for_rice)\n",
    "data = data.databunch()\n",
    "data = data.normalize(stats_eurosat_allbands)"
   ]
  },
  {
   "cell_type": "code",
   "execution_count": 93,
   "metadata": {
    "ExecuteTime": {
     "end_time": "2019-07-02T16:02:33.497044Z",
     "start_time": "2019-07-02T16:02:33.476698Z"
    }
   },
   "outputs": [],
   "source": [
    "def create_model(data,  eurosat_url='data/xres7_fastai_allbandsiw5'):\n",
    "    print('Importing custom xresnet50 pretrained on eurosat')\n",
    "\n",
    "    model = xresnet50(c_in=13, c_out=10)\n",
    "    st = torch.load(eurosat_url)\n",
    "    model.load_state_dict(st)\n",
    "    \n",
    "    m_new = nn.Sequential(*list(model.children())[:-3], AdaptiveConcatPool2d(), Flatten(), nn.Linear(4096, 2))\n",
    "    learn = Learner(data, m_new, metrics=[accuracy, utils.f1_score])\n",
    "    first_layer = learn.layer_groups[0][:-4]\n",
    "    second_layer = learn.layer_groups[0][-4:]\n",
    "    learn.layer_groups = [first_layer, second_layer]\n",
    "\n",
    "\n",
    "    \n",
    "    return learn"
   ]
  },
  {
   "cell_type": "code",
   "execution_count": 97,
   "metadata": {
    "ExecuteTime": {
     "end_time": "2019-07-02T16:03:17.419971Z",
     "start_time": "2019-07-02T16:03:17.022380Z"
    }
   },
   "outputs": [
    {
     "name": "stdout",
     "output_type": "stream",
     "text": [
      "Importing custom xresnet50 pretrained on eurosat\n"
     ]
    }
   ],
   "source": [
    "learn = create_model(data)\n",
    "learn.loss_func = LabelSmoothingCrossEntropy()"
   ]
  },
  {
   "cell_type": "code",
   "execution_count": 98,
   "metadata": {
    "ExecuteTime": {
     "end_time": "2019-07-02T16:03:25.194713Z",
     "start_time": "2019-07-02T16:03:18.875668Z"
    }
   },
   "outputs": [
    {
     "data": {
      "text/html": [
       "<table border=\"1\" class=\"dataframe\">\n",
       "  <thead>\n",
       "    <tr style=\"text-align: left;\">\n",
       "      <th>epoch</th>\n",
       "      <th>train_loss</th>\n",
       "      <th>valid_loss</th>\n",
       "      <th>accuracy</th>\n",
       "      <th>f1_score</th>\n",
       "      <th>time</th>\n",
       "    </tr>\n",
       "  </thead>\n",
       "  <tbody>\n",
       "    <tr>\n",
       "      <td>0</td>\n",
       "      <td>0.622891</td>\n",
       "      <td>0.552016</td>\n",
       "      <td>0.739437</td>\n",
       "      <td>0.260817</td>\n",
       "      <td>00:01</td>\n",
       "    </tr>\n",
       "    <tr>\n",
       "      <td>1</td>\n",
       "      <td>0.563189</td>\n",
       "      <td>0.513434</td>\n",
       "      <td>0.802817</td>\n",
       "      <td>0.547770</td>\n",
       "      <td>00:01</td>\n",
       "    </tr>\n",
       "    <tr>\n",
       "      <td>2</td>\n",
       "      <td>0.541449</td>\n",
       "      <td>0.504103</td>\n",
       "      <td>0.809859</td>\n",
       "      <td>0.631212</td>\n",
       "      <td>00:01</td>\n",
       "    </tr>\n",
       "    <tr>\n",
       "      <td>3</td>\n",
       "      <td>0.528344</td>\n",
       "      <td>0.506723</td>\n",
       "      <td>0.809859</td>\n",
       "      <td>0.572880</td>\n",
       "      <td>00:01</td>\n",
       "    </tr>\n",
       "    <tr>\n",
       "      <td>4</td>\n",
       "      <td>0.515576</td>\n",
       "      <td>0.509508</td>\n",
       "      <td>0.802817</td>\n",
       "      <td>0.585434</td>\n",
       "      <td>00:01</td>\n",
       "    </tr>\n",
       "  </tbody>\n",
       "</table>"
      ],
      "text/plain": [
       "<IPython.core.display.HTML object>"
      ]
     },
     "metadata": {},
     "output_type": "display_data"
    }
   ],
   "source": [
    "learn.freeze_to(-1)\n",
    "learn.fit_one_cycle(5, slice(1e-3))"
   ]
  },
  {
   "cell_type": "code",
   "execution_count": 99,
   "metadata": {
    "ExecuteTime": {
     "end_time": "2019-07-02T16:03:34.122956Z",
     "start_time": "2019-07-02T16:03:26.489626Z"
    }
   },
   "outputs": [
    {
     "data": {
      "text/html": [
       "<table border=\"1\" class=\"dataframe\">\n",
       "  <thead>\n",
       "    <tr style=\"text-align: left;\">\n",
       "      <th>epoch</th>\n",
       "      <th>train_loss</th>\n",
       "      <th>valid_loss</th>\n",
       "      <th>accuracy</th>\n",
       "      <th>f1_score</th>\n",
       "      <th>time</th>\n",
       "    </tr>\n",
       "  </thead>\n",
       "  <tbody>\n",
       "    <tr>\n",
       "      <td>0</td>\n",
       "      <td>0.501513</td>\n",
       "      <td>0.504763</td>\n",
       "      <td>0.806338</td>\n",
       "      <td>0.604518</td>\n",
       "      <td>00:01</td>\n",
       "    </tr>\n",
       "    <tr>\n",
       "      <td>1</td>\n",
       "      <td>0.505111</td>\n",
       "      <td>0.502951</td>\n",
       "      <td>0.806338</td>\n",
       "      <td>0.627145</td>\n",
       "      <td>00:01</td>\n",
       "    </tr>\n",
       "    <tr>\n",
       "      <td>2</td>\n",
       "      <td>0.501268</td>\n",
       "      <td>0.506319</td>\n",
       "      <td>0.809859</td>\n",
       "      <td>0.621882</td>\n",
       "      <td>00:01</td>\n",
       "    </tr>\n",
       "    <tr>\n",
       "      <td>3</td>\n",
       "      <td>0.496967</td>\n",
       "      <td>0.502414</td>\n",
       "      <td>0.806338</td>\n",
       "      <td>0.624840</td>\n",
       "      <td>00:01</td>\n",
       "    </tr>\n",
       "    <tr>\n",
       "      <td>4</td>\n",
       "      <td>0.495525</td>\n",
       "      <td>0.503254</td>\n",
       "      <td>0.816901</td>\n",
       "      <td>0.636108</td>\n",
       "      <td>00:01</td>\n",
       "    </tr>\n",
       "  </tbody>\n",
       "</table>"
      ],
      "text/plain": [
       "<IPython.core.display.HTML object>"
      ]
     },
     "metadata": {},
     "output_type": "display_data"
    }
   ],
   "source": [
    "learn.unfreeze()\n",
    "learn.fit_one_cycle(5, slice(1e-4))"
   ]
  },
  {
   "cell_type": "code",
   "execution_count": 100,
   "metadata": {
    "ExecuteTime": {
     "end_time": "2019-07-02T16:03:35.839221Z",
     "start_time": "2019-07-02T16:03:35.418388Z"
    }
   },
   "outputs": [
    {
     "data": {
      "image/png": "[encoded data removed]",
      "text/plain": [
       "<Figure size 432x288 with 1 Axes>"
      ]
     },
     "metadata": {},
     "output_type": "display_data"
    }
   ],
   "source": [
    "preds,y,losses = learn.get_preds(with_loss=True)\n",
    "interp = ClassificationInterpretation(learn, preds, y, losses)\n",
    "interp.plot_confusion_matrix()"
   ]
  },
  {
   "cell_type": "markdown",
   "metadata": {},
   "source": [
    "## Basic model"
   ]
  },
  {
   "cell_type": "code",
   "execution_count": 8,
   "metadata": {
    "ExecuteTime": {
     "end_time": "2019-07-02T15:28:41.550414Z",
     "start_time": "2019-07-02T15:28:41.253548Z"
    }
   },
   "outputs": [],
   "source": [
    "model = xresnet50(c_in=13, c_out=10)"
   ]
  },
  {
   "cell_type": "code",
   "execution_count": 46,
   "metadata": {
    "ExecuteTime": {
     "end_time": "2019-07-02T15:35:15.949109Z",
     "start_time": "2019-07-02T15:35:15.557825Z"
    }
   },
   "outputs": [
    {
     "name": "stdout",
     "output_type": "stream",
     "text": [
      "Importing custom xresnet50 pretrained on eurosat\n"
     ]
    }
   ],
   "source": [
    "learn = create_model(data)"
   ]
  },
  {
   "cell_type": "code",
   "execution_count": 48,
   "metadata": {
    "ExecuteTime": {
     "end_time": "2019-07-02T15:35:21.105732Z",
     "start_time": "2019-07-02T15:35:20.701964Z"
    }
   },
   "outputs": [
    {
     "data": {
      "text/plain": [
       "Sequential\n",
       "======================================================================\n",
       "Layer (type)         Output Shape         Param #    Trainable \n",
       "======================================================================\n",
       "Conv2d               [32, 32, 32]         3,744      True      \n",
       "______________________________________________________________________\n",
       "BatchNorm2d          [32, 32, 32]         64         True      \n",
       "______________________________________________________________________\n",
       "ReLU                 [2048, 2, 2]         0          False     \n",
       "______________________________________________________________________\n",
       "Conv2d               [32, 32, 32]         9,216      True      \n",
       "______________________________________________________________________\n",
       "BatchNorm2d          [32, 32, 32]         64         True      \n",
       "______________________________________________________________________\n",
       "ReLU                 [2048, 2, 2]         0          False     \n",
       "______________________________________________________________________\n",
       "Conv2d               [64, 32, 32]         18,432     True      \n",
       "______________________________________________________________________\n",
       "BatchNorm2d          [64, 32, 32]         128        True      \n",
       "______________________________________________________________________\n",
       "ReLU                 [2048, 2, 2]         0          False     \n",
       "______________________________________________________________________\n",
       "MaxPool2d            [64, 16, 16]         0          False     \n",
       "______________________________________________________________________\n",
       "Conv2d               [64, 16, 16]         4,096      True      \n",
       "______________________________________________________________________\n",
       "BatchNorm2d          [64, 16, 16]         128        True      \n",
       "______________________________________________________________________\n",
       "ReLU                 [2048, 2, 2]         0          False     \n",
       "______________________________________________________________________\n",
       "Conv2d               [64, 16, 16]         36,864     True      \n",
       "______________________________________________________________________\n",
       "BatchNorm2d          [64, 16, 16]         128        True      \n",
       "______________________________________________________________________\n",
       "ReLU                 [2048, 2, 2]         0          False     \n",
       "______________________________________________________________________\n",
       "Conv2d               [256, 16, 16]        16,384     True      \n",
       "______________________________________________________________________\n",
       "BatchNorm2d          [256, 16, 16]        512        True      \n",
       "______________________________________________________________________\n",
       "Conv2d               [256, 16, 16]        16,384     True      \n",
       "______________________________________________________________________\n",
       "BatchNorm2d          [256, 16, 16]        512        True      \n",
       "______________________________________________________________________\n",
       "Conv2d               [64, 16, 16]         16,384     True      \n",
       "______________________________________________________________________\n",
       "BatchNorm2d          [64, 16, 16]         128        True      \n",
       "______________________________________________________________________\n",
       "ReLU                 [2048, 2, 2]         0          False     \n",
       "______________________________________________________________________\n",
       "Conv2d               [64, 16, 16]         36,864     True      \n",
       "______________________________________________________________________\n",
       "BatchNorm2d          [64, 16, 16]         128        True      \n",
       "______________________________________________________________________\n",
       "ReLU                 [2048, 2, 2]         0          False     \n",
       "______________________________________________________________________\n",
       "Conv2d               [256, 16, 16]        16,384     True      \n",
       "______________________________________________________________________\n",
       "BatchNorm2d          [256, 16, 16]        512        True      \n",
       "______________________________________________________________________\n",
       "Conv2d               [64, 16, 16]         16,384     True      \n",
       "______________________________________________________________________\n",
       "BatchNorm2d          [64, 16, 16]         128        True      \n",
       "______________________________________________________________________\n",
       "ReLU                 [2048, 2, 2]         0          False     \n",
       "______________________________________________________________________\n",
       "Conv2d               [64, 16, 16]         36,864     True      \n",
       "______________________________________________________________________\n",
       "BatchNorm2d          [64, 16, 16]         128        True      \n",
       "______________________________________________________________________\n",
       "ReLU                 [2048, 2, 2]         0          False     \n",
       "______________________________________________________________________\n",
       "Conv2d               [256, 16, 16]        16,384     True      \n",
       "______________________________________________________________________\n",
       "BatchNorm2d          [256, 16, 16]        512        True      \n",
       "______________________________________________________________________\n",
       "Conv2d               [128, 16, 16]        32,768     True      \n",
       "______________________________________________________________________\n",
       "BatchNorm2d          [128, 16, 16]        256        True      \n",
       "______________________________________________________________________\n",
       "ReLU                 [2048, 2, 2]         0          False     \n",
       "______________________________________________________________________\n",
       "Conv2d               [128, 8, 8]          147,456    True      \n",
       "______________________________________________________________________\n",
       "BatchNorm2d          [128, 8, 8]          256        True      \n",
       "______________________________________________________________________\n",
       "ReLU                 [2048, 2, 2]         0          False     \n",
       "______________________________________________________________________\n",
       "Conv2d               [512, 8, 8]          65,536     True      \n",
       "______________________________________________________________________\n",
       "BatchNorm2d          [512, 8, 8]          1,024      True      \n",
       "______________________________________________________________________\n",
       "Conv2d               [512, 8, 8]          131,072    True      \n",
       "______________________________________________________________________\n",
       "BatchNorm2d          [512, 8, 8]          1,024      True      \n",
       "______________________________________________________________________\n",
       "AvgPool2d            [256, 8, 8]          0          False     \n",
       "______________________________________________________________________\n",
       "Conv2d               [128, 8, 8]          65,536     True      \n",
       "______________________________________________________________________\n",
       "BatchNorm2d          [128, 8, 8]          256        True      \n",
       "______________________________________________________________________\n",
       "ReLU                 [2048, 2, 2]         0          False     \n",
       "______________________________________________________________________\n",
       "Conv2d               [128, 8, 8]          147,456    True      \n",
       "______________________________________________________________________\n",
       "BatchNorm2d          [128, 8, 8]          256        True      \n",
       "______________________________________________________________________\n",
       "ReLU                 [2048, 2, 2]         0          False     \n",
       "______________________________________________________________________\n",
       "Conv2d               [512, 8, 8]          65,536     True      \n",
       "______________________________________________________________________\n",
       "BatchNorm2d          [512, 8, 8]          1,024      True      \n",
       "______________________________________________________________________\n",
       "Conv2d               [128, 8, 8]          65,536     True      \n",
       "______________________________________________________________________\n",
       "BatchNorm2d          [128, 8, 8]          256        True      \n",
       "______________________________________________________________________\n",
       "ReLU                 [2048, 2, 2]         0          False     \n",
       "______________________________________________________________________\n",
       "Conv2d               [128, 8, 8]          147,456    True      \n",
       "______________________________________________________________________\n",
       "BatchNorm2d          [128, 8, 8]          256        True      \n",
       "______________________________________________________________________\n",
       "ReLU                 [2048, 2, 2]         0          False     \n",
       "______________________________________________________________________\n",
       "Conv2d               [512, 8, 8]          65,536     True      \n",
       "______________________________________________________________________\n",
       "BatchNorm2d          [512, 8, 8]          1,024      True      \n",
       "______________________________________________________________________\n",
       "Conv2d               [128, 8, 8]          65,536     True      \n",
       "______________________________________________________________________\n",
       "BatchNorm2d          [128, 8, 8]          256        True      \n",
       "______________________________________________________________________\n",
       "ReLU                 [2048, 2, 2]         0          False     \n",
       "______________________________________________________________________\n",
       "Conv2d               [128, 8, 8]          147,456    True      \n",
       "______________________________________________________________________\n",
       "BatchNorm2d          [128, 8, 8]          256        True      \n",
       "______________________________________________________________________\n",
       "ReLU                 [2048, 2, 2]         0          False     \n",
       "______________________________________________________________________\n",
       "Conv2d               [512, 8, 8]          65,536     True      \n",
       "______________________________________________________________________\n",
       "BatchNorm2d          [512, 8, 8]          1,024      True      \n",
       "______________________________________________________________________\n",
       "Conv2d               [256, 8, 8]          131,072    True      \n",
       "______________________________________________________________________\n",
       "BatchNorm2d          [256, 8, 8]          512        True      \n",
       "______________________________________________________________________\n",
       "ReLU                 [2048, 2, 2]         0          False     \n",
       "______________________________________________________________________\n",
       "Conv2d               [256, 4, 4]          589,824    True      \n",
       "______________________________________________________________________\n",
       "BatchNorm2d          [256, 4, 4]          512        True      \n",
       "______________________________________________________________________\n",
       "ReLU                 [2048, 2, 2]         0          False     \n",
       "______________________________________________________________________\n",
       "Conv2d               [1024, 4, 4]         262,144    True      \n",
       "______________________________________________________________________\n",
       "BatchNorm2d          [1024, 4, 4]         2,048      True      \n",
       "______________________________________________________________________\n",
       "Conv2d               [1024, 4, 4]         524,288    True      \n",
       "______________________________________________________________________\n",
       "BatchNorm2d          [1024, 4, 4]         2,048      True      \n",
       "______________________________________________________________________\n",
       "AvgPool2d            [512, 4, 4]          0          False     \n",
       "______________________________________________________________________\n",
       "Conv2d               [256, 4, 4]          262,144    True      \n",
       "______________________________________________________________________\n",
       "BatchNorm2d          [256, 4, 4]          512        True      \n",
       "______________________________________________________________________\n",
       "ReLU                 [2048, 2, 2]         0          False     \n",
       "______________________________________________________________________\n",
       "Conv2d               [256, 4, 4]          589,824    True      \n",
       "______________________________________________________________________\n",
       "BatchNorm2d          [256, 4, 4]          512        True      \n",
       "______________________________________________________________________\n",
       "ReLU                 [2048, 2, 2]         0          False     \n",
       "______________________________________________________________________\n",
       "Conv2d               [1024, 4, 4]         262,144    True      \n",
       "______________________________________________________________________\n",
       "BatchNorm2d          [1024, 4, 4]         2,048      True      \n",
       "______________________________________________________________________\n",
       "Conv2d               [256, 4, 4]          262,144    True      \n",
       "______________________________________________________________________\n",
       "BatchNorm2d          [256, 4, 4]          512        True      \n",
       "______________________________________________________________________\n",
       "ReLU                 [2048, 2, 2]         0          False     \n",
       "______________________________________________________________________\n",
       "Conv2d               [256, 4, 4]          589,824    True      \n",
       "______________________________________________________________________\n",
       "BatchNorm2d          [256, 4, 4]          512        True      \n",
       "______________________________________________________________________\n",
       "ReLU                 [2048, 2, 2]         0          False     \n",
       "______________________________________________________________________\n",
       "Conv2d               [1024, 4, 4]         262,144    True      \n",
       "______________________________________________________________________\n",
       "BatchNorm2d          [1024, 4, 4]         2,048      True      \n",
       "______________________________________________________________________\n",
       "Conv2d               [256, 4, 4]          262,144    True      \n",
       "______________________________________________________________________\n",
       "BatchNorm2d          [256, 4, 4]          512        True      \n",
       "______________________________________________________________________\n",
       "ReLU                 [2048, 2, 2]         0          False     \n",
       "______________________________________________________________________\n",
       "Conv2d               [256, 4, 4]          589,824    True      \n",
       "______________________________________________________________________\n",
       "BatchNorm2d          [256, 4, 4]          512        True      \n",
       "______________________________________________________________________\n",
       "ReLU                 [2048, 2, 2]         0          False     \n",
       "______________________________________________________________________\n",
       "Conv2d               [1024, 4, 4]         262,144    True      \n",
       "______________________________________________________________________\n",
       "BatchNorm2d          [1024, 4, 4]         2,048      True      \n",
       "______________________________________________________________________\n",
       "Conv2d               [256, 4, 4]          262,144    True      \n",
       "______________________________________________________________________\n",
       "BatchNorm2d          [256, 4, 4]          512        True      \n",
       "______________________________________________________________________\n",
       "ReLU                 [2048, 2, 2]         0          False     \n",
       "______________________________________________________________________\n",
       "Conv2d               [256, 4, 4]          589,824    True      \n",
       "______________________________________________________________________\n",
       "BatchNorm2d          [256, 4, 4]          512        True      \n",
       "______________________________________________________________________\n",
       "ReLU                 [2048, 2, 2]         0          False     \n",
       "______________________________________________________________________\n",
       "Conv2d               [1024, 4, 4]         262,144    True      \n",
       "______________________________________________________________________\n",
       "BatchNorm2d          [1024, 4, 4]         2,048      True      \n",
       "______________________________________________________________________\n",
       "Conv2d               [256, 4, 4]          262,144    True      \n",
       "______________________________________________________________________\n",
       "BatchNorm2d          [256, 4, 4]          512        True      \n",
       "______________________________________________________________________\n",
       "ReLU                 [2048, 2, 2]         0          False     \n",
       "______________________________________________________________________\n",
       "Conv2d               [256, 4, 4]          589,824    True      \n",
       "______________________________________________________________________\n",
       "BatchNorm2d          [256, 4, 4]          512        True      \n",
       "______________________________________________________________________\n",
       "ReLU                 [2048, 2, 2]         0          False     \n",
       "______________________________________________________________________\n",
       "Conv2d               [1024, 4, 4]         262,144    True      \n",
       "______________________________________________________________________\n",
       "BatchNorm2d          [1024, 4, 4]         2,048      True      \n",
       "______________________________________________________________________\n",
       "Conv2d               [512, 4, 4]          524,288    True      \n",
       "______________________________________________________________________\n",
       "BatchNorm2d          [512, 4, 4]          1,024      True      \n",
       "______________________________________________________________________\n",
       "ReLU                 [2048, 2, 2]         0          False     \n",
       "______________________________________________________________________\n",
       "Conv2d               [512, 2, 2]          2,359,296  True      \n",
       "______________________________________________________________________\n",
       "BatchNorm2d          [512, 2, 2]          1,024      True      \n",
       "______________________________________________________________________\n",
       "ReLU                 [2048, 2, 2]         0          False     \n",
       "______________________________________________________________________\n",
       "Conv2d               [2048, 2, 2]         1,048,576  True      \n",
       "______________________________________________________________________\n",
       "BatchNorm2d          [2048, 2, 2]         4,096      True      \n",
       "______________________________________________________________________\n",
       "Conv2d               [2048, 2, 2]         2,097,152  True      \n",
       "______________________________________________________________________\n",
       "BatchNorm2d          [2048, 2, 2]         4,096      True      \n",
       "______________________________________________________________________\n",
       "AvgPool2d            [1024, 2, 2]         0          False     \n",
       "______________________________________________________________________\n",
       "Conv2d               [512, 2, 2]          1,048,576  True      \n",
       "______________________________________________________________________\n",
       "BatchNorm2d          [512, 2, 2]          1,024      True      \n",
       "______________________________________________________________________\n",
       "ReLU                 [2048, 2, 2]         0          False     \n",
       "______________________________________________________________________\n",
       "Conv2d               [512, 2, 2]          2,359,296  True      \n",
       "______________________________________________________________________\n",
       "BatchNorm2d          [512, 2, 2]          1,024      True      \n",
       "______________________________________________________________________\n",
       "ReLU                 [2048, 2, 2]         0          False     \n",
       "______________________________________________________________________\n",
       "Conv2d               [2048, 2, 2]         1,048,576  True      \n",
       "______________________________________________________________________\n",
       "BatchNorm2d          [2048, 2, 2]         4,096      True      \n",
       "______________________________________________________________________\n",
       "Conv2d               [512, 2, 2]          1,048,576  True      \n",
       "______________________________________________________________________\n",
       "BatchNorm2d          [512, 2, 2]          1,024      True      \n",
       "______________________________________________________________________\n",
       "ReLU                 [2048, 2, 2]         0          False     \n",
       "______________________________________________________________________\n",
       "Conv2d               [512, 2, 2]          2,359,296  True      \n",
       "______________________________________________________________________\n",
       "BatchNorm2d          [512, 2, 2]          1,024      True      \n",
       "______________________________________________________________________\n",
       "ReLU                 [2048, 2, 2]         0          False     \n",
       "______________________________________________________________________\n",
       "Conv2d               [2048, 2, 2]         1,048,576  True      \n",
       "______________________________________________________________________\n",
       "BatchNorm2d          [2048, 2, 2]         4,096      True      \n",
       "______________________________________________________________________\n",
       "AdaptiveAvgPool2d    [2048, 1, 1]         0          False     \n",
       "______________________________________________________________________\n",
       "AdaptiveMaxPool2d    [2048, 1, 1]         0          False     \n",
       "______________________________________________________________________\n",
       "Flatten              [4096]               0          False     \n",
       "______________________________________________________________________\n",
       "Linear               [2]                  8,194      True      \n",
       "______________________________________________________________________\n",
       "\n",
       "Total params: 23,538,338\n",
       "Total trainable params: 23,538,338\n",
       "Total non-trainable params: 0\n",
       "Optimized with 'torch.optim.adam.Adam', betas=(0.9, 0.99)\n",
       "Using true weight decay as discussed in https://www.fast.ai/2018/07/02/adam-weight-decay/ \n",
       "Loss function : FlattenedLoss\n",
       "======================================================================\n",
       "Callbacks functions applied "
      ]
     },
     "execution_count": 48,
     "metadata": {},
     "output_type": "execute_result"
    }
   ],
   "source": [
    "learn.summary()"
   ]
  },
  {
   "cell_type": "code",
   "execution_count": 49,
   "metadata": {
    "ExecuteTime": {
     "end_time": "2019-07-02T15:35:59.991688Z",
     "start_time": "2019-07-02T15:35:59.967929Z"
    }
   },
   "outputs": [],
   "source": [
    "learn.freeze_to(-1)"
   ]
  },
  {
   "cell_type": "code",
   "execution_count": 51,
   "metadata": {
    "ExecuteTime": {
     "end_time": "2019-07-02T15:36:25.272517Z",
     "start_time": "2019-07-02T15:36:19.779701Z"
    }
   },
   "outputs": [
    {
     "data": {
      "text/html": [],
      "text/plain": [
       "<IPython.core.display.HTML object>"
      ]
     },
     "metadata": {},
     "output_type": "display_data"
    },
    {
     "name": "stdout",
     "output_type": "stream",
     "text": [
      "LR Finder is complete, type {learner_name}.recorder.plot() to see the graph.\n"
     ]
    },
    {
     "data": {
      "image/png": "[encoded data removed]",
      "text/plain": [
       "<Figure size 432x288 with 1 Axes>"
      ]
     },
     "metadata": {},
     "output_type": "display_data"
    }
   ],
   "source": [
    "learn.lr_find()\n",
    "learn.recorder.plot()"
   ]
  },
  {
   "cell_type": "code",
   "execution_count": 52,
   "metadata": {
    "ExecuteTime": {
     "end_time": "2019-07-02T15:36:53.858589Z",
     "start_time": "2019-07-02T15:36:47.560850Z"
    }
   },
   "outputs": [
    {
     "data": {
      "text/html": [
       "<table border=\"1\" class=\"dataframe\">\n",
       "  <thead>\n",
       "    <tr style=\"text-align: left;\">\n",
       "      <th>epoch</th>\n",
       "      <th>train_loss</th>\n",
       "      <th>valid_loss</th>\n",
       "      <th>accuracy</th>\n",
       "      <th>f1_score</th>\n",
       "      <th>time</th>\n",
       "    </tr>\n",
       "  </thead>\n",
       "  <tbody>\n",
       "    <tr>\n",
       "      <td>0</td>\n",
       "      <td>0.585173</td>\n",
       "      <td>0.478140</td>\n",
       "      <td>0.788732</td>\n",
       "      <td>0.644464</td>\n",
       "      <td>00:01</td>\n",
       "    </tr>\n",
       "    <tr>\n",
       "      <td>1</td>\n",
       "      <td>0.522369</td>\n",
       "      <td>0.442666</td>\n",
       "      <td>0.830986</td>\n",
       "      <td>0.695490</td>\n",
       "      <td>00:01</td>\n",
       "    </tr>\n",
       "    <tr>\n",
       "      <td>2</td>\n",
       "      <td>0.489747</td>\n",
       "      <td>0.446351</td>\n",
       "      <td>0.813380</td>\n",
       "      <td>0.677090</td>\n",
       "      <td>00:01</td>\n",
       "    </tr>\n",
       "    <tr>\n",
       "      <td>3</td>\n",
       "      <td>0.470828</td>\n",
       "      <td>0.433096</td>\n",
       "      <td>0.816901</td>\n",
       "      <td>0.681036</td>\n",
       "      <td>00:01</td>\n",
       "    </tr>\n",
       "    <tr>\n",
       "      <td>4</td>\n",
       "      <td>0.452516</td>\n",
       "      <td>0.435673</td>\n",
       "      <td>0.838028</td>\n",
       "      <td>0.687638</td>\n",
       "      <td>00:01</td>\n",
       "    </tr>\n",
       "  </tbody>\n",
       "</table>"
      ],
      "text/plain": [
       "<IPython.core.display.HTML object>"
      ]
     },
     "metadata": {},
     "output_type": "display_data"
    }
   ],
   "source": [
    "learn.fit_one_cycle(5, slice(1e-3))"
   ]
  },
  {
   "cell_type": "code",
   "execution_count": 53,
   "metadata": {
    "ExecuteTime": {
     "end_time": "2019-07-02T15:36:53.978954Z",
     "start_time": "2019-07-02T15:36:53.859923Z"
    }
   },
   "outputs": [
    {
     "data": {
      "image/png": "[encoded data removed]",
      "text/plain": [
       "<Figure size 432x288 with 1 Axes>"
      ]
     },
     "metadata": {},
     "output_type": "display_data"
    }
   ],
   "source": [
    "learn.recorder.plot_losses()"
   ]
  },
  {
   "cell_type": "code",
   "execution_count": 54,
   "metadata": {
    "ExecuteTime": {
     "end_time": "2019-07-02T15:36:56.217801Z",
     "start_time": "2019-07-02T15:36:56.202472Z"
    }
   },
   "outputs": [],
   "source": [
    "learn.unfreeze()"
   ]
  },
  {
   "cell_type": "code",
   "execution_count": 55,
   "metadata": {
    "ExecuteTime": {
     "end_time": "2019-07-02T15:37:04.357425Z",
     "start_time": "2019-07-02T15:36:57.196919Z"
    }
   },
   "outputs": [
    {
     "data": {
      "text/html": [],
      "text/plain": [
       "<IPython.core.display.HTML object>"
      ]
     },
     "metadata": {},
     "output_type": "display_data"
    },
    {
     "name": "stdout",
     "output_type": "stream",
     "text": [
      "LR Finder is complete, type {learner_name}.recorder.plot() to see the graph.\n"
     ]
    },
    {
     "data": {
      "image/png": "[encoded data removed]",
      "text/plain": [
       "<Figure size 432x288 with 1 Axes>"
      ]
     },
     "metadata": {},
     "output_type": "display_data"
    }
   ],
   "source": [
    "learn.lr_find()\n",
    "learn.recorder.plot()"
   ]
  },
  {
   "cell_type": "code",
   "execution_count": 56,
   "metadata": {
    "ExecuteTime": {
     "end_time": "2019-07-02T15:37:19.659496Z",
     "start_time": "2019-07-02T15:37:12.194727Z"
    }
   },
   "outputs": [
    {
     "data": {
      "text/html": [
       "<table border=\"1\" class=\"dataframe\">\n",
       "  <thead>\n",
       "    <tr style=\"text-align: left;\">\n",
       "      <th>epoch</th>\n",
       "      <th>train_loss</th>\n",
       "      <th>valid_loss</th>\n",
       "      <th>accuracy</th>\n",
       "      <th>f1_score</th>\n",
       "      <th>time</th>\n",
       "    </tr>\n",
       "  </thead>\n",
       "  <tbody>\n",
       "    <tr>\n",
       "      <td>0</td>\n",
       "      <td>0.430535</td>\n",
       "      <td>0.438561</td>\n",
       "      <td>0.813380</td>\n",
       "      <td>0.593490</td>\n",
       "      <td>00:01</td>\n",
       "    </tr>\n",
       "    <tr>\n",
       "      <td>1</td>\n",
       "      <td>0.428480</td>\n",
       "      <td>0.440551</td>\n",
       "      <td>0.809859</td>\n",
       "      <td>0.563578</td>\n",
       "      <td>00:01</td>\n",
       "    </tr>\n",
       "    <tr>\n",
       "      <td>2</td>\n",
       "      <td>0.428107</td>\n",
       "      <td>0.433653</td>\n",
       "      <td>0.827465</td>\n",
       "      <td>0.647893</td>\n",
       "      <td>00:01</td>\n",
       "    </tr>\n",
       "    <tr>\n",
       "      <td>3</td>\n",
       "      <td>0.421835</td>\n",
       "      <td>0.425305</td>\n",
       "      <td>0.834507</td>\n",
       "      <td>0.673126</td>\n",
       "      <td>00:01</td>\n",
       "    </tr>\n",
       "    <tr>\n",
       "      <td>4</td>\n",
       "      <td>0.420152</td>\n",
       "      <td>0.428399</td>\n",
       "      <td>0.820423</td>\n",
       "      <td>0.616025</td>\n",
       "      <td>00:01</td>\n",
       "    </tr>\n",
       "  </tbody>\n",
       "</table>"
      ],
      "text/plain": [
       "<IPython.core.display.HTML object>"
      ]
     },
     "metadata": {},
     "output_type": "display_data"
    }
   ],
   "source": [
    "learn.fit_one_cycle(5, slice(1e-4))"
   ]
  },
  {
   "cell_type": "code",
   "execution_count": 57,
   "metadata": {
    "ExecuteTime": {
     "end_time": "2019-07-02T15:37:23.885141Z",
     "start_time": "2019-07-02T15:37:23.768626Z"
    }
   },
   "outputs": [
    {
     "data": {
      "image/png": "[encoded data removed]",
      "text/plain": [
       "<Figure size 432x288 with 1 Axes>"
      ]
     },
     "metadata": {},
     "output_type": "display_data"
    }
   ],
   "source": [
    "learn.recorder.plot_losses()"
   ]
  },
  {
   "cell_type": "markdown",
   "metadata": {},
   "source": [
    "## LabelSmoothing model"
   ]
  },
  {
   "cell_type": "code",
   "execution_count": 58,
   "metadata": {
    "ExecuteTime": {
     "end_time": "2019-07-02T15:37:47.485404Z",
     "start_time": "2019-07-02T15:37:47.109502Z"
    }
   },
   "outputs": [
    {
     "name": "stdout",
     "output_type": "stream",
     "text": [
      "Importing custom xresnet50 pretrained on eurosat\n"
     ]
    }
   ],
   "source": [
    "learn = create_model(data)"
   ]
  },
  {
   "cell_type": "code",
   "execution_count": 59,
   "metadata": {
    "ExecuteTime": {
     "end_time": "2019-07-02T15:37:54.601651Z",
     "start_time": "2019-07-02T15:37:54.583031Z"
    }
   },
   "outputs": [],
   "source": [
    "learn.loss_func = LabelSmoothingCrossEntropy()"
   ]
  },
  {
   "cell_type": "code",
   "execution_count": 60,
   "metadata": {
    "ExecuteTime": {
     "end_time": "2019-07-02T15:38:07.722825Z",
     "start_time": "2019-07-02T15:38:00.511199Z"
    }
   },
   "outputs": [
    {
     "data": {
      "text/html": [],
      "text/plain": [
       "<IPython.core.display.HTML object>"
      ]
     },
     "metadata": {},
     "output_type": "display_data"
    },
    {
     "name": "stdout",
     "output_type": "stream",
     "text": [
      "LR Finder is complete, type {learner_name}.recorder.plot() to see the graph.\n"
     ]
    },
    {
     "data": {
      "image/png": "[encoded data removed]",
      "text/plain": [
       "<Figure size 432x288 with 1 Axes>"
      ]
     },
     "metadata": {},
     "output_type": "display_data"
    }
   ],
   "source": [
    "learn.lr_find()\n",
    "learn.recorder.plot()"
   ]
  },
  {
   "cell_type": "code",
   "execution_count": 61,
   "metadata": {
    "ExecuteTime": {
     "end_time": "2019-07-02T15:38:17.955986Z",
     "start_time": "2019-07-02T15:38:10.295286Z"
    }
   },
   "outputs": [
    {
     "data": {
      "text/html": [
       "<table border=\"1\" class=\"dataframe\">\n",
       "  <thead>\n",
       "    <tr style=\"text-align: left;\">\n",
       "      <th>epoch</th>\n",
       "      <th>train_loss</th>\n",
       "      <th>valid_loss</th>\n",
       "      <th>accuracy</th>\n",
       "      <th>f1_score</th>\n",
       "      <th>time</th>\n",
       "    </tr>\n",
       "  </thead>\n",
       "  <tbody>\n",
       "    <tr>\n",
       "      <td>0</td>\n",
       "      <td>0.704659</td>\n",
       "      <td>0.563088</td>\n",
       "      <td>0.806338</td>\n",
       "      <td>0.669856</td>\n",
       "      <td>00:01</td>\n",
       "    </tr>\n",
       "    <tr>\n",
       "      <td>1</td>\n",
       "      <td>0.638426</td>\n",
       "      <td>0.615906</td>\n",
       "      <td>0.799296</td>\n",
       "      <td>0.535581</td>\n",
       "      <td>00:01</td>\n",
       "    </tr>\n",
       "    <tr>\n",
       "      <td>2</td>\n",
       "      <td>0.592911</td>\n",
       "      <td>0.524990</td>\n",
       "      <td>0.809859</td>\n",
       "      <td>0.625976</td>\n",
       "      <td>00:01</td>\n",
       "    </tr>\n",
       "    <tr>\n",
       "      <td>3</td>\n",
       "      <td>0.558033</td>\n",
       "      <td>0.517119</td>\n",
       "      <td>0.816901</td>\n",
       "      <td>0.592473</td>\n",
       "      <td>00:01</td>\n",
       "    </tr>\n",
       "    <tr>\n",
       "      <td>4</td>\n",
       "      <td>0.533056</td>\n",
       "      <td>0.516697</td>\n",
       "      <td>0.806338</td>\n",
       "      <td>0.556471</td>\n",
       "      <td>00:01</td>\n",
       "    </tr>\n",
       "  </tbody>\n",
       "</table>"
      ],
      "text/plain": [
       "<IPython.core.display.HTML object>"
      ]
     },
     "metadata": {},
     "output_type": "display_data"
    }
   ],
   "source": [
    "learn.fit_one_cycle(5, slice(1e-3))"
   ]
  },
  {
   "cell_type": "code",
   "execution_count": 62,
   "metadata": {
    "ExecuteTime": {
     "end_time": "2019-07-02T15:38:45.051129Z",
     "start_time": "2019-07-02T15:38:37.984960Z"
    }
   },
   "outputs": [
    {
     "data": {
      "text/html": [],
      "text/plain": [
       "<IPython.core.display.HTML object>"
      ]
     },
     "metadata": {},
     "output_type": "display_data"
    },
    {
     "name": "stdout",
     "output_type": "stream",
     "text": [
      "LR Finder is complete, type {learner_name}.recorder.plot() to see the graph.\n"
     ]
    },
    {
     "data": {
      "image/png": "[encoded data removed]",
      "text/plain": [
       "<Figure size 432x288 with 1 Axes>"
      ]
     },
     "metadata": {},
     "output_type": "display_data"
    }
   ],
   "source": [
    "learn.unfreeze()\n",
    "learn.lr_find()\n",
    "learn.recorder.plot()"
   ]
  },
  {
   "cell_type": "code",
   "execution_count": 63,
   "metadata": {
    "ExecuteTime": {
     "end_time": "2019-07-02T15:38:55.435360Z",
     "start_time": "2019-07-02T15:38:47.941594Z"
    }
   },
   "outputs": [
    {
     "data": {
      "text/html": [
       "<table border=\"1\" class=\"dataframe\">\n",
       "  <thead>\n",
       "    <tr style=\"text-align: left;\">\n",
       "      <th>epoch</th>\n",
       "      <th>train_loss</th>\n",
       "      <th>valid_loss</th>\n",
       "      <th>accuracy</th>\n",
       "      <th>f1_score</th>\n",
       "      <th>time</th>\n",
       "    </tr>\n",
       "  </thead>\n",
       "  <tbody>\n",
       "    <tr>\n",
       "      <td>0</td>\n",
       "      <td>0.483260</td>\n",
       "      <td>0.500158</td>\n",
       "      <td>0.820423</td>\n",
       "      <td>0.660733</td>\n",
       "      <td>00:01</td>\n",
       "    </tr>\n",
       "    <tr>\n",
       "      <td>1</td>\n",
       "      <td>0.484711</td>\n",
       "      <td>0.500843</td>\n",
       "      <td>0.809859</td>\n",
       "      <td>0.649509</td>\n",
       "      <td>00:01</td>\n",
       "    </tr>\n",
       "    <tr>\n",
       "      <td>2</td>\n",
       "      <td>0.478263</td>\n",
       "      <td>0.508823</td>\n",
       "      <td>0.820423</td>\n",
       "      <td>0.616660</td>\n",
       "      <td>00:01</td>\n",
       "    </tr>\n",
       "    <tr>\n",
       "      <td>3</td>\n",
       "      <td>0.475250</td>\n",
       "      <td>0.499148</td>\n",
       "      <td>0.830986</td>\n",
       "      <td>0.662450</td>\n",
       "      <td>00:01</td>\n",
       "    </tr>\n",
       "    <tr>\n",
       "      <td>4</td>\n",
       "      <td>0.476445</td>\n",
       "      <td>0.499850</td>\n",
       "      <td>0.830986</td>\n",
       "      <td>0.662450</td>\n",
       "      <td>00:01</td>\n",
       "    </tr>\n",
       "  </tbody>\n",
       "</table>"
      ],
      "text/plain": [
       "<IPython.core.display.HTML object>"
      ]
     },
     "metadata": {},
     "output_type": "display_data"
    }
   ],
   "source": [
    "learn.fit_one_cycle(5, slice(1e-4))"
   ]
  },
  {
   "cell_type": "code",
   "execution_count": 64,
   "metadata": {
    "ExecuteTime": {
     "end_time": "2019-07-02T15:39:08.794701Z",
     "start_time": "2019-07-02T15:39:08.752659Z"
    }
   },
   "outputs": [
    {
     "data": {
      "text/plain": [
       "LabelSmoothingCrossEntropy()"
      ]
     },
     "execution_count": 64,
     "metadata": {},
     "output_type": "execute_result"
    }
   ],
   "source": [
    "learn.loss_func"
   ]
  },
  {
   "cell_type": "code",
   "execution_count": 65,
   "metadata": {
    "ExecuteTime": {
     "end_time": "2019-07-02T15:39:40.529092Z",
     "start_time": "2019-07-02T15:39:40.069036Z"
    }
   },
   "outputs": [
    {
     "data": {
      "image/png": "[encoded data removed]",
      "text/plain": [
       "<Figure size 432x288 with 1 Axes>"
      ]
     },
     "metadata": {},
     "output_type": "display_data"
    }
   ],
   "source": [
    "preds,y,losses = learn.get_preds(with_loss=True)\n",
    "interp = ClassificationInterpretation(learn, preds, y, losses)\n",
    "interp.plot_confusion_matrix()"
   ]
  },
  {
   "cell_type": "markdown",
   "metadata": {},
   "source": [
    "## Mixup augmentation model"
   ]
  },
  {
   "cell_type": "code",
   "execution_count": 101,
   "metadata": {
    "ExecuteTime": {
     "end_time": "2019-07-02T16:09:19.363313Z",
     "start_time": "2019-07-02T16:09:18.959551Z"
    }
   },
   "outputs": [
    {
     "name": "stdout",
     "output_type": "stream",
     "text": [
      "Importing custom xresnet50 pretrained on eurosat\n"
     ]
    }
   ],
   "source": [
    "learn = create_model(data)\n",
    "learn.loss_func = LabelSmoothingCrossEntropy()\n",
    "learn = learn.mixup()"
   ]
  },
  {
   "cell_type": "code",
   "execution_count": 102,
   "metadata": {
    "ExecuteTime": {
     "end_time": "2019-07-02T16:09:20.700788Z",
     "start_time": "2019-07-02T16:09:20.685706Z"
    }
   },
   "outputs": [],
   "source": [
    "learn.freeze_to(-1)"
   ]
  },
  {
   "cell_type": "code",
   "execution_count": 72,
   "metadata": {
    "ExecuteTime": {
     "end_time": "2019-07-02T15:41:47.167750Z",
     "start_time": "2019-07-02T15:41:41.381766Z"
    }
   },
   "outputs": [
    {
     "data": {
      "text/html": [],
      "text/plain": [
       "<IPython.core.display.HTML object>"
      ]
     },
     "metadata": {},
     "output_type": "display_data"
    },
    {
     "name": "stdout",
     "output_type": "stream",
     "text": [
      "LR Finder is complete, type {learner_name}.recorder.plot() to see the graph.\n"
     ]
    },
    {
     "data": {
      "image/png": "[encoded data removed]",
      "text/plain": [
       "<Figure size 432x288 with 1 Axes>"
      ]
     },
     "metadata": {},
     "output_type": "display_data"
    }
   ],
   "source": [
    "learn.lr_find()\n",
    "learn.recorder.plot()"
   ]
  },
  {
   "cell_type": "code",
   "execution_count": 103,
   "metadata": {
    "ExecuteTime": {
     "end_time": "2019-07-02T16:09:35.516279Z",
     "start_time": "2019-07-02T16:09:22.963656Z"
    }
   },
   "outputs": [
    {
     "data": {
      "text/html": [
       "<table border=\"1\" class=\"dataframe\">\n",
       "  <thead>\n",
       "    <tr style=\"text-align: left;\">\n",
       "      <th>epoch</th>\n",
       "      <th>train_loss</th>\n",
       "      <th>valid_loss</th>\n",
       "      <th>accuracy</th>\n",
       "      <th>f1_score</th>\n",
       "      <th>time</th>\n",
       "    </tr>\n",
       "  </thead>\n",
       "  <tbody>\n",
       "    <tr>\n",
       "      <td>0</td>\n",
       "      <td>0.624601</td>\n",
       "      <td>0.589911</td>\n",
       "      <td>0.693662</td>\n",
       "      <td>0.000000</td>\n",
       "      <td>00:01</td>\n",
       "    </tr>\n",
       "    <tr>\n",
       "      <td>1</td>\n",
       "      <td>0.595447</td>\n",
       "      <td>0.503828</td>\n",
       "      <td>0.809859</td>\n",
       "      <td>0.633896</td>\n",
       "      <td>00:01</td>\n",
       "    </tr>\n",
       "    <tr>\n",
       "      <td>2</td>\n",
       "      <td>0.573063</td>\n",
       "      <td>0.558085</td>\n",
       "      <td>0.704225</td>\n",
       "      <td>0.081536</td>\n",
       "      <td>00:01</td>\n",
       "    </tr>\n",
       "    <tr>\n",
       "      <td>3</td>\n",
       "      <td>0.559227</td>\n",
       "      <td>0.499890</td>\n",
       "      <td>0.820423</td>\n",
       "      <td>0.661866</td>\n",
       "      <td>00:01</td>\n",
       "    </tr>\n",
       "    <tr>\n",
       "      <td>4</td>\n",
       "      <td>0.564912</td>\n",
       "      <td>0.560627</td>\n",
       "      <td>0.771127</td>\n",
       "      <td>0.643910</td>\n",
       "      <td>00:01</td>\n",
       "    </tr>\n",
       "    <tr>\n",
       "      <td>5</td>\n",
       "      <td>0.565161</td>\n",
       "      <td>0.564130</td>\n",
       "      <td>0.771127</td>\n",
       "      <td>0.622453</td>\n",
       "      <td>00:01</td>\n",
       "    </tr>\n",
       "    <tr>\n",
       "      <td>6</td>\n",
       "      <td>0.561634</td>\n",
       "      <td>0.509318</td>\n",
       "      <td>0.809859</td>\n",
       "      <td>0.590743</td>\n",
       "      <td>00:01</td>\n",
       "    </tr>\n",
       "    <tr>\n",
       "      <td>7</td>\n",
       "      <td>0.552409</td>\n",
       "      <td>0.513300</td>\n",
       "      <td>0.809859</td>\n",
       "      <td>0.550326</td>\n",
       "      <td>00:01</td>\n",
       "    </tr>\n",
       "    <tr>\n",
       "      <td>8</td>\n",
       "      <td>0.543460</td>\n",
       "      <td>0.504870</td>\n",
       "      <td>0.809859</td>\n",
       "      <td>0.631242</td>\n",
       "      <td>00:01</td>\n",
       "    </tr>\n",
       "    <tr>\n",
       "      <td>9</td>\n",
       "      <td>0.539049</td>\n",
       "      <td>0.507796</td>\n",
       "      <td>0.813380</td>\n",
       "      <td>0.635937</td>\n",
       "      <td>00:01</td>\n",
       "    </tr>\n",
       "  </tbody>\n",
       "</table>"
      ],
      "text/plain": [
       "<IPython.core.display.HTML object>"
      ]
     },
     "metadata": {},
     "output_type": "display_data"
    }
   ],
   "source": [
    "learn.fit_one_cycle(10, slice(1e-3))"
   ]
  },
  {
   "cell_type": "code",
   "execution_count": 104,
   "metadata": {
    "ExecuteTime": {
     "end_time": "2019-07-02T16:09:42.621017Z",
     "start_time": "2019-07-02T16:09:35.517586Z"
    }
   },
   "outputs": [
    {
     "data": {
      "text/html": [],
      "text/plain": [
       "<IPython.core.display.HTML object>"
      ]
     },
     "metadata": {},
     "output_type": "display_data"
    },
    {
     "name": "stdout",
     "output_type": "stream",
     "text": [
      "LR Finder is complete, type {learner_name}.recorder.plot() to see the graph.\n"
     ]
    },
    {
     "data": {
      "image/png": "[encoded data removed]",
      "text/plain": [
       "<Figure size 432x288 with 1 Axes>"
      ]
     },
     "metadata": {},
     "output_type": "display_data"
    }
   ],
   "source": [
    "learn.unfreeze()\n",
    "learn.lr_find()\n",
    "learn.recorder.plot()"
   ]
  },
  {
   "cell_type": "code",
   "execution_count": 105,
   "metadata": {
    "ExecuteTime": {
     "end_time": "2019-07-02T16:10:05.996613Z",
     "start_time": "2019-07-02T16:09:42.622482Z"
    }
   },
   "outputs": [
    {
     "data": {
      "text/html": [
       "<table border=\"1\" class=\"dataframe\">\n",
       "  <thead>\n",
       "    <tr style=\"text-align: left;\">\n",
       "      <th>epoch</th>\n",
       "      <th>train_loss</th>\n",
       "      <th>valid_loss</th>\n",
       "      <th>accuracy</th>\n",
       "      <th>f1_score</th>\n",
       "      <th>time</th>\n",
       "    </tr>\n",
       "  </thead>\n",
       "  <tbody>\n",
       "    <tr>\n",
       "      <td>0</td>\n",
       "      <td>0.531577</td>\n",
       "      <td>0.503985</td>\n",
       "      <td>0.823944</td>\n",
       "      <td>0.645102</td>\n",
       "      <td>00:01</td>\n",
       "    </tr>\n",
       "    <tr>\n",
       "      <td>1</td>\n",
       "      <td>0.522351</td>\n",
       "      <td>0.505630</td>\n",
       "      <td>0.813380</td>\n",
       "      <td>0.587384</td>\n",
       "      <td>00:01</td>\n",
       "    </tr>\n",
       "    <tr>\n",
       "      <td>2</td>\n",
       "      <td>0.525097</td>\n",
       "      <td>0.509486</td>\n",
       "      <td>0.820423</td>\n",
       "      <td>0.643468</td>\n",
       "      <td>00:01</td>\n",
       "    </tr>\n",
       "    <tr>\n",
       "      <td>3</td>\n",
       "      <td>0.526710</td>\n",
       "      <td>0.504789</td>\n",
       "      <td>0.823944</td>\n",
       "      <td>0.641164</td>\n",
       "      <td>00:01</td>\n",
       "    </tr>\n",
       "    <tr>\n",
       "      <td>4</td>\n",
       "      <td>0.527244</td>\n",
       "      <td>0.505771</td>\n",
       "      <td>0.813380</td>\n",
       "      <td>0.627951</td>\n",
       "      <td>00:01</td>\n",
       "    </tr>\n",
       "    <tr>\n",
       "      <td>5</td>\n",
       "      <td>0.525904</td>\n",
       "      <td>0.500669</td>\n",
       "      <td>0.820423</td>\n",
       "      <td>0.634925</td>\n",
       "      <td>00:01</td>\n",
       "    </tr>\n",
       "    <tr>\n",
       "      <td>6</td>\n",
       "      <td>0.523787</td>\n",
       "      <td>0.502247</td>\n",
       "      <td>0.827465</td>\n",
       "      <td>0.619253</td>\n",
       "      <td>00:01</td>\n",
       "    </tr>\n",
       "    <tr>\n",
       "      <td>7</td>\n",
       "      <td>0.525585</td>\n",
       "      <td>0.499921</td>\n",
       "      <td>0.820423</td>\n",
       "      <td>0.643061</td>\n",
       "      <td>00:01</td>\n",
       "    </tr>\n",
       "    <tr>\n",
       "      <td>8</td>\n",
       "      <td>0.525206</td>\n",
       "      <td>0.495104</td>\n",
       "      <td>0.816901</td>\n",
       "      <td>0.646550</td>\n",
       "      <td>00:01</td>\n",
       "    </tr>\n",
       "    <tr>\n",
       "      <td>9</td>\n",
       "      <td>0.526894</td>\n",
       "      <td>0.498934</td>\n",
       "      <td>0.813380</td>\n",
       "      <td>0.628772</td>\n",
       "      <td>00:01</td>\n",
       "    </tr>\n",
       "    <tr>\n",
       "      <td>10</td>\n",
       "      <td>0.525033</td>\n",
       "      <td>0.499031</td>\n",
       "      <td>0.813380</td>\n",
       "      <td>0.627097</td>\n",
       "      <td>00:01</td>\n",
       "    </tr>\n",
       "    <tr>\n",
       "      <td>11</td>\n",
       "      <td>0.523265</td>\n",
       "      <td>0.502189</td>\n",
       "      <td>0.809859</td>\n",
       "      <td>0.624109</td>\n",
       "      <td>00:01</td>\n",
       "    </tr>\n",
       "    <tr>\n",
       "      <td>12</td>\n",
       "      <td>0.521914</td>\n",
       "      <td>0.500212</td>\n",
       "      <td>0.830986</td>\n",
       "      <td>0.647517</td>\n",
       "      <td>00:01</td>\n",
       "    </tr>\n",
       "    <tr>\n",
       "      <td>13</td>\n",
       "      <td>0.520262</td>\n",
       "      <td>0.500223</td>\n",
       "      <td>0.834507</td>\n",
       "      <td>0.652513</td>\n",
       "      <td>00:01</td>\n",
       "    </tr>\n",
       "    <tr>\n",
       "      <td>14</td>\n",
       "      <td>0.518818</td>\n",
       "      <td>0.501833</td>\n",
       "      <td>0.841549</td>\n",
       "      <td>0.663657</td>\n",
       "      <td>00:01</td>\n",
       "    </tr>\n",
       "  </tbody>\n",
       "</table>"
      ],
      "text/plain": [
       "<IPython.core.display.HTML object>"
      ]
     },
     "metadata": {},
     "output_type": "display_data"
    }
   ],
   "source": [
    "learn.fit_one_cycle(15, slice(1e-4))"
   ]
  },
  {
   "cell_type": "code",
   "execution_count": 106,
   "metadata": {
    "ExecuteTime": {
     "end_time": "2019-07-02T16:10:06.409784Z",
     "start_time": "2019-07-02T16:10:05.997948Z"
    }
   },
   "outputs": [
    {
     "data": {
      "image/png": "[encoded data removed]",
      "text/plain": [
       "<Figure size 432x288 with 1 Axes>"
      ]
     },
     "metadata": {},
     "output_type": "display_data"
    }
   ],
   "source": [
    "preds,y,losses = learn.get_preds(with_loss=True)\n",
    "interp = ClassificationInterpretation(learn, preds, y, losses)\n",
    "interp.plot_confusion_matrix()"
   ]
  }
 ],
 "metadata": {
  "kernelspec": {
   "display_name": "Python 3",
   "language": "python",
   "name": "python3"
  },
  "language_info": {
   "codemirror_mode": {
    "name": "ipython",
    "version": 3
   },
   "file_extension": ".py",
   "mimetype": "text/x-python",
   "name": "python",
   "nbconvert_exporter": "python",
   "pygments_lexer": "ipython3",
   "version": "3.6.8"
  }
 },
 "nbformat": 4,
 "nbformat_minor": 2
}
