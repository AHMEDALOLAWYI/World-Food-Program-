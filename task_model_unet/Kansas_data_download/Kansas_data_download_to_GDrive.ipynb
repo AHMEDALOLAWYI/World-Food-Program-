{
 "cells": [
  {
   "cell_type": "code",
   "execution_count": 6,
   "metadata": {},
   "outputs": [],
   "source": [
    "import pandas as pd\n",
    "import ee\n",
    "from collections import defaultdict\n",
    "import numpy as np\n",
    "import datetime\n",
    "ee.Initialize()"
   ]
  },
  {
   "cell_type": "markdown",
   "metadata": {},
   "source": [
    "## Parameters"
   ]
  },
  {
   "cell_type": "code",
   "execution_count": null,
   "metadata": {},
   "outputs": [],
   "source": [
    "# LOCATION OF CSV FILE WITH TILES DESCTIPTION\n",
    "DATA = '/home/jupyter/data/kansas_wheat_square.csv'"
   ]
  },
  {
   "cell_type": "code",
   "execution_count": 10,
   "metadata": {},
   "outputs": [
    {
     "data": {
      "text/plain": [
       "(2920, 6)"
      ]
     },
     "execution_count": 10,
     "metadata": {},
     "output_type": "execute_result"
    }
   ],
   "source": [
    "pd.read_csv(DATA).shape"
   ]
  },
  {
   "cell_type": "code",
   "execution_count": 13,
   "metadata": {},
   "outputs": [
    {
     "data": {
      "text/html": [
       "<div>\n",
       "<style scoped>\n",
       "    .dataframe tbody tr th:only-of-type {\n",
       "        vertical-align: middle;\n",
       "    }\n",
       "\n",
       "    .dataframe tbody tr th {\n",
       "        vertical-align: top;\n",
       "    }\n",
       "\n",
       "    .dataframe thead th {\n",
       "        text-align: right;\n",
       "    }\n",
       "</style>\n",
       "<table border=\"1\" class=\"dataframe\">\n",
       "  <thead>\n",
       "    <tr style=\"text-align: right;\">\n",
       "      <th></th>\n",
       "      <th>Unnamed: 0</th>\n",
       "      <th>names</th>\n",
       "      <th>long_min</th>\n",
       "      <th>lat_min</th>\n",
       "      <th>long_max</th>\n",
       "      <th>lat_max</th>\n",
       "    </tr>\n",
       "  </thead>\n",
       "  <tbody>\n",
       "    <tr>\n",
       "      <th>0</th>\n",
       "      <td>0</td>\n",
       "      <td>tile_12600_9300.tif</td>\n",
       "      <td>-97.766670</td>\n",
       "      <td>37.566165</td>\n",
       "      <td>-97.661908</td>\n",
       "      <td>37.647905</td>\n",
       "    </tr>\n",
       "    <tr>\n",
       "      <th>1</th>\n",
       "      <td>1</td>\n",
       "      <td>tile_20700_1500.tif</td>\n",
       "      <td>-94.957821</td>\n",
       "      <td>39.661487</td>\n",
       "      <td>-94.850692</td>\n",
       "      <td>39.742721</td>\n",
       "    </tr>\n",
       "    <tr>\n",
       "      <th>2</th>\n",
       "      <td>2</td>\n",
       "      <td>tile_18300_8400.tif</td>\n",
       "      <td>-95.809562</td>\n",
       "      <td>37.819511</td>\n",
       "      <td>-95.706025</td>\n",
       "      <td>37.900016</td>\n",
       "    </tr>\n",
       "    <tr>\n",
       "      <th>3</th>\n",
       "      <td>3</td>\n",
       "      <td>tile_4200_10200.tif</td>\n",
       "      <td>-100.631981</td>\n",
       "      <td>37.249731</td>\n",
       "      <td>-100.524678</td>\n",
       "      <td>37.333818</td>\n",
       "    </tr>\n",
       "    <tr>\n",
       "      <th>4</th>\n",
       "      <td>4</td>\n",
       "      <td>tile_11100_4500.tif</td>\n",
       "      <td>-98.321651</td>\n",
       "      <td>38.842009</td>\n",
       "      <td>-98.214457</td>\n",
       "      <td>38.924199</td>\n",
       "    </tr>\n",
       "  </tbody>\n",
       "</table>\n",
       "</div>"
      ],
      "text/plain": [
       "   Unnamed: 0                names    long_min    lat_min    long_max  \\\n",
       "0           0  tile_12600_9300.tif  -97.766670  37.566165  -97.661908   \n",
       "1           1  tile_20700_1500.tif  -94.957821  39.661487  -94.850692   \n",
       "2           2  tile_18300_8400.tif  -95.809562  37.819511  -95.706025   \n",
       "3           3  tile_4200_10200.tif -100.631981  37.249731 -100.524678   \n",
       "4           4  tile_11100_4500.tif  -98.321651  38.842009  -98.214457   \n",
       "\n",
       "     lat_max  \n",
       "0  37.647905  \n",
       "1  39.742721  \n",
       "2  37.900016  \n",
       "3  37.333818  \n",
       "4  38.924199  "
      ]
     },
     "execution_count": 13,
     "metadata": {},
     "output_type": "execute_result"
    }
   ],
   "source": [
    "pd.read_csv(DATA).head()"
   ]
  },
  {
   "cell_type": "code",
   "execution_count": null,
   "metadata": {},
   "outputs": [],
   "source": [
    "# Download only pictures of rice and wheat\n",
    "DOWNLOAD_ONLY_POSITIVE_EXAMPLE = False\n",
    "DOWNLOAD_ONLY_NEGATIVE_EXAMPLE = False\n",
    "\n",
    "# NUMBER OF FILES TO DOWNLOAD\n",
    "# set to None to download all files\n",
    "DOWNLOAD_NB_FILES = 10\n",
    "\n",
    "# RADIUS AROUND COORD IN METERS\n",
    "# This is the number of meter around the point coordinate to include in the picture\n",
    "RADIUS_AROUND = 400\n",
    "\n",
    "# For all 13 bands ALL_BANDS=True, only RGB=False\n",
    "ALL_BANDS = True\n",
    "\n",
    "# RANGES FOR BANDS\n",
    "# Values tested on different location in nepal\n",
    "# Hypothesis: Should be the same for all images\n",
    "RANGE_MIN = 0\n",
    "RANGE_MAX = 2000\n",
    "\n",
    "# RANGE FOR DATES\n",
    "# CSV shows one date per observation.\n",
    "# However, we need to take several pictures to select ones without clouds\n",
    "# We look for RANDE_DATE weeks around the date\n",
    "RANDE_DATE = 2\n",
    "BEGIN_TOI = '10/02/2016'\n",
    "END_TOI = '17/02/2016'\n",
    "\n",
    "# YOUR TARGET GOOGLE DRIVE FOLDER\n",
    "GDRIVE_FOLDER = 'us-wheat-range_13_bands'"
   ]
  },
  {
   "cell_type": "markdown",
   "metadata": {},
   "source": [
    "## Import CSV data a nd remove NaNs"
   ]
  },
  {
   "cell_type": "markdown",
   "metadata": {},
   "source": [
    "df = pd.read_csv(DATA)\n",
    "print(f'Len of input data: {len(df)}')"
   ]
  },
  {
   "cell_type": "code",
   "execution_count": 3,
   "metadata": {},
   "outputs": [],
   "source": [
    "# df"
   ]
  },
  {
   "cell_type": "markdown",
   "metadata": {},
   "source": [
    "## Google Earth Engine download"
   ]
  },
  {
   "cell_type": "markdown",
   "metadata": {},
   "source": [
    "dataset = ee.ImageCollection('COPERNICUS/S2').select(['B4', 'B3', 'B2'])"
   ]
  },
  {
   "cell_type": "markdown",
   "metadata": {},
   "source": [
    "df.columns"
   ]
  },
  {
   "cell_type": "code",
   "execution_count": null,
   "metadata": {},
   "outputs": [],
   "source": [
    "# Create list with a tuple per point: File name - x - y - date\n",
    "coords = [(point[1][0], point[1][1], point[1][2], point[1][3], point[1][4]) for point in df.loc[:, ['names', 'long_min', 'lat_min', 'long_max', 'lat_max']].iterrows()]"
   ]
  },
  {
   "cell_type": "code",
   "execution_count": null,
   "metadata": {},
   "outputs": [],
   "source": [
    "# File name - x - y - date - type\n",
    "coords[0]"
   ]
  },
  {
   "cell_type": "code",
   "execution_count": null,
   "metadata": {},
   "outputs": [],
   "source": [
    "# Generate a rectangle containing the circle (centered on the coordinate) with radius RADIUS_AROUND\n",
    "def get_geometry_radius(geometry_point):\n",
    "    return ee.Geometry.Rectangle([coord[:, 0].min(), coord[:, 1].min(), coord[:, 0].max(), coord[:, 1].max()])\n",
    "\n",
    "# Generate the dates around the observation date\n",
    "def date_range_to_collect():\n",
    "  \n",
    "    d, m, y = BEGIN_TOI.split('/')\n",
    "        \n",
    "    target_date = datetime.date(int(y), int(m), int(d))\n",
    "    delta = datetime.timedelta(weeks=RANDE_DATE)\n",
    "    return target_date-delta, target_date+delta\n",
    "\n",
    "def generate_image(image_collection, image_name, long_min, lat_min, long_max, lat_max, debug=True):\n",
    "    if debug: print(f'Working on {image_name}')\n",
    "\n",
    "    geometry_radius= ee.Geometry.Rectangle([long_min, lat_min, long_max, lat_max])\n",
    "    \n",
    "    spatialFiltered = image_collection.filterBounds(geometry_radius)\n",
    "\n",
    "    date_range = date_range_to_collect()\n",
    "    if debug: print('date range:' + str(date_range[0]) + str(date_range[1]))\n",
    "    temporalFiltered = spatialFiltered.filterDate(str(date_range[0]), str(date_range[1]))\n",
    "\n",
    "    # The darker pixels have the least clouds\n",
    "    least_clouds = temporalFiltered.min()\n",
    "    #least_clouds = temporalFiltered.sort('CLOUD_COVER').first()\n",
    "\n",
    "    #ar scene = ee.Image(sorted.first())\n",
    "\n",
    "    if ALL_BANDS:\n",
    "        testimg = least_clouds.select('B.+')\n",
    "    else:\n",
    "        testimg = least_clouds.visualize(bands=['B4', 'B3', 'B2'], min=RANGE_MIN, max=RANGE_MAX)\n",
    "\n",
    "    #testimg = least_clouds.select('B.+')\n",
    "    #testimg = testimg.resample('bicubic')\n",
    "    task = ee.batch.Export.image.toDrive(testimg, folder=GDRIVE_FOLDER, region=geometry_radius.getInfo()['coordinates'][0], description=image_name.split('.')[0], scale=10)\n",
    "    task.start()"
   ]
  },
  {
   "cell_type": "code",
   "execution_count": null,
   "metadata": {},
   "outputs": [],
   "source": [
    "df['names'].value_counts()"
   ]
  },
  {
   "cell_type": "code",
   "execution_count": null,
   "metadata": {},
   "outputs": [],
   "source": [
    "dataset_collection = ee.ImageCollection('COPERNICUS/S2')\n",
    "\n",
    "\n",
    "for i, point in enumerate(coords):\n",
    "    if DOWNLOAD_NB_FILES is not None and i >= DOWNLOAD_NB_FILES:\n",
    "        break\n",
    "    generate_image(dataset_collection, point[0], point[1], point[2], point[3], point[4])"
   ]
  }
 ],
 "metadata": {
  "kernelspec": {
   "display_name": "Python 3",
   "language": "python",
   "name": "python3"
  },
  "language_info": {
   "codemirror_mode": {
    "name": "ipython",
    "version": 3
   },
   "file_extension": ".py",
   "mimetype": "text/x-python",
   "name": "python",
   "nbconvert_exporter": "python",
   "pygments_lexer": "ipython3",
   "version": "3.7.3"
  }
 },
 "nbformat": 4,
 "nbformat_minor": 2
}
