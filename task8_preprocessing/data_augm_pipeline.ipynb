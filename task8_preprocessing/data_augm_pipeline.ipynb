{
 "cells": [
  {
   "cell_type": "code",
   "execution_count": null,
   "metadata": {},
   "outputs": [],
   "source": [
    "!pip install imgaug"
   ]
  },
  {
   "cell_type": "code",
   "execution_count": null,
   "metadata": {},
   "outputs": [],
   "source": [
    "%matplotlib inline\n",
    "\n",
    "import numpy as np\n",
    "import glob\n",
    "import imgaug as ia\n",
    "from imgaug import augmenters as iaa\n",
    "from PIL import Image\n",
    "import matplotlib.pyplot as plt\n",
    "import matplotlib.image as mpimg\n",
    "import cv2\n",
    "import random "
   ]
  },
  {
   "cell_type": "code",
   "execution_count": null,
   "metadata": {},
   "outputs": [],
   "source": [
    "preprocessing_stages = {\"filter_black\":{\"threshold\":0.1}, \n",
    "                        \"swap_channels\":{\"src_ch\":1, \"dst_ch\":2},\n",
    "                        \"imgaug\":{\n",
    "                            \"sometimes\":0.5,\n",
    "                            \"flip_lr\":0.5,\n",
    "                            \"flip_ud\":0.2,\n",
    "                            \"brightness\":(0.5, 1.5),\n",
    "                            \"contrast_normalization\":(0.5, 2.0),\n",
    "                            \"crop_to_size\":[224, 224],\n",
    "                            \"resize\":[300, 300],\n",
    "                            \"sharpen\":{\"alpha\":(0, 1.0), \"lightness\":(0.75, 1.5)}\n",
    "                        }\n",
    "                       }"
   ]
  },
  {
   "cell_type": "code",
   "execution_count": null,
   "metadata": {},
   "outputs": [],
   "source": [
    "def is_crappy_image(image, threshold):\n",
    "        pixels_number = image.shape[0] * image.shape[1]\n",
    "        bad_pixels_num = pixels_number - cv2.countNonZero(cv2.cvtColor(image, cv2.COLOR_BGR2GRAY))\n",
    "        if (bad_pixels_num/pixels_number < threshold):\n",
    "            return False\n",
    "        else:\n",
    "            return True"
   ]
  },
  {
   "cell_type": "code",
   "execution_count": null,
   "metadata": {},
   "outputs": [],
   "source": [
    "def swap_channels(image, src_channel, dest_channel):\n",
    "    src = image[:, :, src_channel]\n",
    "    dest = image[:, :, dest_channel]\n",
    "    image[:, :, dest_channel] = src\n",
    "    image[:, :, src_channel] = dest\n",
    "    return image"
   ]
  },
  {
   "cell_type": "code",
   "execution_count": null,
   "metadata": {},
   "outputs": [],
   "source": [
    "def preprocess_images(image_path_list, preprocessing_stages):\n",
    "    img_list = []\n",
    "    img_path_list = []    \n",
    "    \n",
    "    for image_file in image_path_list:\n",
    "        image = mpimg.imread(image_file)\n",
    "        img_list.append(image)\n",
    "        img_path_list.append(image_file)\n",
    "        \n",
    "    for stage in preprocessing_stages:\n",
    "        params =  preprocessing_stages[stage]\n",
    "        if (stage == \"filter_black\"):\n",
    "            idx_to_remove = []\n",
    "            for i in range(len(img_list)):\n",
    "                threshold = params[\"threshold\"]\n",
    "                res = is_crappy_image(img_list[i], threshold)\n",
    "                if (res == True):\n",
    "                    idx_to_remove.append(i)\n",
    "                    \n",
    "            for idx in idx_to_remove:\n",
    "                img_list.pop(idx)\n",
    "                img_path_list.pop(idx)\n",
    "                \n",
    "        if (stage == \"swap_channels\"):\n",
    "            src_channel = params[\"src_ch\"]\n",
    "            dest_channel = params[\"dst_ch\"]\n",
    "            for i in range(len(img_list)):\n",
    "                img_list[i] = swap_channels(img_list[i], src_channel, dest_channel)\n",
    "        \n",
    "        if (stage == \"imgaug\"):\n",
    "            # https://imgaug.readthedocs.io/en/latest/source/examples_basics.html#heavy-augmentations\n",
    "            random_state_init = random.randint(0, 1000)\n",
    "            ia.seed(random_state_init)\n",
    "            \n",
    "            sometimes = lambda aug: iaa.Sometimes(params[\"sometimes\"], aug)\n",
    "            \n",
    "            seq = iaa.Sequential([\n",
    "                            # Resize\n",
    "                            iaa.Resize({\"height\": params[\"resize\"][0], \n",
    "                                        \"width\": params[\"resize\"][1]}),\n",
    "                            # horizontally flip 50% of all images\n",
    "                            iaa.Fliplr(params[\"flip_lr\"]),\n",
    "                            # vertically flip 20% of all images\n",
    "                            iaa.Flipud(params[\"flip_ud\"]),\n",
    "                            # Change brightness of images (50-150% of original value).\n",
    "                            iaa.Multiply(params[\"brightness\"], \n",
    "                                         per_channel=0.5),\n",
    "                            # Improve or worsen the contrast of images.\n",
    "                            iaa.ContrastNormalization(params[\"contrast_normalization\"], \n",
    "                                                      per_channel=0.5),\n",
    "                            iaa.CropToFixedSize(width=params[\"crop_to_size\"][0], \n",
    "                                                height=params[\"crop_to_size\"][1]),\n",
    "                            # Sharpen each image, overlay the result with the original\n",
    "                            # image using an alpha between 0 (no sharpening) and 1\n",
    "                            # (full sharpening effect).\n",
    "                            sometimes( iaa.Sharpen(alpha=params[\"sharpen\"][\"alpha\"], \n",
    "                                                   lightness=params[\"sharpen\"][\"lightness\"]) \n",
    "                                     )\n",
    "                \n",
    "                    ],random_order=False)\n",
    "            images_aug = seq(images=img_list)\n",
    "            img_list = images_aug\n",
    "            \n",
    "    return img_path_list, img_list"
   ]
  },
  {
   "cell_type": "code",
   "execution_count": null,
   "metadata": {},
   "outputs": [],
   "source": [
    "image_path_list = cars = glob.glob('data/*.png')\n",
    "img_path_list, img_list = preprocess_images(image_path_list, preprocessing_stages)\n",
    "for img in img_list:\n",
    "    plt.imshow(img)\n",
    "    plt.show()"
   ]
  },
  {
   "cell_type": "code",
   "execution_count": null,
   "metadata": {},
   "outputs": [],
   "source": []
  }
 ],
 "metadata": {
  "colab": {
   "collapsed_sections": [],
   "name": "data_augm_pipeline.ipynb",
   "provenance": [],
   "version": "0.3.2"
  },
  "kernelspec": {
   "display_name": "Python 3",
   "language": "python",
   "name": "python3"
  },
  "language_info": {
   "codemirror_mode": {
    "name": "ipython",
    "version": 3
   },
   "file_extension": ".py",
   "mimetype": "text/x-python",
   "name": "python",
   "nbconvert_exporter": "python",
   "pygments_lexer": "ipython3",
   "version": "3.6.7"
  }
 },
 "nbformat": 4,
 "nbformat_minor": 1
}
