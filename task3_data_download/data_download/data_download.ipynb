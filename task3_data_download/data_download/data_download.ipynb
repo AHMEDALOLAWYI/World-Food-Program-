{
 "cells": [
  {
   "cell_type": "markdown",
   "metadata": {},
   "source": [
    "# Look at CSV"
   ]
  },
  {
   "cell_type": "code",
   "execution_count": 1,
   "metadata": {},
   "outputs": [],
   "source": [
    "import pandas as pd"
   ]
  },
  {
   "cell_type": "code",
   "execution_count": 2,
   "metadata": {},
   "outputs": [],
   "source": [
    "df = pd.read_csv('point_survey_v1.csv')"
   ]
  },
  {
   "cell_type": "code",
   "execution_count": 3,
   "metadata": {},
   "outputs": [
    {
     "data": {
      "text/plain": [
       "(1585, 59)"
      ]
     },
     "execution_count": 3,
     "metadata": {},
     "output_type": "execute_result"
    }
   ],
   "source": [
    "df.shape"
   ]
  },
  {
   "cell_type": "code",
   "execution_count": 4,
   "metadata": {},
   "outputs": [
    {
     "data": {
      "text/plain": [
       "Index(['district', 'segment_id', 'point_id', 'point_code', 'su_id', 'su_date',\n",
       "       'su_date_year', 'su_date_month', 'su_date_day', 'start_time',\n",
       "       'start_time_hour', 'start_time_minute', 'dist_point', 'dist_m',\n",
       "       'imp_type', 'imp_type_qualifier', 'imp_list', 'imp_list_qualifier',\n",
       "       'wp_gps', 'coord_obs', 'coord_obs_srs', 'coord_obs_x', 'coord_obs_y',\n",
       "       'point_obs', 'not_obs', 'not_obs_qualifier', 'point_loc', 'lc_cat1',\n",
       "       'lc_group1', 'lc_code1', 'lc_code1_qualifier', 'lc_pct1', 'lc_sea1',\n",
       "       'lc_sea1_qualifier', 'lc_cat2', 'lc_group2', 'lc_code2',\n",
       "       'lc_code2_qualifier', 'lc_pct2', 'lc_sea2', 'lc_sea2_qualifier',\n",
       "       'lc_cat3', 'lc_group3', 'lc_code3', 'lc_code3_qualifier', 'lc_pct3',\n",
       "       'lc_sea3', 'lc_sea3_qualifier', 'pct_check', 'harvest',\n",
       "       'harvest_qualifier', 'd_harv', 'irrig', 'lc_remark', 'photo', 'remarks',\n",
       "       'entry_loc', 'entry_loc_qualifier', 'end_time'],\n",
       "      dtype='object')"
      ]
     },
     "execution_count": 4,
     "metadata": {},
     "output_type": "execute_result"
    }
   ],
   "source": [
    "df.columns"
   ]
  },
  {
   "cell_type": "markdown",
   "metadata": {},
   "source": [
    "Assigning IDs to each row for reference."
   ]
  },
  {
   "cell_type": "code",
   "execution_count": 21,
   "metadata": {},
   "outputs": [],
   "source": [
    "id = range(df.shape[0])\n",
    "id = [str(i).zfill(5) for i in id]\n",
    "df['unique_id'] = id"
   ]
  },
  {
   "cell_type": "markdown",
   "metadata": {},
   "source": [
    "# Strategy\n",
    "Since we are only given a set of coordinates for reference, and the distance from that point to the relevant observation, I defined a function that creates a bounding box of sorts around that coordinate that spans a certain amount of distance. My idea for now is to create bounding boxes of width and height of 500m *2 for observations that can be found within 500m of the reference point. Average farm area in Nepal is 40468.6 m*m, for observations further than 500m from the reference point we'll create a box wit dimensions of (Distance given + 250m) *2."
   ]
  },
  {
   "cell_type": "code",
   "execution_count": 11,
   "metadata": {},
   "outputs": [],
   "source": [
    "def bb_from_coords(lat,long,dist,inverse=True):\n",
    "    #Lat long in degrees\n",
    "    #Distance is in Meters\n",
    "    if inverse:\n",
    "        lat, long = long, lat\n",
    "    \n",
    "    from math import pi, acos, asin, cos, sin\n",
    "    R = 6371\n",
    "    def deg2rad(x):\n",
    "        return x * pi / 180\n",
    "\n",
    "    def rad2deg(x):\n",
    "        return x / (pi / 180)\n",
    "    \n",
    "    lat, long = deg2rad(lat), deg2rad(long)\n",
    "    distance_km = dist/1000\n",
    "    r = distance_km/R \n",
    "    \n",
    "    latmin = lat - r \n",
    "    latmax = lat + r\n",
    "    Δlong = asin(sin(r)/cos(lat))\n",
    "    longmin = long - Δlong\n",
    "    longmax = long + Δlong\n",
    "    \n",
    "    latmin, longmin, latmax, longmax = rad2deg(latmin), rad2deg(longmin), rad2deg(latmax), rad2deg(longmax)\n",
    "    \n",
    "    if inverse:\n",
    "        return [longmin, latmin, longmax, latmax]\n",
    "    \n",
    "    return [latmin, longmin, latmax, longmax]"
   ]
  },
  {
   "cell_type": "markdown",
   "metadata": {},
   "source": [
    "# Download Images"
   ]
  },
  {
   "cell_type": "code",
   "execution_count": 24,
   "metadata": {},
   "outputs": [],
   "source": [
    "#Start Google Earth Engine\n",
    "import ee\n",
    "ee.Initialize()"
   ]
  },
  {
   "cell_type": "code",
   "execution_count": null,
   "metadata": {},
   "outputs": [],
   "source": [
    "#Load collection once, and just loop take the relevant regions later\n",
    "dataset = ee.ImageCollection('COPERNICUS/S2')\\\n",
    "    .filterDate('2016-10-01', '2016-11-30')\\\n",
    "    .select(['B4', 'B3', 'B2'])\\\n",
    "\n",
    "for n, row in df.iterrows():\n",
    "  x, y, dist = row['coord_obs_x'], row['coord_obs_y'], row['dist_m']\n",
    "  #Let's ignore the date from now and just take observations between Oct and Nov\n",
    "  date = row['su_date']\n",
    "  if dist > 500:\n",
    "    dist+=250\n",
    "  else:\n",
    "    dist = 500\n",
    "  geom = ee.Geometry.Rectangle(bb_from_coords(x,y,dist,True))\n",
    "  reduction = dataset.filterBounds(geom).mosaic()\n",
    "  stats = reduction.reduceRegion(reducer=ee.Reducer.minMax(),geometry=geom,scale=1,bestEffort=True)\n",
    "  statDict = stats.getInfo()\n",
    "  prettyImg = reduction.visualize(bands=['B4', 'B3', 'B2'],\n",
    "                       min=[statDict['B4_min'],statDict['B3_min'],statDict['B2_min']],\n",
    "                       max=[statDict['B4_max'],statDict['B3_max'],statDict['B2_max']],\n",
    "                       gamma=1)\n",
    "  #NEXT LINE IS OPTIONAL, RUN IT TO GET A URL THAT YOU CAN VIEW YOUR IMG IN\n",
    "#   prettyImg.getThumbUrl({'region':geom.toGeoJSON()})\n",
    "  fileName =  str(row['unique_id'])\n",
    "  task = ee.batch.Export.image.toDrive(prettyImg, folder='nepal', region=geom['coordinates'][0], scale=1, description=fileName)\n",
    "  task.start()\n",
    "\n",
    "\n",
    "\n",
    "\n"
   ]
  },
  {
   "cell_type": "markdown",
   "metadata": {},
   "source": [
    "# Visualise Image in Python"
   ]
  },
  {
   "cell_type": "code",
   "execution_count": 132,
   "metadata": {},
   "outputs": [],
   "source": [
    "import rasterio\n",
    "from rasterio.plot import show"
   ]
  },
  {
   "cell_type": "code",
   "execution_count": 134,
   "metadata": {},
   "outputs": [],
   "source": [
    "src = rasterio.open('img1.tif')"
   ]
  },
  {
   "cell_type": "code",
   "execution_count": 145,
   "metadata": {},
   "outputs": [
    {
     "data": {
      "text/plain": [
       "<matplotlib.image.AxesImage at 0x7fc47303cda0>"
      ]
     },
     "execution_count": 145,
     "metadata": {},
     "output_type": "execute_result"
    },
    {
     "name": "stderr",
     "output_type": "stream",
     "text": [
      "/usr/local/envs/py3env/lib/python3.5/site-packages/matplotlib/font_manager.py:1320: UserWarning: findfont: Font family ['sans-serif'] not found. Falling back to DejaVu Sans\n",
      "  (prop.get_family(), self.defaultFamily[fontext]))\n"
     ]
    },
    {
     "data": {
      "image/png": "[encoded data removed]",
      "text/plain": [
       "<matplotlib.figure.Figure at 0x7fc47388aa58>"
      ]
     },
     "metadata": {},
     "output_type": "display_data"
    }
   ],
   "source": [
    "import numpy as np\n",
    "import matplotlib.pyplot as plt\n",
    "# Normalize bands into 0.0 - 1.0 scale\n",
    "def normalize(array):\n",
    "    array_min, array_max = array.min(), array.max()\n",
    "    return ((array - array_min)/(array_max - array_min))\n",
    "\n",
    "# Convert to numpy arrays\n",
    "red = src.read(3)\n",
    "green = src.read(2)\n",
    "blue= src.read(1)\n",
    "\n",
    "\n",
    "# Normalize band DN\n",
    "redn = normalize(red)\n",
    "greenn = normalize(green)\n",
    "bluen = normalize(blue)\n",
    "\n",
    "\n",
    "# Stack bands\n",
    "nrg = np.dstack((redn,greenn,bluen))\n",
    "\n",
    "# View the color composite\n",
    "plt.imshow(nrg)"
   ]
  }
 ],
 "metadata": {
  "kernelspec": {
   "display_name": "Python 3",
   "language": "python",
   "name": "python3"
  },
  "language_info": {
   "codemirror_mode": {
    "name": "ipython",
    "version": 3
   },
   "file_extension": ".py",
   "mimetype": "text/x-python",
   "name": "python",
   "nbconvert_exporter": "python",
   "pygments_lexer": "ipython3",
   "version": "3.5.6"
  }
 },
 "nbformat": 4,
 "nbformat_minor": 2
}
