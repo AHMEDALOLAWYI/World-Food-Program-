{
 "cells": [
  {
   "cell_type": "code",
   "execution_count": 1,
   "metadata": {},
   "outputs": [],
   "source": [
    "from matplotlib.pyplot import imshow\n",
    "from pathlib import Path\n",
    "from tqdm import tqdm\n",
    "import numpy as np\n",
    "from os import scandir, walk, remove\n",
    "import pandas as pd\n",
    "from fastprogress import progress_bar\n",
    "from fastai import *\n",
    "from fastai.vision import *\n",
    "from PIL import Image\n",
    "from numbers import Integral"
   ]
  },
  {
   "cell_type": "markdown",
   "metadata": {},
   "source": [
    "# Dropout on Image"
   ]
  },
  {
   "cell_type": "code",
   "execution_count": 2,
   "metadata": {},
   "outputs": [],
   "source": [
    "data_path = 'lbl_data_resized/'"
   ]
  },
  {
   "cell_type": "code",
   "execution_count": 3,
   "metadata": {},
   "outputs": [],
   "source": [
    "trn_val = pd.read_csv(\"train_test_split_clean.csv\")\n",
    "trn_val_dict = {row.fname: row.is_val_set for _, row in trn_val.iterrows()}"
   ]
  },
  {
   "cell_type": "code",
   "execution_count": 4,
   "metadata": {},
   "outputs": [],
   "source": [
    "def get_split(fname):\n",
    "      return trn_val_dict[fname.name]"
   ]
  },
  {
   "cell_type": "code",
   "execution_count": 5,
   "metadata": {},
   "outputs": [],
   "source": [
    "import re\n",
    "pat = '^rice_'\n",
    "\n",
    "def is_rice(fname):\n",
    "    if re.search(pat,fname.stem): return True\n",
    "    return False"
   ]
  },
  {
   "cell_type": "code",
   "execution_count": 6,
   "metadata": {},
   "outputs": [],
   "source": [
    "src = (ImageList.from_folder(Path(data_path))\n",
    "        .split_by_valid_func(get_split)\n",
    "        .label_from_func(is_rice)\n",
    "      )\n",
    "tfms = get_transforms(flip_vert=True, max_lighting=0.1, max_zoom=1.05, max_warp=0.)\n",
    "data = (src.transform(tfms,size=224)\n",
    "        .databunch(bs=40)\n",
    "        .normalize(imagenet_stats)\n",
    "       )"
   ]
  },
  {
   "cell_type": "code",
   "execution_count": 7,
   "metadata": {},
   "outputs": [],
   "source": [
    "def f1_score(y_pred:Tensor, y_true:Tensor,beta:float=1, eps:float=1e-9)->Rank0Tensor:\n",
    "    \"Computes the f_beta between `preds` and `targets`\"\n",
    "    beta2 = beta ** 2\n",
    "\n",
    "    y_pred = y_pred.argmax(dim=1).float()\n",
    "    y_true = y_true.float()\n",
    "    \n",
    "    TP = (y_pred*y_true).sum()\n",
    "    prec = TP/(y_pred.sum()+eps)\n",
    "    rec = TP/(y_true.sum()+eps)\n",
    "    res = (prec*rec)/(prec*beta2+rec+eps)*(1+beta2)\n",
    "    return res.mean()"
   ]
  },
  {
   "cell_type": "code",
   "execution_count": 8,
   "metadata": {},
   "outputs": [],
   "source": [
    "model = nn.Sequential(nn.Dropout(0.2), create_cnn_model(models.resnet34, nc=2))\n",
    "learner = Learner(data, model, metrics=[accuracy, f1_score])"
   ]
  },
  {
   "cell_type": "code",
   "execution_count": 9,
   "metadata": {},
   "outputs": [],
   "source": [
    "def _nts_split(m):\n",
    "    groups = [[*list(m.children())[:1]]]\n",
    "    groups += [[*list(m.children())[1:]]]\n",
    "    return groups"
   ]
  },
  {
   "cell_type": "code",
   "execution_count": 11,
   "metadata": {},
   "outputs": [],
   "source": [
    "learner.split(_nts_split);"
   ]
  },
  {
   "cell_type": "code",
   "execution_count": 11,
   "metadata": {},
   "outputs": [],
   "source": [
    "learner.freeze()"
   ]
  },
  {
   "cell_type": "code",
   "execution_count": 12,
   "metadata": {},
   "outputs": [
    {
     "data": {
      "text/html": [
       "<table border=\"1\" class=\"dataframe\">\n",
       "  <thead>\n",
       "    <tr style=\"text-align: left;\">\n",
       "      <th>epoch</th>\n",
       "      <th>train_loss</th>\n",
       "      <th>valid_loss</th>\n",
       "      <th>accuracy</th>\n",
       "      <th>f1_score</th>\n",
       "      <th>time</th>\n",
       "    </tr>\n",
       "  </thead>\n",
       "  <tbody>\n",
       "    <tr>\n",
       "      <td>0</td>\n",
       "      <td>0.683078</td>\n",
       "      <td>0.687369</td>\n",
       "      <td>0.578143</td>\n",
       "      <td>0.524105</td>\n",
       "      <td>00:39</td>\n",
       "    </tr>\n",
       "    <tr>\n",
       "      <td>1</td>\n",
       "      <td>0.684062</td>\n",
       "      <td>0.701128</td>\n",
       "      <td>0.580436</td>\n",
       "      <td>0.413207</td>\n",
       "      <td>00:39</td>\n",
       "    </tr>\n",
       "    <tr>\n",
       "      <td>2</td>\n",
       "      <td>0.661358</td>\n",
       "      <td>0.717924</td>\n",
       "      <td>0.570501</td>\n",
       "      <td>0.440093</td>\n",
       "      <td>00:39</td>\n",
       "    </tr>\n",
       "    <tr>\n",
       "      <td>3</td>\n",
       "      <td>0.649524</td>\n",
       "      <td>0.673054</td>\n",
       "      <td>0.590753</td>\n",
       "      <td>0.455888</td>\n",
       "      <td>00:39</td>\n",
       "    </tr>\n",
       "  </tbody>\n",
       "</table>"
      ],
      "text/plain": [
       "<IPython.core.display.HTML object>"
      ]
     },
     "metadata": {},
     "output_type": "display_data"
    }
   ],
   "source": [
    "learner.fit_one_cycle(4)"
   ]
  },
  {
   "cell_type": "code",
   "execution_count": 13,
   "metadata": {},
   "outputs": [],
   "source": [
    "learner.save('image-droput_0.2')"
   ]
  },
  {
   "cell_type": "code",
   "execution_count": 15,
   "metadata": {},
   "outputs": [
    {
     "data": {
      "text/html": [],
      "text/plain": [
       "<IPython.core.display.HTML object>"
      ]
     },
     "metadata": {},
     "output_type": "display_data"
    },
    {
     "name": "stdout",
     "output_type": "stream",
     "text": [
      "LR Finder is complete, type {learner_name}.recorder.plot() to see the graph.\n",
      "Min numerical gradient: 2.75E-04\n",
      "Min loss divided by 10: 6.31E-08\n"
     ]
    },
    {
     "data": {
      "image/png": "[encoded data removed]",
      "text/plain": [
       "<Figure size 432x288 with 1 Axes>"
      ]
     },
     "metadata": {
      "needs_background": "light"
     },
     "output_type": "display_data"
    }
   ],
   "source": [
    "learner.unfreeze()\n",
    "learner.lr_find()\n",
    "learner.recorder.plot(suggestion=True)"
   ]
  },
  {
   "cell_type": "code",
   "execution_count": 16,
   "metadata": {},
   "outputs": [
    {
     "data": {
      "text/html": [
       "<table border=\"1\" class=\"dataframe\">\n",
       "  <thead>\n",
       "    <tr style=\"text-align: left;\">\n",
       "      <th>epoch</th>\n",
       "      <th>train_loss</th>\n",
       "      <th>valid_loss</th>\n",
       "      <th>accuracy</th>\n",
       "      <th>f1_score</th>\n",
       "      <th>time</th>\n",
       "    </tr>\n",
       "  </thead>\n",
       "  <tbody>\n",
       "    <tr>\n",
       "      <td>0</td>\n",
       "      <td>0.645563</td>\n",
       "      <td>0.660787</td>\n",
       "      <td>0.598777</td>\n",
       "      <td>0.445759</td>\n",
       "      <td>00:38</td>\n",
       "    </tr>\n",
       "    <tr>\n",
       "      <td>1</td>\n",
       "      <td>0.634303</td>\n",
       "      <td>0.729609</td>\n",
       "      <td>0.589224</td>\n",
       "      <td>0.546895</td>\n",
       "      <td>00:37</td>\n",
       "    </tr>\n",
       "    <tr>\n",
       "      <td>2</td>\n",
       "      <td>0.623284</td>\n",
       "      <td>0.675052</td>\n",
       "      <td>0.593810</td>\n",
       "      <td>0.516461</td>\n",
       "      <td>00:38</td>\n",
       "    </tr>\n",
       "    <tr>\n",
       "      <td>3</td>\n",
       "      <td>0.621407</td>\n",
       "      <td>0.660425</td>\n",
       "      <td>0.612151</td>\n",
       "      <td>0.544587</td>\n",
       "      <td>00:38</td>\n",
       "    </tr>\n",
       "  </tbody>\n",
       "</table>"
      ],
      "text/plain": [
       "<IPython.core.display.HTML object>"
      ]
     },
     "metadata": {},
     "output_type": "display_data"
    }
   ],
   "source": [
    "learner.fit_one_cycle(4, slice(1e-5, 1e-4))"
   ]
  },
  {
   "cell_type": "code",
   "execution_count": 17,
   "metadata": {},
   "outputs": [],
   "source": [
    "learner.save('image_droput_0.2-2')"
   ]
  },
  {
   "cell_type": "code",
   "execution_count": 20,
   "metadata": {},
   "outputs": [],
   "source": [
    "learner.load('image_droput_0.2-2');"
   ]
  },
  {
   "cell_type": "code",
   "execution_count": 21,
   "metadata": {},
   "outputs": [
    {
     "data": {
      "text/html": [
       "<table border=\"1\" class=\"dataframe\">\n",
       "  <thead>\n",
       "    <tr style=\"text-align: left;\">\n",
       "      <th>epoch</th>\n",
       "      <th>train_loss</th>\n",
       "      <th>valid_loss</th>\n",
       "      <th>accuracy</th>\n",
       "      <th>f1_score</th>\n",
       "      <th>time</th>\n",
       "    </tr>\n",
       "  </thead>\n",
       "  <tbody>\n",
       "    <tr>\n",
       "      <td>0</td>\n",
       "      <td>0.631383</td>\n",
       "      <td>0.681120</td>\n",
       "      <td>0.609859</td>\n",
       "      <td>0.579265</td>\n",
       "      <td>00:38</td>\n",
       "    </tr>\n",
       "    <tr>\n",
       "      <td>1</td>\n",
       "      <td>0.632765</td>\n",
       "      <td>0.659604</td>\n",
       "      <td>0.581964</td>\n",
       "      <td>0.554637</td>\n",
       "      <td>00:37</td>\n",
       "    </tr>\n",
       "    <tr>\n",
       "      <td>2</td>\n",
       "      <td>0.632130</td>\n",
       "      <td>0.688509</td>\n",
       "      <td>0.589989</td>\n",
       "      <td>0.550862</td>\n",
       "      <td>00:38</td>\n",
       "    </tr>\n",
       "    <tr>\n",
       "      <td>3</td>\n",
       "      <td>0.610720</td>\n",
       "      <td>0.770059</td>\n",
       "      <td>0.583493</td>\n",
       "      <td>0.583443</td>\n",
       "      <td>00:37</td>\n",
       "    </tr>\n",
       "    <tr>\n",
       "      <td>4</td>\n",
       "      <td>0.619057</td>\n",
       "      <td>0.705288</td>\n",
       "      <td>0.585785</td>\n",
       "      <td>0.579841</td>\n",
       "      <td>00:37</td>\n",
       "    </tr>\n",
       "    <tr>\n",
       "      <td>5</td>\n",
       "      <td>0.611399</td>\n",
       "      <td>0.690553</td>\n",
       "      <td>0.583875</td>\n",
       "      <td>0.586934</td>\n",
       "      <td>00:39</td>\n",
       "    </tr>\n",
       "  </tbody>\n",
       "</table>"
      ],
      "text/plain": [
       "<IPython.core.display.HTML object>"
      ]
     },
     "metadata": {},
     "output_type": "display_data"
    }
   ],
   "source": [
    "# Scores were improving. Train a bit more\n",
    "learner.fit_one_cycle(6, slice(1e-5, 1e-4))"
   ]
  },
  {
   "cell_type": "code",
   "execution_count": 22,
   "metadata": {},
   "outputs": [],
   "source": [
    "learner.save('image_droput_0.2-3')"
   ]
  },
  {
   "cell_type": "code",
   "execution_count": 24,
   "metadata": {},
   "outputs": [],
   "source": [
    "learner.load('image_droput_0.2-3');"
   ]
  },
  {
   "cell_type": "code",
   "execution_count": 25,
   "metadata": {},
   "outputs": [
    {
     "data": {
      "text/html": [
       "<table border=\"1\" class=\"dataframe\">\n",
       "  <thead>\n",
       "    <tr style=\"text-align: left;\">\n",
       "      <th>epoch</th>\n",
       "      <th>train_loss</th>\n",
       "      <th>valid_loss</th>\n",
       "      <th>accuracy</th>\n",
       "      <th>f1_score</th>\n",
       "      <th>time</th>\n",
       "    </tr>\n",
       "  </thead>\n",
       "  <tbody>\n",
       "    <tr>\n",
       "      <td>0</td>\n",
       "      <td>0.603543</td>\n",
       "      <td>0.735981</td>\n",
       "      <td>0.585403</td>\n",
       "      <td>0.605008</td>\n",
       "      <td>00:39</td>\n",
       "    </tr>\n",
       "    <tr>\n",
       "      <td>1</td>\n",
       "      <td>0.607093</td>\n",
       "      <td>0.729028</td>\n",
       "      <td>0.598013</td>\n",
       "      <td>0.618346</td>\n",
       "      <td>00:38</td>\n",
       "    </tr>\n",
       "    <tr>\n",
       "      <td>2</td>\n",
       "      <td>0.604410</td>\n",
       "      <td>0.687192</td>\n",
       "      <td>0.598777</td>\n",
       "      <td>0.625416</td>\n",
       "      <td>00:37</td>\n",
       "    </tr>\n",
       "    <tr>\n",
       "      <td>3</td>\n",
       "      <td>0.600242</td>\n",
       "      <td>0.721448</td>\n",
       "      <td>0.602216</td>\n",
       "      <td>0.647527</td>\n",
       "      <td>00:37</td>\n",
       "    </tr>\n",
       "    <tr>\n",
       "      <td>4</td>\n",
       "      <td>0.607323</td>\n",
       "      <td>0.802122</td>\n",
       "      <td>0.575850</td>\n",
       "      <td>0.621974</td>\n",
       "      <td>00:39</td>\n",
       "    </tr>\n",
       "    <tr>\n",
       "      <td>5</td>\n",
       "      <td>0.603341</td>\n",
       "      <td>0.748991</td>\n",
       "      <td>0.589606</td>\n",
       "      <td>0.610508</td>\n",
       "      <td>00:39</td>\n",
       "    </tr>\n",
       "    <tr>\n",
       "      <td>6</td>\n",
       "      <td>0.603717</td>\n",
       "      <td>0.754423</td>\n",
       "      <td>0.589224</td>\n",
       "      <td>0.615865</td>\n",
       "      <td>00:39</td>\n",
       "    </tr>\n",
       "    <tr>\n",
       "      <td>7</td>\n",
       "      <td>0.595060</td>\n",
       "      <td>0.769995</td>\n",
       "      <td>0.576614</td>\n",
       "      <td>0.613357</td>\n",
       "      <td>00:39</td>\n",
       "    </tr>\n",
       "    <tr>\n",
       "      <td>8</td>\n",
       "      <td>0.597425</td>\n",
       "      <td>0.743454</td>\n",
       "      <td>0.582346</td>\n",
       "      <td>0.614185</td>\n",
       "      <td>00:39</td>\n",
       "    </tr>\n",
       "    <tr>\n",
       "      <td>9</td>\n",
       "      <td>0.590876</td>\n",
       "      <td>0.743392</td>\n",
       "      <td>0.577761</td>\n",
       "      <td>0.619770</td>\n",
       "      <td>00:39</td>\n",
       "    </tr>\n",
       "  </tbody>\n",
       "</table>"
      ],
      "text/plain": [
       "<IPython.core.display.HTML object>"
      ]
     },
     "metadata": {},
     "output_type": "display_data"
    }
   ],
   "source": [
    "# Train using lower learning rates\n",
    "learner.fit_one_cycle(10, slice(5e-6, 5e-5))"
   ]
  },
  {
   "cell_type": "code",
   "execution_count": 26,
   "metadata": {},
   "outputs": [],
   "source": [
    "learner.save('image_droput_0.2-4')"
   ]
  },
  {
   "cell_type": "code",
   "execution_count": 27,
   "metadata": {},
   "outputs": [],
   "source": [
    "learner.load('image_droput_0.2-4');"
   ]
  },
  {
   "cell_type": "code",
   "execution_count": 30,
   "metadata": {},
   "outputs": [],
   "source": [
    "# Increse the dropout strength\n",
    "learner.model[0].p = 0.25"
   ]
  },
  {
   "cell_type": "code",
   "execution_count": 33,
   "metadata": {},
   "outputs": [
    {
     "data": {
      "text/plain": [
       "Dropout(p=0.25)"
      ]
     },
     "execution_count": 33,
     "metadata": {},
     "output_type": "execute_result"
    }
   ],
   "source": [
    "learner.model[0]"
   ]
  },
  {
   "cell_type": "code",
   "execution_count": 34,
   "metadata": {},
   "outputs": [
    {
     "data": {
      "text/html": [
       "<table border=\"1\" class=\"dataframe\">\n",
       "  <thead>\n",
       "    <tr style=\"text-align: left;\">\n",
       "      <th>epoch</th>\n",
       "      <th>train_loss</th>\n",
       "      <th>valid_loss</th>\n",
       "      <th>accuracy</th>\n",
       "      <th>f1_score</th>\n",
       "      <th>time</th>\n",
       "    </tr>\n",
       "  </thead>\n",
       "  <tbody>\n",
       "    <tr>\n",
       "      <td>0</td>\n",
       "      <td>0.597408</td>\n",
       "      <td>0.812062</td>\n",
       "      <td>0.563240</td>\n",
       "      <td>0.618545</td>\n",
       "      <td>00:39</td>\n",
       "    </tr>\n",
       "    <tr>\n",
       "      <td>1</td>\n",
       "      <td>0.596366</td>\n",
       "      <td>0.819172</td>\n",
       "      <td>0.568972</td>\n",
       "      <td>0.621739</td>\n",
       "      <td>00:39</td>\n",
       "    </tr>\n",
       "    <tr>\n",
       "      <td>2</td>\n",
       "      <td>0.601624</td>\n",
       "      <td>0.798062</td>\n",
       "      <td>0.565533</td>\n",
       "      <td>0.617951</td>\n",
       "      <td>00:39</td>\n",
       "    </tr>\n",
       "    <tr>\n",
       "      <td>3</td>\n",
       "      <td>0.597805</td>\n",
       "      <td>0.864862</td>\n",
       "      <td>0.566297</td>\n",
       "      <td>0.622306</td>\n",
       "      <td>00:39</td>\n",
       "    </tr>\n",
       "    <tr>\n",
       "      <td>4</td>\n",
       "      <td>0.589755</td>\n",
       "      <td>0.849975</td>\n",
       "      <td>0.568590</td>\n",
       "      <td>0.618143</td>\n",
       "      <td>00:39</td>\n",
       "    </tr>\n",
       "    <tr>\n",
       "      <td>5</td>\n",
       "      <td>0.601963</td>\n",
       "      <td>0.872138</td>\n",
       "      <td>0.566297</td>\n",
       "      <td>0.618377</td>\n",
       "      <td>00:39</td>\n",
       "    </tr>\n",
       "    <tr>\n",
       "      <td>6</td>\n",
       "      <td>0.588781</td>\n",
       "      <td>0.867691</td>\n",
       "      <td>0.556744</td>\n",
       "      <td>0.617348</td>\n",
       "      <td>00:39</td>\n",
       "    </tr>\n",
       "    <tr>\n",
       "      <td>7</td>\n",
       "      <td>0.594336</td>\n",
       "      <td>0.877333</td>\n",
       "      <td>0.564005</td>\n",
       "      <td>0.619171</td>\n",
       "      <td>00:39</td>\n",
       "    </tr>\n",
       "    <tr>\n",
       "      <td>8</td>\n",
       "      <td>0.590715</td>\n",
       "      <td>0.861238</td>\n",
       "      <td>0.562094</td>\n",
       "      <td>0.619145</td>\n",
       "      <td>00:39</td>\n",
       "    </tr>\n",
       "    <tr>\n",
       "      <td>9</td>\n",
       "      <td>0.600145</td>\n",
       "      <td>0.870173</td>\n",
       "      <td>0.560183</td>\n",
       "      <td>0.618381</td>\n",
       "      <td>00:38</td>\n",
       "    </tr>\n",
       "  </tbody>\n",
       "</table>"
      ],
      "text/plain": [
       "<IPython.core.display.HTML object>"
      ]
     },
     "metadata": {},
     "output_type": "display_data"
    }
   ],
   "source": [
    "learner.fit_one_cycle(10, slice(1e-6, 1e-5))"
   ]
  },
  {
   "cell_type": "code",
   "execution_count": 44,
   "metadata": {},
   "outputs": [],
   "source": [
    "learner.save('image_droput_0.25-1')"
   ]
  },
  {
   "cell_type": "code",
   "execution_count": 47,
   "metadata": {},
   "outputs": [],
   "source": [
    "learner.load('image_droput_0.25-1');"
   ]
  },
  {
   "cell_type": "code",
   "execution_count": 48,
   "metadata": {},
   "outputs": [],
   "source": [
    "# Why is model training taking so low time compared to James' notebook?\n",
    "# Are the layers frozen?\n",
    "learner.unfreeze()"
   ]
  },
  {
   "cell_type": "code",
   "execution_count": 49,
   "metadata": {},
   "outputs": [
    {
     "data": {
      "text/html": [
       "<table border=\"1\" class=\"dataframe\">\n",
       "  <thead>\n",
       "    <tr style=\"text-align: left;\">\n",
       "      <th>epoch</th>\n",
       "      <th>train_loss</th>\n",
       "      <th>valid_loss</th>\n",
       "      <th>accuracy</th>\n",
       "      <th>f1_score</th>\n",
       "      <th>time</th>\n",
       "    </tr>\n",
       "  </thead>\n",
       "  <tbody>\n",
       "    <tr>\n",
       "      <td>0</td>\n",
       "      <td>0.589401</td>\n",
       "      <td>0.894505</td>\n",
       "      <td>0.561330</td>\n",
       "      <td>0.618494</td>\n",
       "      <td>00:39</td>\n",
       "    </tr>\n",
       "    <tr>\n",
       "      <td>1</td>\n",
       "      <td>0.582241</td>\n",
       "      <td>0.858340</td>\n",
       "      <td>0.560566</td>\n",
       "      <td>0.618859</td>\n",
       "      <td>00:39</td>\n",
       "    </tr>\n",
       "    <tr>\n",
       "      <td>2</td>\n",
       "      <td>0.600463</td>\n",
       "      <td>0.894775</td>\n",
       "      <td>0.557126</td>\n",
       "      <td>0.639166</td>\n",
       "      <td>00:39</td>\n",
       "    </tr>\n",
       "    <tr>\n",
       "      <td>3</td>\n",
       "      <td>0.578010</td>\n",
       "      <td>0.906875</td>\n",
       "      <td>0.557891</td>\n",
       "      <td>0.638914</td>\n",
       "      <td>00:40</td>\n",
       "    </tr>\n",
       "    <tr>\n",
       "      <td>4</td>\n",
       "      <td>0.585490</td>\n",
       "      <td>0.803184</td>\n",
       "      <td>0.565915</td>\n",
       "      <td>0.639888</td>\n",
       "      <td>00:39</td>\n",
       "    </tr>\n",
       "    <tr>\n",
       "      <td>5</td>\n",
       "      <td>0.591104</td>\n",
       "      <td>0.871344</td>\n",
       "      <td>0.562094</td>\n",
       "      <td>0.639658</td>\n",
       "      <td>00:39</td>\n",
       "    </tr>\n",
       "    <tr>\n",
       "      <td>6</td>\n",
       "      <td>0.586534</td>\n",
       "      <td>0.896972</td>\n",
       "      <td>0.558655</td>\n",
       "      <td>0.638400</td>\n",
       "      <td>00:39</td>\n",
       "    </tr>\n",
       "    <tr>\n",
       "      <td>7</td>\n",
       "      <td>0.584361</td>\n",
       "      <td>0.885737</td>\n",
       "      <td>0.562094</td>\n",
       "      <td>0.636041</td>\n",
       "      <td>00:39</td>\n",
       "    </tr>\n",
       "    <tr>\n",
       "      <td>8</td>\n",
       "      <td>0.579231</td>\n",
       "      <td>0.958360</td>\n",
       "      <td>0.559419</td>\n",
       "      <td>0.640783</td>\n",
       "      <td>00:39</td>\n",
       "    </tr>\n",
       "    <tr>\n",
       "      <td>9</td>\n",
       "      <td>0.584954</td>\n",
       "      <td>0.892166</td>\n",
       "      <td>0.560566</td>\n",
       "      <td>0.635514</td>\n",
       "      <td>00:39</td>\n",
       "    </tr>\n",
       "  </tbody>\n",
       "</table>"
      ],
      "text/plain": [
       "<IPython.core.display.HTML object>"
      ]
     },
     "metadata": {},
     "output_type": "display_data"
    }
   ],
   "source": [
    "learner.fit_one_cycle(10, slice(9e-7, 9e-6))"
   ]
  },
  {
   "cell_type": "code",
   "execution_count": 50,
   "metadata": {},
   "outputs": [],
   "source": [
    "learner.save('image_droput_0.25-2')"
   ]
  },
  {
   "cell_type": "code",
   "execution_count": 51,
   "metadata": {},
   "outputs": [],
   "source": [
    "learner.load('image_droput_0.25-2');"
   ]
  },
  {
   "cell_type": "code",
   "execution_count": 52,
   "metadata": {},
   "outputs": [
    {
     "data": {
      "text/html": [
       "<table border=\"1\" class=\"dataframe\">\n",
       "  <thead>\n",
       "    <tr style=\"text-align: left;\">\n",
       "      <th>epoch</th>\n",
       "      <th>train_loss</th>\n",
       "      <th>valid_loss</th>\n",
       "      <th>accuracy</th>\n",
       "      <th>f1_score</th>\n",
       "      <th>time</th>\n",
       "    </tr>\n",
       "  </thead>\n",
       "  <tbody>\n",
       "    <tr>\n",
       "      <td>0</td>\n",
       "      <td>0.582103</td>\n",
       "      <td>0.866903</td>\n",
       "      <td>0.563622</td>\n",
       "      <td>0.637398</td>\n",
       "      <td>00:38</td>\n",
       "    </tr>\n",
       "    <tr>\n",
       "      <td>1</td>\n",
       "      <td>0.579852</td>\n",
       "      <td>0.873282</td>\n",
       "      <td>0.560948</td>\n",
       "      <td>0.634211</td>\n",
       "      <td>00:38</td>\n",
       "    </tr>\n",
       "    <tr>\n",
       "      <td>2</td>\n",
       "      <td>0.589750</td>\n",
       "      <td>0.882855</td>\n",
       "      <td>0.565151</td>\n",
       "      <td>0.637376</td>\n",
       "      <td>00:39</td>\n",
       "    </tr>\n",
       "    <tr>\n",
       "      <td>3</td>\n",
       "      <td>0.593678</td>\n",
       "      <td>0.882451</td>\n",
       "      <td>0.552541</td>\n",
       "      <td>0.615914</td>\n",
       "      <td>00:39</td>\n",
       "    </tr>\n",
       "    <tr>\n",
       "      <td>4</td>\n",
       "      <td>0.583781</td>\n",
       "      <td>0.892826</td>\n",
       "      <td>0.559037</td>\n",
       "      <td>0.621364</td>\n",
       "      <td>00:39</td>\n",
       "    </tr>\n",
       "    <tr>\n",
       "      <td>5</td>\n",
       "      <td>0.586725</td>\n",
       "      <td>0.862940</td>\n",
       "      <td>0.563622</td>\n",
       "      <td>0.636794</td>\n",
       "      <td>00:39</td>\n",
       "    </tr>\n",
       "    <tr>\n",
       "      <td>6</td>\n",
       "      <td>0.585619</td>\n",
       "      <td>0.834170</td>\n",
       "      <td>0.557509</td>\n",
       "      <td>0.615605</td>\n",
       "      <td>00:39</td>\n",
       "    </tr>\n",
       "    <tr>\n",
       "      <td>7</td>\n",
       "      <td>0.584336</td>\n",
       "      <td>0.854507</td>\n",
       "      <td>0.556744</td>\n",
       "      <td>0.614719</td>\n",
       "      <td>00:39</td>\n",
       "    </tr>\n",
       "    <tr>\n",
       "      <td>8</td>\n",
       "      <td>0.587274</td>\n",
       "      <td>0.861329</td>\n",
       "      <td>0.558273</td>\n",
       "      <td>0.617872</td>\n",
       "      <td>00:38</td>\n",
       "    </tr>\n",
       "    <tr>\n",
       "      <td>9</td>\n",
       "      <td>0.590512</td>\n",
       "      <td>0.892578</td>\n",
       "      <td>0.559037</td>\n",
       "      <td>0.635838</td>\n",
       "      <td>00:37</td>\n",
       "    </tr>\n",
       "    <tr>\n",
       "      <td>10</td>\n",
       "      <td>0.585092</td>\n",
       "      <td>0.874130</td>\n",
       "      <td>0.561712</td>\n",
       "      <td>0.636376</td>\n",
       "      <td>00:37</td>\n",
       "    </tr>\n",
       "    <tr>\n",
       "      <td>11</td>\n",
       "      <td>0.583231</td>\n",
       "      <td>0.912239</td>\n",
       "      <td>0.558273</td>\n",
       "      <td>0.619421</td>\n",
       "      <td>00:37</td>\n",
       "    </tr>\n",
       "    <tr>\n",
       "      <td>12</td>\n",
       "      <td>0.585658</td>\n",
       "      <td>0.906168</td>\n",
       "      <td>0.563240</td>\n",
       "      <td>0.636919</td>\n",
       "      <td>00:37</td>\n",
       "    </tr>\n",
       "    <tr>\n",
       "      <td>13</td>\n",
       "      <td>0.574147</td>\n",
       "      <td>0.871311</td>\n",
       "      <td>0.556744</td>\n",
       "      <td>0.616992</td>\n",
       "      <td>00:37</td>\n",
       "    </tr>\n",
       "    <tr>\n",
       "      <td>14</td>\n",
       "      <td>0.587152</td>\n",
       "      <td>0.929259</td>\n",
       "      <td>0.558273</td>\n",
       "      <td>0.618449</td>\n",
       "      <td>00:37</td>\n",
       "    </tr>\n",
       "  </tbody>\n",
       "</table>"
      ],
      "text/plain": [
       "<IPython.core.display.HTML object>"
      ]
     },
     "metadata": {},
     "output_type": "display_data"
    }
   ],
   "source": [
    "learner.fit_one_cycle(15, slice(5e-7, 5e-6))"
   ]
  },
  {
   "cell_type": "code",
   "execution_count": 53,
   "metadata": {},
   "outputs": [],
   "source": [
    "learner.save('image_droput_0.25-3')"
   ]
  },
  {
   "cell_type": "code",
   "execution_count": 13,
   "metadata": {},
   "outputs": [],
   "source": [
    "learner.load('image_droput_0.25-3');"
   ]
  },
  {
   "cell_type": "code",
   "execution_count": null,
   "metadata": {},
   "outputs": [],
   "source": []
  }
 ],
 "metadata": {
  "kernelspec": {
   "display_name": "Python 3",
   "language": "python",
   "name": "python3"
  },
  "language_info": {
   "codemirror_mode": {
    "name": "ipython",
    "version": 3
   },
   "file_extension": ".py",
   "mimetype": "text/x-python",
   "name": "python",
   "nbconvert_exporter": "python",
   "pygments_lexer": "ipython3",
   "version": "3.6.8"
  }
 },
 "nbformat": 4,
 "nbformat_minor": 2
}
