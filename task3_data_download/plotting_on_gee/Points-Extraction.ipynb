{
 "cells": [
  {
   "cell_type": "code",
   "execution_count": 1,
   "metadata": {},
   "outputs": [],
   "source": [
    "import pandas as pd\n",
    "import json"
   ]
  },
  {
   "cell_type": "code",
   "execution_count": 2,
   "metadata": {},
   "outputs": [],
   "source": [
    "RICE_IDS = ['B101', 'B102', 'B103']\n",
    "WHEAT_IDS = ['B104']\n",
    "X_COORD = 'coord_obs_x'\n",
    "Y_COORD = 'coord_obs_y'"
   ]
  },
  {
   "cell_type": "code",
   "execution_count": 3,
   "metadata": {},
   "outputs": [],
   "source": [
    "def filter_na_coords(df):\n",
    "    return df[~(df[X_COORD].isna() & df[Y_COORD].isna())]"
   ]
  },
  {
   "cell_type": "code",
   "execution_count": 4,
   "metadata": {},
   "outputs": [],
   "source": [
    "data = pd.read_excel('data/point_survey_v1.xlsx')"
   ]
  },
  {
   "cell_type": "code",
   "execution_count": 5,
   "metadata": {},
   "outputs": [
    {
     "data": {
      "text/html": [
       "<div>\n",
       "<style scoped>\n",
       "    .dataframe tbody tr th:only-of-type {\n",
       "        vertical-align: middle;\n",
       "    }\n",
       "\n",
       "    .dataframe tbody tr th {\n",
       "        vertical-align: top;\n",
       "    }\n",
       "\n",
       "    .dataframe thead th {\n",
       "        text-align: right;\n",
       "    }\n",
       "</style>\n",
       "<table border=\"1\" class=\"dataframe\">\n",
       "  <thead>\n",
       "    <tr style=\"text-align: right;\">\n",
       "      <th></th>\n",
       "      <th>district</th>\n",
       "      <th>segment_id</th>\n",
       "      <th>point_id</th>\n",
       "      <th>point_code</th>\n",
       "      <th>su_id</th>\n",
       "      <th>su_date</th>\n",
       "      <th>su_date_year</th>\n",
       "      <th>su_date_month</th>\n",
       "      <th>su_date_day</th>\n",
       "      <th>start_time</th>\n",
       "      <th>...</th>\n",
       "      <th>harvest</th>\n",
       "      <th>harvest_qualifier</th>\n",
       "      <th>d_harv</th>\n",
       "      <th>irrig</th>\n",
       "      <th>lc_remark</th>\n",
       "      <th>photo</th>\n",
       "      <th>remarks</th>\n",
       "      <th>entry_loc</th>\n",
       "      <th>entry_loc_qualifier</th>\n",
       "      <th>end_time</th>\n",
       "    </tr>\n",
       "  </thead>\n",
       "  <tbody>\n",
       "    <tr>\n",
       "      <th>0</th>\n",
       "      <td>42</td>\n",
       "      <td>621</td>\n",
       "      <td>1</td>\n",
       "      <td>42-621-1</td>\n",
       "      <td>D2</td>\n",
       "      <td>2016-11-10</td>\n",
       "      <td>2016</td>\n",
       "      <td>11</td>\n",
       "      <td>10</td>\n",
       "      <td>15:40:00</td>\n",
       "      <td>...</td>\n",
       "      <td>2.0</td>\n",
       "      <td>NaN</td>\n",
       "      <td>2017-02-15 00:00:00</td>\n",
       "      <td>2.0</td>\n",
       "      <td>NaN</td>\n",
       "      <td>5402_37.jpg</td>\n",
       "      <td>NaN</td>\n",
       "      <td>1</td>\n",
       "      <td>NaN</td>\n",
       "      <td>15:43:00</td>\n",
       "    </tr>\n",
       "    <tr>\n",
       "      <th>1</th>\n",
       "      <td>42</td>\n",
       "      <td>621</td>\n",
       "      <td>2</td>\n",
       "      <td>42-621-2</td>\n",
       "      <td>D2</td>\n",
       "      <td>2016-11-10</td>\n",
       "      <td>2016</td>\n",
       "      <td>11</td>\n",
       "      <td>10</td>\n",
       "      <td>15:50:00</td>\n",
       "      <td>...</td>\n",
       "      <td>NaN</td>\n",
       "      <td>NaN</td>\n",
       "      <td>null/null/null</td>\n",
       "      <td>NaN</td>\n",
       "      <td>River (flooded area)</td>\n",
       "      <td>5442_37.jpg</td>\n",
       "      <td>River bank</td>\n",
       "      <td>1</td>\n",
       "      <td>NaN</td>\n",
       "      <td>15:52:00</td>\n",
       "    </tr>\n",
       "    <tr>\n",
       "      <th>2</th>\n",
       "      <td>42</td>\n",
       "      <td>621</td>\n",
       "      <td>3</td>\n",
       "      <td>42-621-3</td>\n",
       "      <td>D1</td>\n",
       "      <td>2016-11-10</td>\n",
       "      <td>2016</td>\n",
       "      <td>11</td>\n",
       "      <td>10</td>\n",
       "      <td>15:35:00</td>\n",
       "      <td>...</td>\n",
       "      <td>1.0</td>\n",
       "      <td>NaN</td>\n",
       "      <td>2016-10-25 00:00:00</td>\n",
       "      <td>1.0</td>\n",
       "      <td>NaN</td>\n",
       "      <td>5159_37.jpg</td>\n",
       "      <td>NaN</td>\n",
       "      <td>1</td>\n",
       "      <td>NaN</td>\n",
       "      <td>15:37:00</td>\n",
       "    </tr>\n",
       "    <tr>\n",
       "      <th>3</th>\n",
       "      <td>42</td>\n",
       "      <td>621</td>\n",
       "      <td>4</td>\n",
       "      <td>42-621-4</td>\n",
       "      <td>D1</td>\n",
       "      <td>2016-11-10</td>\n",
       "      <td>2016</td>\n",
       "      <td>11</td>\n",
       "      <td>10</td>\n",
       "      <td>15:42:00</td>\n",
       "      <td>...</td>\n",
       "      <td>NaN</td>\n",
       "      <td>NaN</td>\n",
       "      <td>null/null/null</td>\n",
       "      <td>NaN</td>\n",
       "      <td>River</td>\n",
       "      <td>5199_37.jpg</td>\n",
       "      <td>NaN</td>\n",
       "      <td>1</td>\n",
       "      <td>NaN</td>\n",
       "      <td>15:44:00</td>\n",
       "    </tr>\n",
       "    <tr>\n",
       "      <th>4</th>\n",
       "      <td>42</td>\n",
       "      <td>645</td>\n",
       "      <td>1</td>\n",
       "      <td>42-645-1</td>\n",
       "      <td>D2</td>\n",
       "      <td>2016-11-10</td>\n",
       "      <td>2016</td>\n",
       "      <td>11</td>\n",
       "      <td>10</td>\n",
       "      <td>14:15:00</td>\n",
       "      <td>...</td>\n",
       "      <td>NaN</td>\n",
       "      <td>NaN</td>\n",
       "      <td>null/null/null</td>\n",
       "      <td>NaN</td>\n",
       "      <td>NaN</td>\n",
       "      <td>5322_37.jpg</td>\n",
       "      <td>NaN</td>\n",
       "      <td>1</td>\n",
       "      <td>NaN</td>\n",
       "      <td>14:17:00</td>\n",
       "    </tr>\n",
       "  </tbody>\n",
       "</table>\n",
       "<p>5 rows × 59 columns</p>\n",
       "</div>"
      ],
      "text/plain": [
       "   district  segment_id  point_id point_code su_id    su_date  su_date_year  \\\n",
       "0        42         621         1   42-621-1    D2 2016-11-10          2016   \n",
       "1        42         621         2   42-621-2    D2 2016-11-10          2016   \n",
       "2        42         621         3   42-621-3    D1 2016-11-10          2016   \n",
       "3        42         621         4   42-621-4    D1 2016-11-10          2016   \n",
       "4        42         645         1   42-645-1    D2 2016-11-10          2016   \n",
       "\n",
       "   su_date_month  su_date_day start_time    ...     harvest  \\\n",
       "0             11           10   15:40:00    ...         2.0   \n",
       "1             11           10   15:50:00    ...         NaN   \n",
       "2             11           10   15:35:00    ...         1.0   \n",
       "3             11           10   15:42:00    ...         NaN   \n",
       "4             11           10   14:15:00    ...         NaN   \n",
       "\n",
       "   harvest_qualifier               d_harv  irrig             lc_remark  \\\n",
       "0                NaN  2017-02-15 00:00:00    2.0                   NaN   \n",
       "1                NaN       null/null/null    NaN  River (flooded area)   \n",
       "2                NaN  2016-10-25 00:00:00    1.0                   NaN   \n",
       "3                NaN       null/null/null    NaN                 River   \n",
       "4                NaN       null/null/null    NaN                   NaN   \n",
       "\n",
       "         photo     remarks entry_loc entry_loc_qualifier  end_time  \n",
       "0  5402_37.jpg         NaN         1                 NaN  15:43:00  \n",
       "1  5442_37.jpg  River bank         1                 NaN  15:52:00  \n",
       "2  5159_37.jpg         NaN         1                 NaN  15:37:00  \n",
       "3  5199_37.jpg         NaN         1                 NaN  15:44:00  \n",
       "4  5322_37.jpg         NaN         1                 NaN  14:17:00  \n",
       "\n",
       "[5 rows x 59 columns]"
      ]
     },
     "execution_count": 5,
     "metadata": {},
     "output_type": "execute_result"
    }
   ],
   "source": [
    "data.head()"
   ]
  },
  {
   "cell_type": "code",
   "execution_count": 6,
   "metadata": {},
   "outputs": [
    {
     "data": {
      "text/plain": [
       "(1585, 59)"
      ]
     },
     "execution_count": 6,
     "metadata": {},
     "output_type": "execute_result"
    }
   ],
   "source": [
    "data.shape"
   ]
  },
  {
   "cell_type": "code",
   "execution_count": 7,
   "metadata": {},
   "outputs": [],
   "source": [
    "rice_rows = data[data['lc_code1'].isin(RICE_IDS)]\n",
    "wheat_rows = data[data['lc_code1'].isin(WHEAT_IDS)]\n",
    "other_rows = data[~data['lc_code1'].isin(RICE_IDS + WHEAT_IDS)]"
   ]
  },
  {
   "cell_type": "code",
   "execution_count": 8,
   "metadata": {},
   "outputs": [
    {
     "data": {
      "text/plain": [
       "(392, 20, 1173)"
      ]
     },
     "execution_count": 8,
     "metadata": {},
     "output_type": "execute_result"
    }
   ],
   "source": [
    "len(rice_rows), len(wheat_rows), len(other_rows)"
   ]
  },
  {
   "cell_type": "code",
   "execution_count": 9,
   "metadata": {},
   "outputs": [],
   "source": [
    "rice_filtered_coords = filter_na_coords(rice_rows)[[X_COORD, Y_COORD]]\n",
    "wheat_filtered_coords = filter_na_coords(wheat_rows)[[X_COORD, Y_COORD]]\n",
    "other_filtered_coords = filter_na_coords(other_rows)[[X_COORD, Y_COORD]]"
   ]
  },
  {
   "cell_type": "code",
   "execution_count": 10,
   "metadata": {},
   "outputs": [
    {
     "data": {
      "text/plain": [
       "(389, 18, 1162)"
      ]
     },
     "execution_count": 10,
     "metadata": {},
     "output_type": "execute_result"
    }
   ],
   "source": [
    "len(rice_filtered_coords), len(wheat_filtered_coords), len(other_filtered_coords)"
   ]
  },
  {
   "cell_type": "code",
   "execution_count": 11,
   "metadata": {},
   "outputs": [],
   "source": [
    "points_map = {'rice': rice_filtered_coords.values.tolist(), \n",
    "              'wheat': wheat_filtered_coords.values.tolist(),\n",
    "              'other': other_filtered_coords.values.tolist()\n",
    "             }"
   ]
  },
  {
   "cell_type": "code",
   "execution_count": 12,
   "metadata": {},
   "outputs": [],
   "source": [
    "json.dump(points_map, open('nepal_points.json', 'w'))"
   ]
  },
  {
   "cell_type": "code",
   "execution_count": null,
   "metadata": {},
   "outputs": [],
   "source": []
  }
 ],
 "metadata": {
  "kernelspec": {
   "display_name": "Python 3",
   "language": "python",
   "name": "python3"
  },
  "language_info": {
   "codemirror_mode": {
    "name": "ipython",
    "version": 3
   },
   "file_extension": ".py",
   "mimetype": "text/x-python",
   "name": "python",
   "nbconvert_exporter": "python",
   "pygments_lexer": "ipython3",
   "version": "3.6.8"
  }
 },
 "nbformat": 4,
 "nbformat_minor": 2
}
