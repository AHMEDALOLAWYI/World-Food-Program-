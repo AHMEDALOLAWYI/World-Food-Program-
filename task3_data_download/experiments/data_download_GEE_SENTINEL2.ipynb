{
 "cells": [
  {
   "cell_type": "code",
   "execution_count": 1,
   "metadata": {
    "ExecuteTime": {
     "end_time": "2019-06-20T16:10:41.598330Z",
     "start_time": "2019-06-20T16:10:39.909501Z"
    }
   },
   "outputs": [],
   "source": [
    "import pandas as pd\n",
    "import ee\n",
    "from collections import defaultdict\n",
    "import numpy as np\n",
    "import datetime\n",
    "ee.Initialize()\n"
   ]
  },
  {
   "cell_type": "markdown",
   "metadata": {},
   "source": [
    "# Parameters"
   ]
  },
  {
   "cell_type": "code",
   "execution_count": 2,
   "metadata": {
    "ExecuteTime": {
     "end_time": "2019-06-20T16:10:41.603373Z",
     "start_time": "2019-06-20T16:10:41.599546Z"
    }
   },
   "outputs": [],
   "source": [
    "# LOCATION OF CSV FILE\n",
    "DATA = 'data/'\n",
    "\n",
    "# Download only pictures of rice and wheat\n",
    "DOWNLOAD_ONLY_POSITIVE_EXAMPLE = True\n",
    "\n",
    "# NUMBER OF FILES TO DOWNLOAD\n",
    "# Comment to download ALL\n",
    "DOWNLOAD_NB_FILES = 3\n",
    "\n",
    "# RADIUS AROUND COORD IN METERS\n",
    "# This is the number of meter around the point coordinate to include in the picture\n",
    "RADIUS_AROUND = 200\n",
    "\n",
    "# RANGES FOR BANDS\n",
    "# Values tested on different location in nepal\n",
    "# Hypothesis: Should be the same for all images\n",
    "RANGE_MIN = 0\n",
    "RANGE_MAX = 2000\n",
    "\n",
    "# RANGE FOR DATES\n",
    "# CSV shows one date per observation.\n",
    "# However, we need to take several pictures to select ones without clouds\n",
    "# We look for RANDE_DATE weeks around the date\n",
    "RANDE_DATE = 4\n",
    "\n",
    "# GOOGLE DRIVE FOLDER\n",
    "GDRIVE_FOLDER = 'wfp'"
   ]
  },
  {
   "cell_type": "markdown",
   "metadata": {},
   "source": [
    "# Import CSV data a nd remove NaNs"
   ]
  },
  {
   "cell_type": "code",
   "execution_count": 3,
   "metadata": {
    "ExecuteTime": {
     "end_time": "2019-06-20T16:10:41.625151Z",
     "start_time": "2019-06-20T16:10:41.604728Z"
    }
   },
   "outputs": [
    {
     "name": "stdout",
     "output_type": "stream",
     "text": [
      "Len of input data: 1585\n"
     ]
    }
   ],
   "source": [
    "df = pd.read_csv(DATA+'point_survey_v1.csv')\n",
    "print(f'Len of input data: {len(df)}')"
   ]
  },
  {
   "cell_type": "code",
   "execution_count": 4,
   "metadata": {
    "ExecuteTime": {
     "end_time": "2019-06-20T16:10:41.629496Z",
     "start_time": "2019-06-20T16:10:41.626308Z"
    }
   },
   "outputs": [],
   "source": [
    "columns_suggestion = ['index', 'coord_obs_x', 'coord_obs_y', 'lc_code1', 'su_date']\n",
    "codes_monitored_crops = ['B101', 'B102', 'B103', 'B104']\n",
    "df = df.reset_index()"
   ]
  },
  {
   "cell_type": "code",
   "execution_count": 5,
   "metadata": {
    "ExecuteTime": {
     "end_time": "2019-06-20T16:10:41.635724Z",
     "start_time": "2019-06-20T16:10:41.630549Z"
    }
   },
   "outputs": [],
   "source": [
    "df = df[columns_suggestion]"
   ]
  },
  {
   "cell_type": "code",
   "execution_count": 6,
   "metadata": {
    "ExecuteTime": {
     "end_time": "2019-06-20T16:10:41.643780Z",
     "start_time": "2019-06-20T16:10:41.636742Z"
    }
   },
   "outputs": [
    {
     "name": "stdout",
     "output_type": "stream",
     "text": [
      "size df 1585\n",
      "Number of NaN for index: 0\n",
      "Number of NaN for coord_obs_x: 16\n",
      "Number of NaN for coord_obs_y: 16\n",
      "Number of NaN for lc_code1: 136\n",
      "Number of NaN for su_date: 0\n"
     ]
    }
   ],
   "source": [
    "print(f'size df {len(df)}')\n",
    "for col in columns_suggestion:\n",
    "    print(f'Number of NaN for {col}: {df[col].isna().sum()}')"
   ]
  },
  {
   "cell_type": "code",
   "execution_count": 7,
   "metadata": {
    "ExecuteTime": {
     "end_time": "2019-06-20T16:10:41.673704Z",
     "start_time": "2019-06-20T16:10:41.644870Z"
    }
   },
   "outputs": [],
   "source": [
    "df.dropna(inplace=True)"
   ]
  },
  {
   "cell_type": "code",
   "execution_count": 8,
   "metadata": {
    "ExecuteTime": {
     "end_time": "2019-06-20T16:10:41.679081Z",
     "start_time": "2019-06-20T16:10:41.674887Z"
    }
   },
   "outputs": [
    {
     "name": "stdout",
     "output_type": "stream",
     "text": [
      "size df 1433\n",
      "Number of NaN for index: 0\n",
      "Number of NaN for coord_obs_x: 0\n",
      "Number of NaN for coord_obs_y: 0\n",
      "Number of NaN for lc_code1: 0\n",
      "Number of NaN for su_date: 0\n"
     ]
    }
   ],
   "source": [
    "print(f'size df {len(df)}')\n",
    "for col in columns_suggestion:\n",
    "    print(f'Number of NaN for {col}: {df[col].isna().sum()}')"
   ]
  },
  {
   "cell_type": "code",
   "execution_count": 9,
   "metadata": {
    "ExecuteTime": {
     "end_time": "2019-06-20T16:10:41.685307Z",
     "start_time": "2019-06-20T16:10:41.680123Z"
    }
   },
   "outputs": [],
   "source": [
    "\n",
    "name_map = defaultdict(lambda: 'other')\n",
    "\n",
    "name_map['B104'] = 'wheat'\n",
    "name_map['B101'] = 'rice'\n",
    "name_map['B102'] = 'rice'\n",
    "\n",
    "df['type'] = df['lc_code1'].apply(lambda x: name_map[x])\n",
    "if DOWNLOAD_ONLY_POSITIVE_EXAMPLE:\n",
    "    df = df[df['type'] != 'other']"
   ]
  },
  {
   "cell_type": "code",
   "execution_count": null,
   "metadata": {
    "ExecuteTime": {
     "end_time": "2019-06-20T16:09:36.465747Z",
     "start_time": "2019-06-20T16:09:34.684Z"
    }
   },
   "outputs": [],
   "source": []
  },
  {
   "cell_type": "code",
   "execution_count": 10,
   "metadata": {
    "ExecuteTime": {
     "end_time": "2019-06-20T16:10:41.697909Z",
     "start_time": "2019-06-20T16:10:41.686544Z"
    }
   },
   "outputs": [
    {
     "data": {
      "text/plain": [
       "rice     389\n",
       "wheat     18\n",
       "Name: type, dtype: int64"
      ]
     },
     "execution_count": 10,
     "metadata": {},
     "output_type": "execute_result"
    }
   ],
   "source": [
    "df['type'].value_counts()"
   ]
  },
  {
   "cell_type": "markdown",
   "metadata": {},
   "source": [
    "# Google Earth Engine download\n"
   ]
  },
  {
   "cell_type": "code",
   "execution_count": 11,
   "metadata": {
    "ExecuteTime": {
     "end_time": "2019-06-20T16:10:41.703140Z",
     "start_time": "2019-06-20T16:10:41.700623Z"
    }
   },
   "outputs": [],
   "source": [
    "dataset = ee.ImageCollection('COPERNICUS/S2')\\\n",
    "    .filterDate('2016-10-01', '2016-11-30')\\\n",
    "    .select(['B4', 'B3', 'B2'])"
   ]
  },
  {
   "cell_type": "code",
   "execution_count": 12,
   "metadata": {
    "ExecuteTime": {
     "end_time": "2019-06-20T16:10:41.740350Z",
     "start_time": "2019-06-20T16:10:41.704576Z"
    }
   },
   "outputs": [],
   "source": [
    "# Create list with a tuple per point: File name - x - y - date\n",
    "coords = [(str(point[1][0])+'-'+str(point[1][3]), point[1][1], point[1][2], point[1][4]) for point in df.loc[:, ['index', 'coord_obs_x', 'coord_obs_y', 'lc_code1', 'su_date']].iterrows()]"
   ]
  },
  {
   "cell_type": "code",
   "execution_count": 13,
   "metadata": {
    "ExecuteTime": {
     "end_time": "2019-06-20T16:10:41.748419Z",
     "start_time": "2019-06-20T16:10:41.741632Z"
    }
   },
   "outputs": [
    {
     "data": {
      "text/plain": [
       "('2-B102', 84.28578211, 27.42716335, '10/11/2016')"
      ]
     },
     "execution_count": 13,
     "metadata": {},
     "output_type": "execute_result"
    }
   ],
   "source": [
    "# File name - x - y - date\n",
    "coords[0]"
   ]
  },
  {
   "cell_type": "code",
   "execution_count": 14,
   "metadata": {
    "ExecuteTime": {
     "end_time": "2019-06-20T16:10:41.754028Z",
     "start_time": "2019-06-20T16:10:41.749455Z"
    }
   },
   "outputs": [],
   "source": [
    "# Generate a rectangle containing the circle (centered on the coordinate) with radius RADIUS_AROUND\n",
    "def get_geometry_radius(geometry_point):\n",
    "    coord = np.array(geometry_point.getInfo()['coordinates'][0])\n",
    "    return ee.Geometry.Rectangle([coord[:, 0].min(), coord[:, 1].min(), coord[:, 0].max(), coord[:, 1].max()])\n",
    "\n",
    "# Generate the dates around the observation date\n",
    "def date_range_to_collect(input_date):\n",
    "  d, m, y = input_date.split('/')\n",
    "  observation_date = datetime.date(int(y), int(m), int(d))\n",
    "  delta = datetime.timedelta(weeks=RANDE_DATE)\n",
    "  return observation_date-delta, observation_date+delta\n",
    "\n",
    "def generate_image(image_collection, x, y, date, image_name, debug=True):\n",
    "    if debug: print(f'Working on {image_name}: ({x}, {y}) on {date}')\n",
    "    geo = ee.Geometry.Point(x, y);\n",
    "    radius = geo.buffer(RADIUS_AROUND);\n",
    "    geometry_radius= get_geometry_radius(radius)\n",
    "    \n",
    "    spatialFiltered = image_collection.filterBounds(geo)\n",
    "\n",
    "    date_range = date_range_to_collect(date)\n",
    "    if debug: print('date range:' + str(date_range[0]) + str(date_range[1]))\n",
    "    temporalFiltered = spatialFiltered.filterDate(str(date_range[0]), str(date_range[1]))\n",
    "\n",
    "    # The darker pixels have the least clouds\n",
    "    least_clouds = temporalFiltered.min()\n",
    "\n",
    "    testimg = least_clouds.visualize(bands=['B4', 'B3', 'B2'], min=RANGE_MIN, max=RANGE_MAX)\n",
    "\n",
    "    task = ee.batch.Export.image.toDrive(testimg, folder=GDRIVE_FOLDER, region=geometry_radius.getInfo()['coordinates'][0], description=image_name, scale=10)\n",
    "    task.start()\n"
   ]
  },
  {
   "cell_type": "code",
   "execution_count": 15,
   "metadata": {
    "ExecuteTime": {
     "end_time": "2019-06-20T16:10:55.606790Z",
     "start_time": "2019-06-20T16:10:41.755148Z"
    }
   },
   "outputs": [
    {
     "name": "stdout",
     "output_type": "stream",
     "text": [
      "Working on 2-B102: (84.28578211, 27.42716335) on 10/11/2016\n",
      "date range:2016-10-132016-12-08\n",
      "Working on 6-B102: (84.40694692, 27.42943646) on 10/11/2016\n",
      "date range:2016-10-132016-12-08\n",
      "Working on 7-B102: (84.40851276, 27.42944815) on 10/11/2016\n",
      "date range:2016-10-132016-12-08\n",
      "Working on 12-B102: (84.31585037, 27.43806162) on 09/11/2016\n",
      "date range:2016-10-122016-12-07\n"
     ]
    }
   ],
   "source": [
    "dataset_collection = ee.ImageCollection('COPERNICUS/S2')\n",
    "\n",
    "\n",
    "for i, point in enumerate(coords):\n",
    "    if i > DOWNLOAD_NB_FILES:\n",
    "        break\n",
    "    generate_image(dataset_collection, point[1], point[2], point[3], point[0])"
   ]
  }
 ],
 "metadata": {
  "kernelspec": {
   "display_name": "Python 3",
   "language": "python",
   "name": "python3"
  },
  "language_info": {
   "codemirror_mode": {
    "name": "ipython",
    "version": 3
   },
   "file_extension": ".py",
   "mimetype": "text/x-python",
   "name": "python",
   "nbconvert_exporter": "python",
   "pygments_lexer": "ipython3",
   "version": "3.6.8"
  }
 },
 "nbformat": 4,
 "nbformat_minor": 2
}
