{
 "cells": [
  {
   "cell_type": "markdown",
   "metadata": {},
   "source": [
    "## Megatools\n",
    "We shall be abusing Mega.NZ :) 50GB worth of storage for free !\n",
    "This is where we can potentially share datasets and model weights."
   ]
  },
  {
   "cell_type": "code",
   "execution_count": null,
   "metadata": {},
   "outputs": [],
   "source": [
    "! wget https://megatools.megous.com/builds/megatools-1.10.2.tar.gz\n",
    "!tar xzvf megatools-1.10.2.tar.gz\n",
    "%cd megatools-1.10.2"
   ]
  },
  {
   "cell_type": "markdown",
   "metadata": {},
   "source": [
    "These are the under dependencies I had to download, it may vary depending on what you already have. In any case, if the `./configure` step tells you that you lack something, you know what to do. IIRC `openssl`, the second dependency down below varies according to your OS, so you might have to choose the right one. Installing the below might take a while, this could perhaps be a good time to brew a pot of tea.\n",
    "\n",
    "See : https://superuser.com/questions/371901/openssl-missing-during-configure-how-to-fix"
   ]
  },
  {
   "cell_type": "code",
   "execution_count": null,
   "metadata": {},
   "outputs": [],
   "source": [
    "# !sudo apt-get install asciidoc\n",
    "# !sudo apt-get install libssl-dev"
   ]
  },
  {
   "cell_type": "code",
   "execution_count": null,
   "metadata": {},
   "outputs": [],
   "source": [
    "!./configure --prefix=$HOME/.local\n",
    "! make -j4\n",
    "! make install"
   ]
  },
  {
   "cell_type": "markdown",
   "metadata": {},
   "source": [
    "The stuff with a `mega` prefix are the things that you can call.\n",
    "Documentation : https://megatools.megous.com/man/megatools.html\n",
    "\n",
    "On a side note, I need some help with adding the folder to the system path to make things easier, I am not sure if I was just incompetent but I couldn't make it work."
   ]
  },
  {
   "cell_type": "code",
   "execution_count": 16,
   "metadata": {},
   "outputs": [
    {
     "name": "stdout",
     "output_type": "stream",
     "text": [
      "__pycache__  megacopy  megals\t  megarm\t    powerline-daemon  uvicorn\r\n",
      "f2py\t     megadf    megamkdir  plac_runner.py    powerline-lint\r\n",
      "f2py3\t     megadl    megaput\t  powerline\t    powerline-render\r\n",
      "f2py3.6      megaget   megareg\t  powerline-config  spacy\r\n"
     ]
    }
   ],
   "source": [
    "!ls ~/.local/bin/"
   ]
  },
  {
   "cell_type": "markdown",
   "metadata": {},
   "source": [
    "For our purposes, let's use my account for everything from here on out. :). You have to include `--username jamesjuanwhei.tan@taylorssj.com --password omdenafwp` at the end of each call, unless you mess with the configs which I was lazy to do"
   ]
  },
  {
   "cell_type": "markdown",
   "metadata": {},
   "source": [
    "You recognise `ls`."
   ]
  },
  {
   "cell_type": "code",
   "execution_count": 13,
   "metadata": {
    "scrolled": true
   },
   "outputs": [
    {
     "name": "stdout",
     "output_type": "stream",
     "text": [
      "/Contacts\r\n",
      "/Inbox\r\n",
      "/Root\r\n",
      "/Root/Datasets\r\n",
      "/Root/Datasets/img.jpg\r\n",
      "/Trash\r\n"
     ]
    }
   ],
   "source": [
    "!~/.local/bin/megals --username jamesjuanwhei.tan@taylorssj.com --password omdenafwp"
   ]
  },
  {
   "cell_type": "markdown",
   "metadata": {},
   "source": [
    "You recognise `mkdir`."
   ]
  },
  {
   "cell_type": "code",
   "execution_count": 17,
   "metadata": {},
   "outputs": [],
   "source": [
    "!~/.local/bin/megamkdir /Root/Datasets/SuperRes --username jamesjuanwhei.tan@taylorssj.com --password omdenafwp"
   ]
  },
  {
   "cell_type": "markdown",
   "metadata": {},
   "source": [
    "`put` uploads a single file to a designated path."
   ]
  },
  {
   "cell_type": "code",
   "execution_count": 24,
   "metadata": {},
   "outputs": [
    {
     "name": "stdout",
     "output_type": "stream",
     "text": [
      "\u001b[0KUploaded Test_Images_SuperRes.zip\u001b[33;1m100.00%\u001b[0m - done \u001b[32;1m7.2 MiB\u001b[0m (avg. 2.0 MiB/s)\u001b[0K MiB\u001b[0m (4.2 MiB/s)\u001b[0K\n"
     ]
    }
   ],
   "source": [
    "!~/.local/bin/megaput ../Test_Images_SuperRes.zip --path /Root/Datasets/SuperRes/test_images.zip --username jamesjuanwhei.tan@taylorssj.com --password omdenafwp"
   ]
  },
  {
   "cell_type": "markdown",
   "metadata": {},
   "source": [
    "So its there now!"
   ]
  },
  {
   "cell_type": "code",
   "execution_count": 1,
   "metadata": {},
   "outputs": [
    {
     "name": "stdout",
     "output_type": "stream",
     "text": [
      "/Contacts\r\n",
      "/Inbox\r\n",
      "/Root\r\n",
      "/Root/Datasets\r\n",
      "/Root/Datasets/SuperRes\r\n",
      "/Root/Datasets/SuperRes/cropped-130-nearest.tar.gz\r\n",
      "/Root/Datasets/SuperRes/highres-2000.tar.gz\r\n",
      "/Root/Datasets/SuperRes/test_images.zip\r\n",
      "/Root/Datasets/img.jpg\r\n",
      "/Trash\r\n",
      "/Trash/Test_Images_SuperRes.zip\r\n"
     ]
    }
   ],
   "source": [
    "!~/.local/bin/megals --username jamesjuanwhei.tan@taylorssj.com --password omdenafwp"
   ]
  },
  {
   "cell_type": "code",
   "execution_count": 17,
   "metadata": {
    "scrolled": true
   },
   "outputs": [
    {
     "name": "stdout",
     "output_type": "stream",
     "text": [
      "\u001b[0KDownloaded test_images.zip33;1m16.23%\u001b[0m - \u001b[32;1m1.2 MiB (1226368 bytes)\u001b[34;1m of 7.2 MiB\u001b[0m (1.2 MiB/s)\u001b[0K\n"
     ]
    }
   ],
   "source": [
    "# %cd ..\n",
    "!~/.local/bin/megaget /Root/Datasets/SuperRes/test_images.zip --username jamesjuanwhei.tan@taylorssj.com --password omdenafwp\n"
   ]
  },
  {
   "cell_type": "code",
   "execution_count": 18,
   "metadata": {
    "scrolled": true
   },
   "outputs": [
    {
     "name": "stdout",
     "output_type": "stream",
     "text": [
      "Megatools.ipynb  test_images.zip\r\n"
     ]
    }
   ],
   "source": [
    "!ls"
   ]
  },
  {
   "cell_type": "markdown",
   "metadata": {},
   "source": [
    "Awesome we have the file now."
   ]
  }
 ],
 "metadata": {
  "kernelspec": {
   "display_name": "Python 3",
   "language": "python",
   "name": "python3"
  },
  "language_info": {
   "codemirror_mode": {
    "name": "ipython",
    "version": 3
   },
   "file_extension": ".py",
   "mimetype": "text/x-python",
   "name": "python",
   "nbconvert_exporter": "python",
   "pygments_lexer": "ipython3",
   "version": "3.7.3"
  }
 },
 "nbformat": 4,
 "nbformat_minor": 2
}
